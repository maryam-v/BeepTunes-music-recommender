{
 "cells": [
  {
   "cell_type": "code",
   "execution_count": 1,
   "metadata": {},
   "outputs": [],
   "source": [
    "import pandas as pd\n",
    "import numpy  as np"
   ]
  },
  {
   "cell_type": "code",
   "execution_count": 3,
   "metadata": {},
   "outputs": [],
   "source": [
    "artist_like_df = pd.read_csv('./outputs/artist_like_df.csv')\n",
    "track_info_df = pd.read_csv('./outputs/track_info_df.csv')"
   ]
  },
  {
   "cell_type": "code",
   "execution_count": 4,
   "metadata": {},
   "outputs": [
    {
     "name": "stdout",
     "output_type": "stream",
     "text": [
      "number of total unique artists: 16045\n"
     ]
    }
   ],
   "source": [
    "unique_artists = np.unique(np.concatenate((artist_like_df['ARTIST_ID'].values,track_info_df['ARTIST_ID'].values),0))\n",
    "print('number of total unique artists:',unique_artists.shape[0])"
   ]
  },
  {
   "cell_type": "code",
   "execution_count": 5,
   "metadata": {},
   "outputs": [],
   "source": [
    "artist_info = pd.DataFrame(columns=['ARTIST_ID','noLikes','noTracks','noAlbums'])"
   ]
  },
  {
   "cell_type": "code",
   "execution_count": 6,
   "metadata": {},
   "outputs": [],
   "source": [
    "artist_info['ARTIST_ID'] = unique_artists"
   ]
  },
  {
   "cell_type": "code",
   "execution_count": 7,
   "metadata": {},
   "outputs": [],
   "source": [
    "gp = artist_like_df.groupby(['ARTIST_ID'])\n",
    "artist_like_gp = gp.apply(lambda x: len(x))\n",
    "for index,row in artist_info.iterrows():\n",
    "    try:\n",
    "        artist_info.loc[index,'noLikes'] = artist_like_gp.loc[row['ARTIST_ID']]\n",
    "    except(KeyError):\n",
    "        pass"
   ]
  },
  {
   "cell_type": "code",
   "execution_count": 8,
   "metadata": {},
   "outputs": [],
   "source": [
    "gp = track_info_df.loc[~track_info_df['ARTIST_ID'].isna()].groupby(['ARTIST_ID','TRACK_ID'])\n",
    "artist_track_gp = gp.apply(lambda x: len(x))\n",
    "# print(artist_track_gp.head())\n",
    "for index,row in artist_info.iterrows():\n",
    "    try:\n",
    "        artist_info.loc[index,'noTracks'] = len(artist_track_gp.loc[row['ARTIST_ID']])\n",
    "    except:\n",
    "        pass"
   ]
  },
  {
   "cell_type": "code",
   "execution_count": 9,
   "metadata": {},
   "outputs": [],
   "source": [
    "gp = track_info_df.loc[~track_info_df['ARTIST_ID'].isna()].groupby(['ARTIST_ID','ALBUM_ID'])\n",
    "artist_album_gp = gp.apply(lambda x: len(x))\n",
    "for index,row in artist_info.iterrows():\n",
    "    try:\n",
    "        artist_info.loc[index,'noAlbums'] = len(artist_album_gp.loc[row['ARTIST_ID']])\n",
    "    except:\n",
    "        pass"
   ]
  },
  {
   "cell_type": "code",
   "execution_count": 10,
   "metadata": {},
   "outputs": [
    {
     "data": {
      "text/plain": [
       "ARTIST_ID       0\n",
       "noLikes      8677\n",
       "noTracks      136\n",
       "noAlbums      137\n",
       "dtype: int64"
      ]
     },
     "execution_count": 10,
     "metadata": {},
     "output_type": "execute_result"
    }
   ],
   "source": [
    "artist_info.isna().sum()"
   ]
  },
  {
   "cell_type": "code",
   "execution_count": 11,
   "metadata": {},
   "outputs": [
    {
     "data": {
      "text/html": [
       "<div>\n",
       "<style scoped>\n",
       "    .dataframe tbody tr th:only-of-type {\n",
       "        vertical-align: middle;\n",
       "    }\n",
       "\n",
       "    .dataframe tbody tr th {\n",
       "        vertical-align: top;\n",
       "    }\n",
       "\n",
       "    .dataframe thead th {\n",
       "        text-align: right;\n",
       "    }\n",
       "</style>\n",
       "<table border=\"1\" class=\"dataframe\">\n",
       "  <thead>\n",
       "    <tr style=\"text-align: right;\">\n",
       "      <th></th>\n",
       "      <th>ARTIST_ID</th>\n",
       "      <th>noLikes</th>\n",
       "      <th>noTracks</th>\n",
       "      <th>noAlbums</th>\n",
       "    </tr>\n",
       "  </thead>\n",
       "  <tbody>\n",
       "    <tr>\n",
       "      <th>0</th>\n",
       "      <td>2804986</td>\n",
       "      <td>229</td>\n",
       "      <td>77</td>\n",
       "      <td>21</td>\n",
       "    </tr>\n",
       "    <tr>\n",
       "      <th>1</th>\n",
       "      <td>2804988</td>\n",
       "      <td>74</td>\n",
       "      <td>5242</td>\n",
       "      <td>550</td>\n",
       "    </tr>\n",
       "    <tr>\n",
       "      <th>2</th>\n",
       "      <td>2804990</td>\n",
       "      <td>2512</td>\n",
       "      <td>246</td>\n",
       "      <td>56</td>\n",
       "    </tr>\n",
       "    <tr>\n",
       "      <th>3</th>\n",
       "      <td>2804992</td>\n",
       "      <td>1348</td>\n",
       "      <td>136</td>\n",
       "      <td>36</td>\n",
       "    </tr>\n",
       "    <tr>\n",
       "      <th>4</th>\n",
       "      <td>2804994</td>\n",
       "      <td>31</td>\n",
       "      <td>28</td>\n",
       "      <td>3</td>\n",
       "    </tr>\n",
       "  </tbody>\n",
       "</table>\n",
       "</div>"
      ],
      "text/plain": [
       "   ARTIST_ID noLikes noTracks noAlbums\n",
       "0    2804986     229       77       21\n",
       "1    2804988      74     5242      550\n",
       "2    2804990    2512      246       56\n",
       "3    2804992    1348      136       36\n",
       "4    2804994      31       28        3"
      ]
     },
     "execution_count": 11,
     "metadata": {},
     "output_type": "execute_result"
    }
   ],
   "source": [
    "artist_info.head()"
   ]
  },
  {
   "cell_type": "code",
   "execution_count": 12,
   "metadata": {},
   "outputs": [],
   "source": [
    "artist_info.to_csv('./outputs/artist_info.csv')"
   ]
  },
  {
   "cell_type": "markdown",
   "metadata": {},
   "source": [
    "### -----------------------------------------------"
   ]
  },
  {
   "cell_type": "code",
   "execution_count": 17,
   "metadata": {},
   "outputs": [
    {
     "name": "stderr",
     "output_type": "stream",
     "text": [
      "/Users/macbookpro/anaconda3/lib/python3.6/site-packages/IPython/core/interactiveshell.py:3063: DtypeWarning: Columns (1) have mixed types. Specify dtype option on import or set low_memory=False.\n",
      "  interactivity=interactivity, compiler=compiler, result=result)\n",
      "/Users/macbookpro/anaconda3/lib/python3.6/site-packages/numpy/lib/arraysetops.py:569: FutureWarning: elementwise comparison failed; returning scalar instead, but in the future will perform elementwise comparison\n",
      "  mask |= (ar1 == a)\n"
     ]
    }
   ],
   "source": [
    "track_like_df= pd.read_csv('./outputs/track_like_expanded.csv',index_col=0)\n",
    "track_download_df = pd.read_csv('./outputs/track_download_expanded.csv',index_col=0)\n",
    "track_tag_df = pd.read_csv('./outputs/track_tag_df.csv',index_col=0)\n",
    "track_purchase_df = pd.read_csv('./outputs/track_purchase_expanded.csv',index_col=0)"
   ]
  },
  {
   "cell_type": "code",
   "execution_count": 18,
   "metadata": {},
   "outputs": [
    {
     "name": "stdout",
     "output_type": "stream",
     "text": [
      "(15214284, 3)\n"
     ]
    },
    {
     "data": {
      "text/html": [
       "<div>\n",
       "<style scoped>\n",
       "    .dataframe tbody tr th:only-of-type {\n",
       "        vertical-align: middle;\n",
       "    }\n",
       "\n",
       "    .dataframe tbody tr th {\n",
       "        vertical-align: top;\n",
       "    }\n",
       "\n",
       "    .dataframe thead th {\n",
       "        text-align: right;\n",
       "    }\n",
       "</style>\n",
       "<table border=\"1\" class=\"dataframe\">\n",
       "  <thead>\n",
       "    <tr style=\"text-align: right;\">\n",
       "      <th></th>\n",
       "      <th>C_DATE</th>\n",
       "      <th>TRACK_ID</th>\n",
       "      <th>USER_ID</th>\n",
       "    </tr>\n",
       "  </thead>\n",
       "  <tbody>\n",
       "    <tr>\n",
       "      <th>0</th>\n",
       "      <td>2013-04-03 00:04:30</td>\n",
       "      <td>2840546.0</td>\n",
       "      <td>3602578</td>\n",
       "    </tr>\n",
       "    <tr>\n",
       "      <th>1</th>\n",
       "      <td>2013-04-03 00:04:30</td>\n",
       "      <td>2840551.0</td>\n",
       "      <td>3602578</td>\n",
       "    </tr>\n",
       "    <tr>\n",
       "      <th>2</th>\n",
       "      <td>2013-04-03 00:04:30</td>\n",
       "      <td>2840554.0</td>\n",
       "      <td>3602578</td>\n",
       "    </tr>\n",
       "    <tr>\n",
       "      <th>3</th>\n",
       "      <td>2013-04-03 00:04:30</td>\n",
       "      <td>2840555.0</td>\n",
       "      <td>3602578</td>\n",
       "    </tr>\n",
       "    <tr>\n",
       "      <th>4</th>\n",
       "      <td>2013-04-03 00:04:30</td>\n",
       "      <td>2839044.0</td>\n",
       "      <td>3602578</td>\n",
       "    </tr>\n",
       "  </tbody>\n",
       "</table>\n",
       "</div>"
      ],
      "text/plain": [
       "                C_DATE   TRACK_ID  USER_ID\n",
       "0  2013-04-03 00:04:30  2840546.0  3602578\n",
       "1  2013-04-03 00:04:30  2840551.0  3602578\n",
       "2  2013-04-03 00:04:30  2840554.0  3602578\n",
       "3  2013-04-03 00:04:30  2840555.0  3602578\n",
       "4  2013-04-03 00:04:30  2839044.0  3602578"
      ]
     },
     "execution_count": 18,
     "metadata": {},
     "output_type": "execute_result"
    }
   ],
   "source": [
    "print(track_purchase_df.shape)\n",
    "track_purchase_df.head()"
   ]
  },
  {
   "cell_type": "code",
   "execution_count": 19,
   "metadata": {},
   "outputs": [
    {
     "name": "stdout",
     "output_type": "stream",
     "text": [
      "number of total unique tracks: 125029\n"
     ]
    }
   ],
   "source": [
    "unique_tracks = np.unique(np.concatenate((track_purchase_df['TRACK_ID'].values.astype('int64'),track_download_df['TRACK_ID'].values,\n",
    "                                          track_info_df['TRACK_ID'].values,track_like_df['TRACK_ID'].values,track_tag_df['TRACK_ID'].values),0))\n",
    "print('number of total unique tracks:',unique_tracks.shape[0])"
   ]
  },
  {
   "cell_type": "code",
   "execution_count": 23,
   "metadata": {},
   "outputs": [],
   "source": [
    "track_info = pd.DataFrame(columns=['TRACK_ID','noDownloads','noPurchases','noLikes'])"
   ]
  },
  {
   "cell_type": "code",
   "execution_count": 24,
   "metadata": {},
   "outputs": [],
   "source": [
    "track_info['TRACK_ID'] = unique_tracks"
   ]
  },
  {
   "cell_type": "code",
   "execution_count": 25,
   "metadata": {},
   "outputs": [],
   "source": [
    "gp = track_like_df.groupby(['TRACK_ID'])\n",
    "track_like_gp = gp.apply(lambda x: len(x))\n",
    "track_info[\"noLikes\"] = track_info.set_index('TRACK_ID')['noLikes'].fillna(track_like_gp).values"
   ]
  },
  {
   "cell_type": "code",
   "execution_count": 28,
   "metadata": {},
   "outputs": [],
   "source": [
    "gp = track_download_df.groupby(['TRACK_ID'])\n",
    "track_download_gp = gp.apply(lambda x: len(x))\n",
    "track_info[\"noDownloads\"] = track_info.set_index('TRACK_ID')['noDownloads'].fillna(track_download_gp).values"
   ]
  },
  {
   "cell_type": "code",
   "execution_count": 29,
   "metadata": {},
   "outputs": [],
   "source": [
    "gp = track_purchase_df.groupby(['TRACK_ID'])\n",
    "track_purchase_gp = gp.apply(lambda x: len(x))\n",
    "track_info[\"noPurchases\"] = track_info.set_index('TRACK_ID')['noPurchases'].fillna(track_purchase_gp).values"
   ]
  },
  {
   "cell_type": "code",
   "execution_count": 30,
   "metadata": {},
   "outputs": [
    {
     "data": {
      "text/html": [
       "<div>\n",
       "<style scoped>\n",
       "    .dataframe tbody tr th:only-of-type {\n",
       "        vertical-align: middle;\n",
       "    }\n",
       "\n",
       "    .dataframe tbody tr th {\n",
       "        vertical-align: top;\n",
       "    }\n",
       "\n",
       "    .dataframe thead th {\n",
       "        text-align: right;\n",
       "    }\n",
       "</style>\n",
       "<table border=\"1\" class=\"dataframe\">\n",
       "  <thead>\n",
       "    <tr style=\"text-align: right;\">\n",
       "      <th></th>\n",
       "      <th>TRACK_ID</th>\n",
       "      <th>noDownloads</th>\n",
       "      <th>noPurchases</th>\n",
       "      <th>noLikes</th>\n",
       "    </tr>\n",
       "  </thead>\n",
       "  <tbody>\n",
       "    <tr>\n",
       "      <th>0</th>\n",
       "      <td>2828445</td>\n",
       "      <td>92.0</td>\n",
       "      <td>71.0</td>\n",
       "      <td>8.0</td>\n",
       "    </tr>\n",
       "    <tr>\n",
       "      <th>1</th>\n",
       "      <td>2828446</td>\n",
       "      <td>92.0</td>\n",
       "      <td>63.0</td>\n",
       "      <td>13.0</td>\n",
       "    </tr>\n",
       "    <tr>\n",
       "      <th>2</th>\n",
       "      <td>2828447</td>\n",
       "      <td>92.0</td>\n",
       "      <td>58.0</td>\n",
       "      <td>7.0</td>\n",
       "    </tr>\n",
       "    <tr>\n",
       "      <th>3</th>\n",
       "      <td>2828448</td>\n",
       "      <td>92.0</td>\n",
       "      <td>56.0</td>\n",
       "      <td>8.0</td>\n",
       "    </tr>\n",
       "    <tr>\n",
       "      <th>4</th>\n",
       "      <td>2828449</td>\n",
       "      <td>92.0</td>\n",
       "      <td>62.0</td>\n",
       "      <td>6.0</td>\n",
       "    </tr>\n",
       "  </tbody>\n",
       "</table>\n",
       "</div>"
      ],
      "text/plain": [
       "   TRACK_ID  noDownloads  noPurchases  noLikes\n",
       "0   2828445         92.0         71.0      8.0\n",
       "1   2828446         92.0         63.0     13.0\n",
       "2   2828447         92.0         58.0      7.0\n",
       "3   2828448         92.0         56.0      8.0\n",
       "4   2828449         92.0         62.0      6.0"
      ]
     },
     "execution_count": 30,
     "metadata": {},
     "output_type": "execute_result"
    }
   ],
   "source": [
    "track_info.head()"
   ]
  },
  {
   "cell_type": "code",
   "execution_count": 31,
   "metadata": {},
   "outputs": [
    {
     "data": {
      "text/plain": [
       "TRACK_ID           0\n",
       "noDownloads    25197\n",
       "noPurchases    31877\n",
       "noLikes        36459\n",
       "dtype: int64"
      ]
     },
     "execution_count": 31,
     "metadata": {},
     "output_type": "execute_result"
    }
   ],
   "source": [
    "track_info.isna().sum()"
   ]
  },
  {
   "cell_type": "code",
   "execution_count": 35,
   "metadata": {},
   "outputs": [
    {
     "data": {
      "text/html": [
       "<div>\n",
       "<style scoped>\n",
       "    .dataframe tbody tr th:only-of-type {\n",
       "        vertical-align: middle;\n",
       "    }\n",
       "\n",
       "    .dataframe tbody tr th {\n",
       "        vertical-align: top;\n",
       "    }\n",
       "\n",
       "    .dataframe thead th {\n",
       "        text-align: right;\n",
       "    }\n",
       "</style>\n",
       "<table border=\"1\" class=\"dataframe\">\n",
       "  <thead>\n",
       "    <tr style=\"text-align: right;\">\n",
       "      <th></th>\n",
       "      <th>TRACK_ID</th>\n",
       "      <th>noDownloads</th>\n",
       "      <th>noPurchases</th>\n",
       "      <th>noLikes</th>\n",
       "    </tr>\n",
       "  </thead>\n",
       "  <tbody>\n",
       "    <tr>\n",
       "      <th>count</th>\n",
       "      <td>1.250290e+05</td>\n",
       "      <td>99832.000000</td>\n",
       "      <td>93152.000000</td>\n",
       "      <td>88570.000000</td>\n",
       "    </tr>\n",
       "    <tr>\n",
       "      <th>mean</th>\n",
       "      <td>2.479358e+08</td>\n",
       "      <td>374.200296</td>\n",
       "      <td>163.327508</td>\n",
       "      <td>19.543322</td>\n",
       "    </tr>\n",
       "    <tr>\n",
       "      <th>std</th>\n",
       "      <td>2.389391e+08</td>\n",
       "      <td>1787.262460</td>\n",
       "      <td>847.408874</td>\n",
       "      <td>80.090191</td>\n",
       "    </tr>\n",
       "    <tr>\n",
       "      <th>min</th>\n",
       "      <td>2.828445e+06</td>\n",
       "      <td>1.000000</td>\n",
       "      <td>1.000000</td>\n",
       "      <td>1.000000</td>\n",
       "    </tr>\n",
       "    <tr>\n",
       "      <th>25%</th>\n",
       "      <td>2.859703e+06</td>\n",
       "      <td>23.000000</td>\n",
       "      <td>13.000000</td>\n",
       "      <td>3.000000</td>\n",
       "    </tr>\n",
       "    <tr>\n",
       "      <th>50%</th>\n",
       "      <td>1.560569e+08</td>\n",
       "      <td>59.000000</td>\n",
       "      <td>33.000000</td>\n",
       "      <td>6.000000</td>\n",
       "    </tr>\n",
       "    <tr>\n",
       "      <th>75%</th>\n",
       "      <td>4.879680e+08</td>\n",
       "      <td>163.000000</td>\n",
       "      <td>87.000000</td>\n",
       "      <td>12.000000</td>\n",
       "    </tr>\n",
       "    <tr>\n",
       "      <th>max</th>\n",
       "      <td>5.578127e+08</td>\n",
       "      <td>35285.000000</td>\n",
       "      <td>33146.000000</td>\n",
       "      <td>2787.000000</td>\n",
       "    </tr>\n",
       "  </tbody>\n",
       "</table>\n",
       "</div>"
      ],
      "text/plain": [
       "           TRACK_ID   noDownloads   noPurchases       noLikes\n",
       "count  1.250290e+05  99832.000000  93152.000000  88570.000000\n",
       "mean   2.479358e+08    374.200296    163.327508     19.543322\n",
       "std    2.389391e+08   1787.262460    847.408874     80.090191\n",
       "min    2.828445e+06      1.000000      1.000000      1.000000\n",
       "25%    2.859703e+06     23.000000     13.000000      3.000000\n",
       "50%    1.560569e+08     59.000000     33.000000      6.000000\n",
       "75%    4.879680e+08    163.000000     87.000000     12.000000\n",
       "max    5.578127e+08  35285.000000  33146.000000   2787.000000"
      ]
     },
     "execution_count": 35,
     "metadata": {},
     "output_type": "execute_result"
    }
   ],
   "source": [
    "track_info.describe()"
   ]
  },
  {
   "cell_type": "code",
   "execution_count": 36,
   "metadata": {},
   "outputs": [],
   "source": [
    "track_info.to_csv('./outputs/track_info.csv')"
   ]
  }
 ],
 "metadata": {
  "kernelspec": {
   "display_name": "Python 3",
   "language": "python",
   "name": "python3"
  },
  "language_info": {
   "codemirror_mode": {
    "name": "ipython",
    "version": 3
   },
   "file_extension": ".py",
   "mimetype": "text/x-python",
   "name": "python",
   "nbconvert_exporter": "python",
   "pygments_lexer": "ipython3",
   "version": "3.7.4"
  }
 },
 "nbformat": 4,
 "nbformat_minor": 4
}
