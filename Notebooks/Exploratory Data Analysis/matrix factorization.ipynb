{
 "cells": [
  {
   "cell_type": "code",
   "execution_count": 1,
   "metadata": {},
   "outputs": [],
   "source": [
    "import numpy as np\n",
    "import pandas as pd\n",
    "from scipy import sparse\n",
    "from sklearn.decomposition import NMF\n",
    "from sklearn.model_selection import train_test_split\n",
    "from itertools import islice\n",
    "import logging"
   ]
  },
  {
   "cell_type": "code",
   "execution_count": 2,
   "metadata": {},
   "outputs": [],
   "source": [
    "logging.basicConfig(format='%(asctime)s %(message)s ', datefmt='%Y-%m-%d %I:%M:%S %p', level=logging.DEBUG)"
   ]
  },
  {
   "cell_type": "code",
   "execution_count": 3,
   "metadata": {},
   "outputs": [],
   "source": [
    "class RandomRecommender:\n",
    "    def fit(self, scores):\n",
    "        self.tracks = np.unique(scores.track)\n",
    "        \n",
    "    def recommend(self, user_id, count=None):\n",
    "        result = self.tracks.copy()\n",
    "        np.random.shuffle(result)\n",
    "        if count is not None:\n",
    "            result = result[:count]\n",
    "        return result"
   ]
  },
  {
   "cell_type": "code",
   "execution_count": 4,
   "metadata": {},
   "outputs": [],
   "source": [
    "class PopularRecommender:\n",
    "    def fit(self, scores):\n",
    "        self.popular = scores.groupby('track').score.sum().reset_index().sort_values('score', ascending=False)['track'].values\n",
    "        \n",
    "    def recommend(self, user_id, count=None):\n",
    "        result = self.popular\n",
    "        if count is not None:\n",
    "            result = result[:count]\n",
    "        return result\n",
    "    "
   ]
  },
  {
   "cell_type": "code",
   "execution_count": 5,
   "metadata": {},
   "outputs": [],
   "source": [
    "class ColaborativeRecommender:\n",
    "    def __init__(self, rank=10):\n",
    "        self.rank = rank\n",
    "        self.new_user_recommender = PopularRecommender()\n",
    "    \n",
    "    def fit(self, scores):\n",
    "        scores = scores.assign(user=scores.user.astype('category'), track=scores.track.astype('category'))\n",
    "        mat = sparse.coo_matrix((\n",
    "            scores.score.values.astype('float32'),\n",
    "            (scores.user.cat.codes.values,\n",
    "             scores.track.cat.codes.values))).tocsr()\n",
    "        model = NMF(n_components=self.rank)\n",
    "        model.fit(mat)\n",
    "        self.new_user_recommender.fit(scores)\n",
    "        self.mat = mat\n",
    "        self.model = model\n",
    "        self.track_categories = scores.track.cat.categories\n",
    "        self.user_index = {Id:index for index, Id in enumerate(scores.user.cat.categories)}\n",
    "        \n",
    "    def recommend(self, user_id, count=None):\n",
    "        if user_id not in self.user_index:\n",
    "            return self.new_user_recommender.recommend(user_id, count)\n",
    "        index = self.user_index[user_id]\n",
    "        user_history = self.mat[index]\n",
    "        score_pred = self.model.inverse_transform(self.model.transform(user_history)).ravel()\n",
    "        result = self.track_categories[np.argsort(score_pred)[::-1]]\n",
    "        if count is not None:\n",
    "            result = result[:count]\n",
    "        return result\n",
    "    "
   ]
  },
  {
   "cell_type": "code",
   "execution_count": 6,
   "metadata": {},
   "outputs": [],
   "source": [
    "def get_rank(array, value):\n",
    "    try:\n",
    "        return np.nonzero(array == value)[0][0] + 1\n",
    "    except:\n",
    "        return np.inf"
   ]
  },
  {
   "cell_type": "code",
   "execution_count": 7,
   "metadata": {},
   "outputs": [],
   "source": [
    "def mean_reciprocal_rank(recommender, user_ids, track_ids):\n",
    "    reciprocal_ranks = []\n",
    "    for user_id, track_id in zip(user_ids, track_ids):\n",
    "        recommendations = recommender.recommend(user_id)\n",
    "        rank = get_rank(recommendations, track_id)\n",
    "        reciprocal_ranks.append(1/rank)\n",
    "    \n",
    "    return np.mean(reciprocal_ranks)"
   ]
  },
  {
   "cell_type": "code",
   "execution_count": 8,
   "metadata": {},
   "outputs": [
    {
     "name": "stderr",
     "output_type": "stream",
     "text": [
      "2020-02-26 12:52:19 AM preparing data \n"
     ]
    }
   ],
   "source": [
    "logging.info('preparing data')"
   ]
  },
  {
   "cell_type": "code",
   "execution_count": 9,
   "metadata": {},
   "outputs": [],
   "source": [
    "track_download = pd.read_csv('beeptunes_v1/track_download.csv')\n",
    "track_download = track_download[['USER_ID', 'TRACK_ID']].assign(r=1)"
   ]
  },
  {
   "cell_type": "code",
   "execution_count": 10,
   "metadata": {},
   "outputs": [],
   "source": [
    "track_like = pd.read_csv('beeptunes_v1/track_like.csv')\n",
    "track_like = track_like[['USER_ID', 'TRACK_ID']].assign(r=5)"
   ]
  },
  {
   "cell_type": "code",
   "execution_count": 11,
   "metadata": {},
   "outputs": [],
   "source": [
    "album_track_purchase = pd.read_csv('beeptunes_v1/album_track_purchase.csv')\n",
    "track_purchase = album_track_purchase[['USER_ID', 'TRACK_ID']][~album_track_purchase.TRACK_ID.isna()].assign(r=10)\n",
    "track_purchase.TRACK_ID = track_purchase.TRACK_ID.astype('int')"
   ]
  },
  {
   "cell_type": "code",
   "execution_count": 12,
   "metadata": {},
   "outputs": [],
   "source": [
    "total = pd.concat([track_download, track_like, track_purchase])\n",
    "total.columns = ['user', 'track', 'score']\n",
    "total = total.groupby(['user', 'track']).score.sum().reset_index()"
   ]
  },
  {
   "cell_type": "code",
   "execution_count": 13,
   "metadata": {},
   "outputs": [],
   "source": [
    "train, validation = train_test_split(total, test_size=5000)"
   ]
  },
  {
   "cell_type": "code",
   "execution_count": 14,
   "metadata": {},
   "outputs": [],
   "source": [
    "recommenders = [RandomRecommender(), PopularRecommender(), ColaborativeRecommender()]"
   ]
  },
  {
   "cell_type": "code",
   "execution_count": 15,
   "metadata": {},
   "outputs": [
    {
     "name": "stderr",
     "output_type": "stream",
     "text": [
      "2020-02-26 12:53:17 AM starting RandomRecommender \n",
      "2020-02-26 12:53:18 AM fitted \n",
      "2020-02-26 12:53:27 AM score (mean reciprocal rank): 0.00016 \n",
      "2020-02-26 12:53:27 AM starting PopularRecommender \n",
      "2020-02-26 12:53:28 AM fitted \n",
      "2020-02-26 12:53:29 AM score (mean reciprocal rank): 0.00676 \n",
      "2020-02-26 12:53:29 AM starting ColaborativeRecommender \n",
      "2020-02-26 12:54:16 AM fitted \n",
      "2020-02-26 12:55:57 AM score (mean reciprocal rank): 0.01444 \n"
     ]
    }
   ],
   "source": [
    "for recommender in recommenders:\n",
    "    name = recommender.__class__.__name__\n",
    "    logging.info('starting {}'.format(name))\n",
    "    recommender.fit(train)\n",
    "    logging.info('fitted')\n",
    "    score = mean_reciprocal_rank(recommender, validation.user, validation.track)\n",
    "    logging.info('score (mean reciprocal rank): {:0.5f}'.format(score))"
   ]
  },
  {
   "cell_type": "code",
   "execution_count": null,
   "metadata": {},
   "outputs": [],
   "source": []
  }
 ],
 "metadata": {
  "kernelspec": {
   "display_name": "Python 3",
   "language": "python",
   "name": "python3"
  },
  "language_info": {
   "codemirror_mode": {
    "name": "ipython",
    "version": 3
   },
   "file_extension": ".py",
   "mimetype": "text/x-python",
   "name": "python",
   "nbconvert_exporter": "python",
   "pygments_lexer": "ipython3",
   "version": "3.7.4"
  }
 },
 "nbformat": 4,
 "nbformat_minor": 4
}
