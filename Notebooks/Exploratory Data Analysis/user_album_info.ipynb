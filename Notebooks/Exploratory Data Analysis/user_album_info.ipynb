{
 "cells": [
  {
   "cell_type": "code",
   "execution_count": 1,
   "metadata": {},
   "outputs": [],
   "source": [
    "import pandas as pd\n",
    "import numpy as np\n",
    "from pathlib import Path\n",
    "import matplotlib.pyplot as plt"
   ]
  },
  {
   "cell_type": "code",
   "execution_count": 2,
   "metadata": {},
   "outputs": [],
   "source": [
    "data_path = Path('../../raw_data/')\n",
    "output_path = Path('./outputs/')\n",
    "album_like_df = pd.read_csv(data_path/'album_like.csv')\n",
    "album_track_purchase_df = pd.read_csv(data_path/'album_track_purchase.csv')\n",
    "artist_like_df = pd.read_csv(data_path/'artist_like.csv')\n",
    "download_album_df = pd.read_csv(data_path/'download_album.csv')\n",
    "track_download_df = pd.read_csv(data_path/'track_download.csv')\n",
    "track_info_df = pd.read_csv(data_path/'track_info.csv')\n",
    "track_like_df = pd.read_csv(data_path/'track_like.csv')\n",
    "track_tag_df = pd.read_csv(data_path/'track_tag.csv')\n",
    "track_infov2_df = pd.read_csv(data_path/'track_info_v2.csv')\n",
    "track_artist_df = pd.read_csv(data_path/'track_artist.csv')\n",
    "album_artist_df = pd.read_csv(data_path/'album_artist.csv')"
   ]
  },
  {
   "cell_type": "code",
   "execution_count": 3,
   "metadata": {},
   "outputs": [],
   "source": [
    "def resumetable(df):\n",
    "    print(f\"Dataset Shape: {df.shape}\")\n",
    "    summary = pd.DataFrame(df.dtypes,columns=['dtypes'])\n",
    "    summary = summary.reset_index()\n",
    "    summary['Name'] = summary['index']\n",
    "    summary = summary[['Name','dtypes']]\n",
    "    summary['Missing'] = df.isnull().sum().values\n",
    "    summary['Total'] = df.count().values   \n",
    "    summary['Uniques'] = df.nunique().values\n",
    "\n",
    "    return summary"
   ]
  },
  {
   "cell_type": "code",
   "execution_count": 4,
   "metadata": {},
   "outputs": [
    {
     "name": "stdout",
     "output_type": "stream",
     "text": [
      "Dataset Shape: (119161, 3)\n",
      "       Name  dtypes  Missing   Total  Uniques\n",
      "0   USER_ID   int64        0  119161    43148\n",
      "1  ALBUM_ID   int64        0  119161     8373\n",
      "2    C_DATE  object        0  119161    50609\n",
      "     USER_ID   ALBUM_ID               C_DATE\n",
      "0   62703789    2812729  2017-06-29 01:06:50\n",
      "1  111029712  457175632  2017-06-29 23:06:52\n",
      "2  364452581    2815501  2017-07-01 00:07:19\n",
      "3   12224086   11119006  2017-07-01 00:07:20\n",
      "4   12224086   40349686  2017-07-01 00:07:20\n",
      "number of duplicate records: 0\n"
     ]
    }
   ],
   "source": [
    "print(resumetable(album_like_df))\n",
    "print(album_like_df.head())\n",
    "album_like_df_nodup = album_like_df.drop_duplicates(subset=['USER_ID','ALBUM_ID'])\n",
    "print('number of duplicate records:',album_like_df.shape[0] - album_like_df_nodup.shape[0])\n",
    "album_like_df_nodup.to_csv(output_path/'album_like_df.csv')"
   ]
  },
  {
   "cell_type": "code",
   "execution_count": 5,
   "metadata": {},
   "outputs": [
    {
     "name": "stdout",
     "output_type": "stream",
     "text": [
      "Dataset Shape: (4313970, 4)\n",
      "       Name   dtypes  Missing    Total  Uniques\n",
      "0  ALBUM_ID  float64  3371250   942720     8487\n",
      "1  TRACK_ID  float64   942720  3371250    73787\n",
      "2   USER_ID    int64        0  4313970   459024\n",
      "3    C_DATE   object        0  4313970  1732481\n"
     ]
    },
    {
     "data": {
      "text/html": [
       "<div>\n",
       "<style scoped>\n",
       "    .dataframe tbody tr th:only-of-type {\n",
       "        vertical-align: middle;\n",
       "    }\n",
       "\n",
       "    .dataframe tbody tr th {\n",
       "        vertical-align: top;\n",
       "    }\n",
       "\n",
       "    .dataframe thead th {\n",
       "        text-align: right;\n",
       "    }\n",
       "</style>\n",
       "<table border=\"1\" class=\"dataframe\">\n",
       "  <thead>\n",
       "    <tr style=\"text-align: right;\">\n",
       "      <th></th>\n",
       "      <th>ALBUM_ID</th>\n",
       "      <th>TRACK_ID</th>\n",
       "      <th>USER_ID</th>\n",
       "      <th>C_DATE</th>\n",
       "    </tr>\n",
       "  </thead>\n",
       "  <tbody>\n",
       "    <tr>\n",
       "      <th>0</th>\n",
       "      <td>NaN</td>\n",
       "      <td>2840546.0</td>\n",
       "      <td>3602578</td>\n",
       "      <td>2013-04-03 00:04:30</td>\n",
       "    </tr>\n",
       "    <tr>\n",
       "      <th>1</th>\n",
       "      <td>NaN</td>\n",
       "      <td>2840551.0</td>\n",
       "      <td>3602578</td>\n",
       "      <td>2013-04-03 00:04:30</td>\n",
       "    </tr>\n",
       "    <tr>\n",
       "      <th>2</th>\n",
       "      <td>NaN</td>\n",
       "      <td>2840554.0</td>\n",
       "      <td>3602578</td>\n",
       "      <td>2013-04-03 00:04:30</td>\n",
       "    </tr>\n",
       "    <tr>\n",
       "      <th>3</th>\n",
       "      <td>NaN</td>\n",
       "      <td>2840555.0</td>\n",
       "      <td>3602578</td>\n",
       "      <td>2013-04-03 00:04:30</td>\n",
       "    </tr>\n",
       "    <tr>\n",
       "      <th>4</th>\n",
       "      <td>NaN</td>\n",
       "      <td>2839044.0</td>\n",
       "      <td>3602578</td>\n",
       "      <td>2013-04-03 00:04:30</td>\n",
       "    </tr>\n",
       "  </tbody>\n",
       "</table>\n",
       "</div>"
      ],
      "text/plain": [
       "   ALBUM_ID   TRACK_ID  USER_ID               C_DATE\n",
       "0       NaN  2840546.0  3602578  2013-04-03 00:04:30\n",
       "1       NaN  2840551.0  3602578  2013-04-03 00:04:30\n",
       "2       NaN  2840554.0  3602578  2013-04-03 00:04:30\n",
       "3       NaN  2840555.0  3602578  2013-04-03 00:04:30\n",
       "4       NaN  2839044.0  3602578  2013-04-03 00:04:30"
      ]
     },
     "execution_count": 5,
     "metadata": {},
     "output_type": "execute_result"
    }
   ],
   "source": [
    "print(resumetable(album_track_purchase_df))\n",
    "album_track_purchase_df.head()"
   ]
  },
  {
   "cell_type": "code",
   "execution_count": 6,
   "metadata": {},
   "outputs": [
    {
     "name": "stdout",
     "output_type": "stream",
     "text": [
      "Dataset Shape: (265265, 3)\n",
      "        Name  dtypes  Missing   Total  Uniques\n",
      "0    USER_ID   int64        0  265265    79365\n",
      "1  ARTIST_ID   int64        0  265265     7368\n",
      "2     C_DATE  object        0  265265   173368\n",
      "   USER_ID  ARTIST_ID               C_DATE\n",
      "0  3592330    2805208  2013-12-14 12:12:45\n",
      "1  6000255    2805006  2013-12-12 13:12:11\n",
      "2  3607646    2805592  2013-12-14 14:12:39\n",
      "3  6000292    2805586  2013-12-12 13:12:21\n",
      "4  3597896    2806350  2013-12-12 21:12:09\n",
      "number of duplicate records: 0\n"
     ]
    }
   ],
   "source": [
    "print(resumetable(artist_like_df))\n",
    "print(artist_like_df.head())\n",
    "artist_like_df_nodup = artist_like_df.drop_duplicates(subset=['USER_ID','ARTIST_ID'])\n",
    "print('number of duplicate records:',artist_like_df.shape[0] - artist_like_df_nodup.shape[0])\n",
    "artist_like_df_nodup.to_csv(output_path/'artist_like_df.csv')"
   ]
  },
  {
   "cell_type": "code",
   "execution_count": 7,
   "metadata": {},
   "outputs": [
    {
     "name": "stdout",
     "output_type": "stream",
     "text": [
      "Dataset Shape: (4131024, 3)\n",
      "       Name  dtypes  Missing    Total  Uniques\n",
      "0   USER_ID   int64        0  4131024   530217\n",
      "1  ALBUM_ID   int64        0  4131024    12882\n",
      "2    C_DATE  object        0  4131024  1985462\n",
      "   USER_ID  ALBUM_ID               C_DATE\n",
      "0  3591560   2817657  2012-08-22 04:08:25\n",
      "1  3591564   2814022  2012-08-22 05:08:52\n",
      "2  3591564   2818336  2012-08-22 05:08:52\n",
      "3  3591564   2814563  2012-08-22 05:08:52\n",
      "4  3591564   2815375  2012-08-22 05:08:52\n",
      "number of duplicate records: 0\n"
     ]
    }
   ],
   "source": [
    "print(resumetable(download_album_df))\n",
    "print(download_album_df.head())\n",
    "download_album_df_nodup = download_album_df.drop_duplicates(subset=['USER_ID','ALBUM_ID'])\n",
    "print('number of duplicate records:',download_album_df.shape[0] - download_album_df_nodup.shape[0])\n",
    "download_album_df_nodup.to_csv(output_path/'download_album_df.csv')"
   ]
  },
  {
   "cell_type": "code",
   "execution_count": 8,
   "metadata": {},
   "outputs": [
    {
     "name": "stdout",
     "output_type": "stream",
     "text": [
      "Dataset Shape: (16266541, 3)\n",
      "       Name  dtypes  Missing     Total  Uniques\n",
      "0   USER_ID   int64        0  16266541   525014\n",
      "1  TRACK_ID   int64        0  16266541    95927\n",
      "2    C_DATE  object        0  16266541  2331913\n",
      "   USER_ID  TRACK_ID               C_DATE\n",
      "0  3596048   2829138  2013-10-17 00:10:32\n",
      "1  3596048   2829137  2013-10-17 00:10:32\n",
      "2  3596048   2829142  2013-10-17 00:10:32\n",
      "3  3611552   2832030  2013-10-17 00:10:27\n",
      "4  3611552   2832031  2013-10-17 00:10:27\n",
      "number of duplicate records: 0\n"
     ]
    }
   ],
   "source": [
    "print(resumetable(track_download_df))\n",
    "print(track_download_df.head())\n",
    "track_download_df_nodup = track_download_df.drop_duplicates(subset=['USER_ID','TRACK_ID'])\n",
    "print('number of duplicate records:',track_download_df.shape[0] - track_download_df_nodup.shape[0])\n",
    "track_download_df_nodup.to_csv(output_path/'track_download_df.csv')"
   ]
  },
  {
   "cell_type": "code",
   "execution_count": 9,
   "metadata": {},
   "outputs": [
    {
     "name": "stdout",
     "output_type": "stream",
     "text": [
      "Dataset Shape: (517866, 6)\n",
      "           Name   dtypes  Missing   Total  Uniques\n",
      "0      TRACK_ID    int64        0  517866   125014\n",
      "1  PUBLISH_DATE   object    41871  475995    31607\n",
      "2      TIME_MIN    int64        0  517866      227\n",
      "3      TIME_SEC    int64        0  517866       69\n",
      "4      ALBUM_ID  float64       23  517843    14754\n",
      "5     ARTIST_ID    int64        0  517866    15909\n",
      "    TRACK_ID         PUBLISH_DATE  TIME_MIN  TIME_SEC   ALBUM_ID  ARTIST_ID\n",
      "0    2828445  2011-11-02 16:11:17         3        16  2811479.0    2804998\n",
      "1    2828445  2011-11-02 16:11:17         3        16  2811479.0    9623770\n",
      "2    2828445  2011-11-02 16:11:17         3        16  2811479.0    9625072\n",
      "3    2828445  2011-11-02 16:11:17         3        16  2811479.0    9625291\n",
      "4    2828445  2011-11-02 16:11:17         3        16  2811479.0    9625699\n",
      "5    2828445  2011-11-02 16:11:17         3        16  2811479.0    9627538\n",
      "6    2828445  2011-11-02 16:11:17         3        16  2811479.0    9627538\n",
      "7    2828445  2011-11-02 16:11:17         3        16  2811479.0  486228564\n",
      "8    2828446  2011-11-02 16:11:41         3        25  2811479.0    2804998\n",
      "9    2828446  2011-11-02 16:11:41         3        25  2811479.0    2805062\n",
      "10   2828446  2011-11-02 16:11:41         3        25  2811479.0    2805062\n",
      "number of duplicate records: 123339\n"
     ]
    }
   ],
   "source": [
    "print(resumetable(track_info_df))\n",
    "print(track_info_df.loc[:10])\n",
    "track_info_df_nodup = track_info_df.drop_duplicates(subset=['TRACK_ID','ALBUM_ID','ARTIST_ID'])\n",
    "print('number of duplicate records:',track_info_df.shape[0] - track_info_df_nodup.shape[0])\n",
    "track_info_df_nodup.to_csv(output_path/'track_info_df.csv')\n",
    "# chra yedoone track in hame artist motefavet dare?"
   ]
  },
  {
   "cell_type": "code",
   "execution_count": null,
   "metadata": {},
   "outputs": [
    {
     "name": "stdout",
     "output_type": "stream",
     "text": [
      "Dataset Shape: (346043, 3)\n",
      "       Name  dtypes  Missing   Total  Uniques\n",
      "0   USER_ID   int64        0  346043    51104\n",
      "1  TRACK_ID   int64        0  346043    25468\n",
      "2    C_DATE  object        0  346043   279551\n",
      "number of duplicate records: 0\n"
     ]
    }
   ],
   "source": [
    "print(resumetable(track_like_df))\n",
    "track_like_df.head()\n",
    "track_like_df_nodup = track_like_df.drop_duplicates(subset=['USER_ID','TRACK_ID'])\n",
    "print('number of duplicate records:',track_like_df.shape[0] - track_like_df_nodup.shape[0])\n",
    "track_like_df_nodup.to_csv(output_path/'track_like_df.csv')\n",
    "# chra yedoone track in hame artist motefavet dare?"
   ]
  },
  {
   "cell_type": "code",
   "execution_count": null,
   "metadata": {},
   "outputs": [],
   "source": [
    "print(resumetable(track_tag_df))\n",
    "track_tag_df.loc[:10]\n",
    "track_tag_df_nodup = track_tag_df.drop_duplicates(subset=['TRACK_ID','TAG_ID'])\n",
    "print('number of duplicate records:',track_tag_df.shape[0] - track_tag_df_nodup.shape[0])\n",
    "track_tag_df_nodup.to_csv(output_path/'track_tag_df.csv')"
   ]
  },
  {
   "cell_type": "code",
   "execution_count": null,
   "metadata": {},
   "outputs": [],
   "source": [
    "print(resumetable(track_infov2_df))\n",
    "print(track_infov2_df.head())\n",
    "track_infov2_df_nodup = track_infov2_df.drop_duplicates(subset=['TRACK_ID','ALBUM_ID'])\n",
    "print('number of duplicate records:',track_infov2_df.shape[0] - track_infov2_df_nodup.shape[0])\n",
    "track_infov2_df_nodup.to_csv(output_path/'track_infov2_df.csv')"
   ]
  },
  {
   "cell_type": "code",
   "execution_count": null,
   "metadata": {},
   "outputs": [],
   "source": [
    "print(resumetable(track_artist_df))\n",
    "print(track_artist_df.head())\n",
    "track_artist_df_nodup = track_artist_df.drop_duplicates(subset=['TRACK_ID','ARTIST_ID'])\n",
    "print('number of duplicate records:',track_artist_df.shape[0] - track_artist_df_nodup.shape[0])\n",
    "track_artist_df_nodup.to_csv(output_path/'track_artist_df.csv')"
   ]
  },
  {
   "cell_type": "code",
   "execution_count": null,
   "metadata": {},
   "outputs": [],
   "source": [
    "print(resumetable(album_artist_df))\n",
    "print(album_artist_df.head())\n",
    "album_artist_df_nodup = album_artist_df.drop_duplicates(subset=['ALBUM_ID','ARTIST_ID'])\n",
    "print('number of duplicate records:',album_artist_df.shape[0] - album_artist_df_nodup.shape[0])\n",
    "album_artist_df_nodup.to_csv(output_path/'album_artist_df.csv')"
   ]
  },
  {
   "cell_type": "code",
   "execution_count": null,
   "metadata": {},
   "outputs": [],
   "source": [
    "track_purchase_df = album_track_purchase_df.loc[~album_track_purchase_df['TRACK_ID'].isna()]\n",
    "track_purchase_df.drop('ALBUM_ID',axis=1,inplace=True)\n",
    "print(track_purchase_df.shape)\n",
    "print(track_purchase_df.head())\n",
    "\n",
    "track_purchase_df_nodup = track_purchase_df.drop_duplicates(subset=['TRACK_ID','USER_ID'])\n",
    "print('number of duplicate records:',track_purchase_df.shape[0] - track_purchase_df_nodup.shape[0])\n",
    "track_purchase_df_nodup.to_csv(output_path/'track_purchase_df.csv')"
   ]
  },
  {
   "cell_type": "code",
   "execution_count": null,
   "metadata": {},
   "outputs": [],
   "source": [
    "album_purchase_df = album_track_purchase_df.loc[~album_track_purchase_df['ALBUM_ID'].isna()]\n",
    "album_purchase_df.drop('TRACK_ID',axis=1,inplace=True)\n",
    "print(album_purchase_df.shape)\n",
    "print(album_purchase_df.head())\n",
    "\n",
    "album_purchase_df_nodup = album_purchase_df.drop_duplicates(subset=['ALBUM_ID','USER_ID'])\n",
    "print('number of duplicate records:',album_purchase_df.shape[0] - album_purchase_df_nodup.shape[0])\n",
    "album_purchase_df_nodup.to_csv(output_path/'album_purchase_df.csv')"
   ]
  },
  {
   "cell_type": "code",
   "execution_count": null,
   "metadata": {},
   "outputs": [],
   "source": [
    "track_tag_df['TYPE_KEY'].unique()"
   ]
  },
  {
   "cell_type": "code",
   "execution_count": null,
   "metadata": {},
   "outputs": [],
   "source": [
    "print('nubmer of unique tags:',track_tag_df['TAG_ID'].nunique())"
   ]
  },
  {
   "cell_type": "code",
   "execution_count": null,
   "metadata": {},
   "outputs": [],
   "source": [
    "unique_users = np.unique(np.concatenate((album_like_df['USER_ID'].values,album_track_purchase_df['USER_ID'].values,artist_like_df['USER_ID'].values,\n",
    "                                         download_album_df['USER_ID'].values,track_download_df['USER_ID'].values,track_like_df['USER_ID'].values),0))\n",
    "print('number of total unique users:',unique_users.shape[0])"
   ]
  },
  {
   "cell_type": "code",
   "execution_count": null,
   "metadata": {},
   "outputs": [],
   "source": [
    "unique_albums = np.unique(np.concatenate((album_like_df['ALBUM_ID'].values,album_purchase_df['ALBUM_ID'].values.astype('int64'),\n",
    "                                          download_album_df['ALBUM_ID'].values,track_info_df.loc[~track_info_df['ALBUM_ID'].isna()]['ALBUM_ID'].values.astype('int64')),0))\n",
    "print('number of total unique albums:',unique_albums.shape[0])"
   ]
  },
  {
   "cell_type": "code",
   "execution_count": null,
   "metadata": {},
   "outputs": [],
   "source": [
    "unique_tracks = np.unique(np.concatenate((track_purchase_df['TRACK_ID'].values.astype('int64'),track_download_df['TRACK_ID'].values,\n",
    "                                          track_info_df['TRACK_ID'].values,track_like_df['TRACK_ID'].values,track_tag_df['TRACK_ID'].values),0))\n",
    "print('number of total unique tracks:',unique_tracks.shape[0])"
   ]
  },
  {
   "cell_type": "code",
   "execution_count": null,
   "metadata": {},
   "outputs": [],
   "source": [
    "unique_artists = np.unique(np.concatenate((artist_like_df['ARTIST_ID'].values,track_info_df['ARTIST_ID'].values),0))\n",
    "print('number of total unique artists:',unique_artists.shape[0])"
   ]
  },
  {
   "cell_type": "code",
   "execution_count": null,
   "metadata": {},
   "outputs": [],
   "source": [
    "user_interaction = pd.DataFrame(columns=['USER_ID','noTrack_purchases','noAlbum_purchases','noTrack_likes','noAlbum_likes','noArtist_likes','noTrack_downloads','noAlbum_downloads'])"
   ]
  },
  {
   "cell_type": "code",
   "execution_count": null,
   "metadata": {},
   "outputs": [],
   "source": [
    "album_info = pd.DataFrame(columns=['ALBUM_ID','noTracks','noDownloads','noPurchases','noLikes'])"
   ]
  },
  {
   "cell_type": "code",
   "execution_count": null,
   "metadata": {},
   "outputs": [],
   "source": [
    "album_info['ALBUM_ID'] = unique_albums\n",
    "user_interaction['USER_ID'] = unique_users"
   ]
  },
  {
   "cell_type": "code",
   "execution_count": 26,
   "metadata": {},
   "outputs": [
    {
     "name": "stdout",
     "output_type": "stream",
     "text": [
      "ALBUM_ID   TRACK_ID\n",
      "2811408.0  2828478     6\n",
      "           2828479     6\n",
      "           2828480     7\n",
      "           2828481     6\n",
      "           2828482     5\n",
      "dtype: int64\n"
     ]
    }
   ],
   "source": [
    "gp = track_info_df.loc[~track_info_df['ALBUM_ID'].isna()].groupby(['ALBUM_ID','TRACK_ID'])\n",
    "album_track_gp = gp.apply(lambda x: len(x))\n",
    "print(album_track_gp.head())\n",
    "for index,row in album_info.iterrows():\n",
    "    try:\n",
    "        album_info.loc[index,'noTracks'] = len(album_track_gp.loc[row['ALBUM_ID']])\n",
    "    except:\n",
    "        pass"
   ]
  },
  {
   "cell_type": "code",
   "execution_count": 27,
   "metadata": {},
   "outputs": [
    {
     "name": "stdout",
     "output_type": "stream",
     "text": [
      "ALBUM_ID\n",
      "2811408       26\n",
      "2811412        5\n",
      "2811416       12\n",
      "2811420       42\n",
      "2811441      155\n",
      "            ... \n",
      "557672926      4\n",
      "557673396      6\n",
      "557674898      1\n",
      "557690598      7\n",
      "557758550      2\n",
      "Length: 8373, dtype: int64\n"
     ]
    }
   ],
   "source": [
    "gp = album_like_df.groupby(['ALBUM_ID'])\n",
    "album_like_gp = gp.apply(lambda x: len(x))\n",
    "print(album_like_gp)\n",
    "for index,row in album_info.iterrows():\n",
    "    try:\n",
    "        album_info.loc[index,'noLikes'] = album_like_gp.loc[row['ALBUM_ID']]\n",
    "    except(KeyError):\n",
    "        pass"
   ]
  },
  {
   "cell_type": "code",
   "execution_count": 28,
   "metadata": {},
   "outputs": [
    {
     "name": "stdout",
     "output_type": "stream",
     "text": [
      "ALBUM_ID\n",
      "2811408      1162\n",
      "2811412        55\n",
      "2811416       647\n",
      "2811420       529\n",
      "2811441      3167\n",
      "             ... \n",
      "557758550       1\n",
      "557765231      53\n",
      "557765350      39\n",
      "557766158      13\n",
      "557766654      10\n",
      "Length: 12882, dtype: int64\n"
     ]
    }
   ],
   "source": [
    "gp = download_album_df.groupby(['ALBUM_ID'])\n",
    "album_download_gp = gp.apply(lambda x: len(x))\n",
    "print(album_download_gp)\n",
    "for index,row in album_info.iterrows():\n",
    "    try:\n",
    "        album_info.loc[index,'noDownloads'] = album_download_gp.loc[row['ALBUM_ID']]\n",
    "    except(KeyError):\n",
    "        pass"
   ]
  },
  {
   "cell_type": "code",
   "execution_count": 29,
   "metadata": {},
   "outputs": [
    {
     "name": "stdout",
     "output_type": "stream",
     "text": [
      "ALBUM_ID\n",
      "2811408.0       427\n",
      "2811412.0        20\n",
      "2811416.0       216\n",
      "2811420.0       255\n",
      "2811441.0      1159\n",
      "               ... \n",
      "557668105.0       3\n",
      "557672071.0       1\n",
      "557672926.0       2\n",
      "557673396.0      10\n",
      "557690598.0      30\n",
      "Length: 8487, dtype: int64\n"
     ]
    }
   ],
   "source": [
    "gp = album_purchase_df.groupby(['ALBUM_ID'])\n",
    "album_purchase_gp = gp.apply(lambda x: len(x))\n",
    "print(album_purchase_gp)\n",
    "for index,row in album_info.iterrows():\n",
    "    try:\n",
    "        album_info.loc[index,'noPurchases'] = album_purchase_gp.loc[row['ALBUM_ID']]\n",
    "    except(KeyError):\n",
    "        pass"
   ]
  },
  {
   "cell_type": "code",
   "execution_count": 30,
   "metadata": {},
   "outputs": [],
   "source": [
    "album_info.set_index('ALBUM_ID',inplace=True)\n",
    "album_info['total_interactions'] = np.sum(album_info.drop('noTracks',axis=1),axis=1)"
   ]
  },
  {
   "cell_type": "code",
   "execution_count": 31,
   "metadata": {},
   "outputs": [
    {
     "data": {
      "text/plain": [
       "noTracks              2026\n",
       "noDownloads           3898\n",
       "noPurchases           8293\n",
       "noLikes               8407\n",
       "total_interactions       0\n",
       "dtype: int64"
      ]
     },
     "execution_count": 31,
     "metadata": {},
     "output_type": "execute_result"
    }
   ],
   "source": [
    "album_info.isna().sum()"
   ]
  },
  {
   "cell_type": "code",
   "execution_count": 32,
   "metadata": {},
   "outputs": [
    {
     "data": {
      "text/html": [
       "<div>\n",
       "<style scoped>\n",
       "    .dataframe tbody tr th:only-of-type {\n",
       "        vertical-align: middle;\n",
       "    }\n",
       "\n",
       "    .dataframe tbody tr th {\n",
       "        vertical-align: top;\n",
       "    }\n",
       "\n",
       "    .dataframe thead th {\n",
       "        text-align: right;\n",
       "    }\n",
       "</style>\n",
       "<table border=\"1\" class=\"dataframe\">\n",
       "  <thead>\n",
       "    <tr style=\"text-align: right;\">\n",
       "      <th></th>\n",
       "      <th>noTracks</th>\n",
       "      <th>noDownloads</th>\n",
       "      <th>noPurchases</th>\n",
       "      <th>noLikes</th>\n",
       "      <th>total_interactions</th>\n",
       "    </tr>\n",
       "    <tr>\n",
       "      <th>ALBUM_ID</th>\n",
       "      <th></th>\n",
       "      <th></th>\n",
       "      <th></th>\n",
       "      <th></th>\n",
       "      <th></th>\n",
       "    </tr>\n",
       "  </thead>\n",
       "  <tbody>\n",
       "    <tr>\n",
       "      <th>2811408</th>\n",
       "      <td>10</td>\n",
       "      <td>1162</td>\n",
       "      <td>427</td>\n",
       "      <td>26</td>\n",
       "      <td>1615.0</td>\n",
       "    </tr>\n",
       "    <tr>\n",
       "      <th>2811412</th>\n",
       "      <td>9</td>\n",
       "      <td>55</td>\n",
       "      <td>20</td>\n",
       "      <td>5</td>\n",
       "      <td>80.0</td>\n",
       "    </tr>\n",
       "    <tr>\n",
       "      <th>2811416</th>\n",
       "      <td>10</td>\n",
       "      <td>647</td>\n",
       "      <td>216</td>\n",
       "      <td>12</td>\n",
       "      <td>875.0</td>\n",
       "    </tr>\n",
       "    <tr>\n",
       "      <th>2811420</th>\n",
       "      <td>11</td>\n",
       "      <td>529</td>\n",
       "      <td>255</td>\n",
       "      <td>42</td>\n",
       "      <td>826.0</td>\n",
       "    </tr>\n",
       "    <tr>\n",
       "      <th>2811441</th>\n",
       "      <td>11</td>\n",
       "      <td>3167</td>\n",
       "      <td>1159</td>\n",
       "      <td>155</td>\n",
       "      <td>4481.0</td>\n",
       "    </tr>\n",
       "  </tbody>\n",
       "</table>\n",
       "</div>"
      ],
      "text/plain": [
       "         noTracks noDownloads noPurchases noLikes  total_interactions\n",
       "ALBUM_ID                                                             \n",
       "2811408        10        1162         427      26              1615.0\n",
       "2811412         9          55          20       5                80.0\n",
       "2811416        10         647         216      12               875.0\n",
       "2811420        11         529         255      42               826.0\n",
       "2811441        11        3167        1159     155              4481.0"
      ]
     },
     "execution_count": 32,
     "metadata": {},
     "output_type": "execute_result"
    }
   ],
   "source": [
    "album_info.head()"
   ]
  },
  {
   "cell_type": "code",
   "execution_count": 33,
   "metadata": {},
   "outputs": [],
   "source": [
    "for col in album_info.columns:\n",
    "    album_info[col] = album_info[col].astype('float64')"
   ]
  },
  {
   "cell_type": "code",
   "execution_count": 34,
   "metadata": {},
   "outputs": [
    {
     "data": {
      "text/html": [
       "<div>\n",
       "<style scoped>\n",
       "    .dataframe tbody tr th:only-of-type {\n",
       "        vertical-align: middle;\n",
       "    }\n",
       "\n",
       "    .dataframe tbody tr th {\n",
       "        vertical-align: top;\n",
       "    }\n",
       "\n",
       "    .dataframe thead th {\n",
       "        text-align: right;\n",
       "    }\n",
       "</style>\n",
       "<table border=\"1\" class=\"dataframe\">\n",
       "  <thead>\n",
       "    <tr style=\"text-align: right;\">\n",
       "      <th></th>\n",
       "      <th>noTracks</th>\n",
       "      <th>noDownloads</th>\n",
       "      <th>noPurchases</th>\n",
       "      <th>noLikes</th>\n",
       "      <th>total_interactions</th>\n",
       "    </tr>\n",
       "  </thead>\n",
       "  <tbody>\n",
       "    <tr>\n",
       "      <th>count</th>\n",
       "      <td>14754.000000</td>\n",
       "      <td>12882.000000</td>\n",
       "      <td>8487.000000</td>\n",
       "      <td>8373.000000</td>\n",
       "      <td>16780.000000</td>\n",
       "    </tr>\n",
       "    <tr>\n",
       "      <th>mean</th>\n",
       "      <td>8.472956</td>\n",
       "      <td>320.681882</td>\n",
       "      <td>111.078119</td>\n",
       "      <td>14.231578</td>\n",
       "      <td>309.469905</td>\n",
       "    </tr>\n",
       "    <tr>\n",
       "      <th>std</th>\n",
       "      <td>9.963730</td>\n",
       "      <td>1204.337414</td>\n",
       "      <td>682.173555</td>\n",
       "      <td>66.413486</td>\n",
       "      <td>1496.595666</td>\n",
       "    </tr>\n",
       "    <tr>\n",
       "      <th>min</th>\n",
       "      <td>1.000000</td>\n",
       "      <td>1.000000</td>\n",
       "      <td>1.000000</td>\n",
       "      <td>1.000000</td>\n",
       "      <td>0.000000</td>\n",
       "    </tr>\n",
       "    <tr>\n",
       "      <th>25%</th>\n",
       "      <td>1.000000</td>\n",
       "      <td>12.000000</td>\n",
       "      <td>8.000000</td>\n",
       "      <td>2.000000</td>\n",
       "      <td>1.000000</td>\n",
       "    </tr>\n",
       "    <tr>\n",
       "      <th>50%</th>\n",
       "      <td>7.000000</td>\n",
       "      <td>66.000000</td>\n",
       "      <td>22.000000</td>\n",
       "      <td>5.000000</td>\n",
       "      <td>46.000000</td>\n",
       "    </tr>\n",
       "    <tr>\n",
       "      <th>75%</th>\n",
       "      <td>12.000000</td>\n",
       "      <td>218.000000</td>\n",
       "      <td>63.500000</td>\n",
       "      <td>10.000000</td>\n",
       "      <td>193.000000</td>\n",
       "    </tr>\n",
       "    <tr>\n",
       "      <th>max</th>\n",
       "      <td>99.000000</td>\n",
       "      <td>35019.000000</td>\n",
       "      <td>31047.000000</td>\n",
       "      <td>2787.000000</td>\n",
       "      <td>68853.000000</td>\n",
       "    </tr>\n",
       "  </tbody>\n",
       "</table>\n",
       "</div>"
      ],
      "text/plain": [
       "           noTracks   noDownloads   noPurchases      noLikes  \\\n",
       "count  14754.000000  12882.000000   8487.000000  8373.000000   \n",
       "mean       8.472956    320.681882    111.078119    14.231578   \n",
       "std        9.963730   1204.337414    682.173555    66.413486   \n",
       "min        1.000000      1.000000      1.000000     1.000000   \n",
       "25%        1.000000     12.000000      8.000000     2.000000   \n",
       "50%        7.000000     66.000000     22.000000     5.000000   \n",
       "75%       12.000000    218.000000     63.500000    10.000000   \n",
       "max       99.000000  35019.000000  31047.000000  2787.000000   \n",
       "\n",
       "       total_interactions  \n",
       "count        16780.000000  \n",
       "mean           309.469905  \n",
       "std           1496.595666  \n",
       "min              0.000000  \n",
       "25%              1.000000  \n",
       "50%             46.000000  \n",
       "75%            193.000000  \n",
       "max          68853.000000  "
      ]
     },
     "execution_count": 34,
     "metadata": {},
     "output_type": "execute_result"
    }
   ],
   "source": [
    "album_info.describe()"
   ]
  },
  {
   "cell_type": "code",
   "execution_count": 53,
   "metadata": {},
   "outputs": [],
   "source": [
    "album_info.to_csv(output_path/\"album_info.csv\",index=True)"
   ]
  },
  {
   "cell_type": "code",
   "execution_count": null,
   "metadata": {},
   "outputs": [],
   "source": [
    "user_interaction.head()"
   ]
  },
  {
   "cell_type": "code",
   "execution_count": null,
   "metadata": {},
   "outputs": [],
   "source": [
    "gp = track_purchase_df.groupby(['USER_ID'])\n",
    "user_track_purchase_gp = gp.apply(lambda x: len(x))\n",
    "print(user_track_purchase_gp)\n",
    "user_interaction[\"noTrack_purchases\"] = user_interaction.set_index(\"USER_ID\")['noTrack_purchases'].fillna(user_track_purchase_gp).values"
   ]
  },
  {
   "cell_type": "code",
   "execution_count": null,
   "metadata": {},
   "outputs": [],
   "source": [
    "gp = album_purchase_df.groupby(['USER_ID'])\n",
    "user_album_purchase_gp = gp.apply(lambda x: len(x))\n",
    "print(user_album_purchase_gp)\n",
    "user_interaction[\"noAlbum_purchases\"] = user_interaction.set_index(\"USER_ID\")['noAlbum_purchases'].fillna(user_album_purchase_gp).values"
   ]
  },
  {
   "cell_type": "code",
   "execution_count": null,
   "metadata": {},
   "outputs": [],
   "source": [
    "gp = track_like_df.groupby(['USER_ID'])\n",
    "user_track_like_gp = gp.apply(lambda x:len(x))\n",
    "print(user_track_like_gp)\n",
    "user_interaction[\"noTrack_likes\"] = user_interaction.set_index('USER_ID')['noTrack_likes'].fillna(user_track_like_gp).values"
   ]
  },
  {
   "cell_type": "code",
   "execution_count": null,
   "metadata": {},
   "outputs": [],
   "source": [
    "gp = album_like_df.groupby(['USER_ID'])\n",
    "user_album_like_gp = gp.apply(lambda x:len(x))\n",
    "print(user_album_like_gp)\n",
    "user_interaction[\"noAlbum_likes\"] = user_interaction.set_index('USER_ID')['noAlbum_likes'].fillna(user_album_like_gp).values"
   ]
  },
  {
   "cell_type": "code",
   "execution_count": null,
   "metadata": {},
   "outputs": [],
   "source": [
    "# gp = artist_like_df.groupby(['USER_ID'])\n",
    "# user_artist_like_gp = gp.apply(lambda x:len(x))\n",
    "# print(user_artist_like_gp)\n",
    "# user_interaction[\"noArtist_likes\"] = user_interaction.set_index('USER_ID')['noArtist_likes'].fillna(user_artist_like_gp).values"
   ]
  },
  {
   "cell_type": "code",
   "execution_count": null,
   "metadata": {},
   "outputs": [],
   "source": [
    "gp = track_download_df.groupby(['USER_ID'])\n",
    "user_track_download_gp = gp.apply(lambda x:len(x))\n",
    "print(user_track_download_gp)\n",
    "user_interaction[\"noTrack_downloads\"] = user_interaction.set_index('USER_ID')['noTrack_downloads'].fillna(user_track_download_gp).values"
   ]
  },
  {
   "cell_type": "code",
   "execution_count": 43,
   "metadata": {},
   "outputs": [
    {
     "name": "stdout",
     "output_type": "stream",
     "text": [
      "USER_ID\n",
      "3568884      61\n",
      "3568886      46\n",
      "3568888      16\n",
      "3568890      68\n",
      "3568892      88\n",
      "             ..\n",
      "557769388     1\n",
      "557769481     4\n",
      "557769542     2\n",
      "557769611     1\n",
      "557769806     1\n",
      "Length: 530217, dtype: int64\n"
     ]
    }
   ],
   "source": [
    "gp = download_album_df.groupby(['USER_ID'])\n",
    "user_album_download_gp = gp.apply(lambda x:len(x))\n",
    "print(user_album_download_gp)\n",
    "user_interaction[\"noAlbum_downloads\"] = user_interaction.set_index('USER_ID')['noAlbum_downloads'].fillna(user_album_download_gp).values"
   ]
  },
  {
   "cell_type": "code",
   "execution_count": 44,
   "metadata": {},
   "outputs": [],
   "source": [
    "user_interaction.set_index('USER_ID',inplace=True)\n",
    "user_interaction['total_interactions'] = np.sum(user_interaction,axis=1)"
   ]
  },
  {
   "cell_type": "code",
   "execution_count": 45,
   "metadata": {},
   "outputs": [
    {
     "data": {
      "text/plain": [
       "noTrack_purchases     291489\n",
       "noAlbum_purchases     315996\n",
       "noTrack_likes         535681\n",
       "noAlbum_likes         543637\n",
       "noArtist_likes        507420\n",
       "noTrack_downloads      61771\n",
       "noAlbum_downloads      56568\n",
       "total_interactions         0\n",
       "dtype: int64"
      ]
     },
     "execution_count": 45,
     "metadata": {},
     "output_type": "execute_result"
    }
   ],
   "source": [
    "user_interaction.isna().sum()"
   ]
  },
  {
   "cell_type": "code",
   "execution_count": 46,
   "metadata": {},
   "outputs": [
    {
     "data": {
      "text/html": [
       "<div>\n",
       "<style scoped>\n",
       "    .dataframe tbody tr th:only-of-type {\n",
       "        vertical-align: middle;\n",
       "    }\n",
       "\n",
       "    .dataframe tbody tr th {\n",
       "        vertical-align: top;\n",
       "    }\n",
       "\n",
       "    .dataframe thead th {\n",
       "        text-align: right;\n",
       "    }\n",
       "</style>\n",
       "<table border=\"1\" class=\"dataframe\">\n",
       "  <thead>\n",
       "    <tr style=\"text-align: right;\">\n",
       "      <th></th>\n",
       "      <th>noTrack_purchases</th>\n",
       "      <th>noAlbum_purchases</th>\n",
       "      <th>noTrack_likes</th>\n",
       "      <th>noAlbum_likes</th>\n",
       "      <th>noArtist_likes</th>\n",
       "      <th>noTrack_downloads</th>\n",
       "      <th>noAlbum_downloads</th>\n",
       "      <th>total_interactions</th>\n",
       "    </tr>\n",
       "    <tr>\n",
       "      <th>USER_ID</th>\n",
       "      <th></th>\n",
       "      <th></th>\n",
       "      <th></th>\n",
       "      <th></th>\n",
       "      <th></th>\n",
       "      <th></th>\n",
       "      <th></th>\n",
       "      <th></th>\n",
       "    </tr>\n",
       "  </thead>\n",
       "  <tbody>\n",
       "    <tr>\n",
       "      <th>1369</th>\n",
       "      <td>NaN</td>\n",
       "      <td>1.0</td>\n",
       "      <td>NaN</td>\n",
       "      <td>NaN</td>\n",
       "      <td>NaN</td>\n",
       "      <td>NaN</td>\n",
       "      <td>NaN</td>\n",
       "      <td>1.0</td>\n",
       "    </tr>\n",
       "    <tr>\n",
       "      <th>3568884</th>\n",
       "      <td>38.0</td>\n",
       "      <td>41.0</td>\n",
       "      <td>NaN</td>\n",
       "      <td>NaN</td>\n",
       "      <td>NaN</td>\n",
       "      <td>460.0</td>\n",
       "      <td>61.0</td>\n",
       "      <td>600.0</td>\n",
       "    </tr>\n",
       "    <tr>\n",
       "      <th>3568886</th>\n",
       "      <td>36.0</td>\n",
       "      <td>24.0</td>\n",
       "      <td>NaN</td>\n",
       "      <td>NaN</td>\n",
       "      <td>NaN</td>\n",
       "      <td>256.0</td>\n",
       "      <td>46.0</td>\n",
       "      <td>362.0</td>\n",
       "    </tr>\n",
       "    <tr>\n",
       "      <th>3568888</th>\n",
       "      <td>8.0</td>\n",
       "      <td>8.0</td>\n",
       "      <td>NaN</td>\n",
       "      <td>NaN</td>\n",
       "      <td>NaN</td>\n",
       "      <td>85.0</td>\n",
       "      <td>16.0</td>\n",
       "      <td>117.0</td>\n",
       "    </tr>\n",
       "    <tr>\n",
       "      <th>3568890</th>\n",
       "      <td>85.0</td>\n",
       "      <td>9.0</td>\n",
       "      <td>NaN</td>\n",
       "      <td>3.0</td>\n",
       "      <td>1.0</td>\n",
       "      <td>234.0</td>\n",
       "      <td>68.0</td>\n",
       "      <td>400.0</td>\n",
       "    </tr>\n",
       "  </tbody>\n",
       "</table>\n",
       "</div>"
      ],
      "text/plain": [
       "         noTrack_purchases  noAlbum_purchases  noTrack_likes  noAlbum_likes  \\\n",
       "USER_ID                                                                       \n",
       "1369                   NaN                1.0            NaN            NaN   \n",
       "3568884               38.0               41.0            NaN            NaN   \n",
       "3568886               36.0               24.0            NaN            NaN   \n",
       "3568888                8.0                8.0            NaN            NaN   \n",
       "3568890               85.0                9.0            NaN            3.0   \n",
       "\n",
       "         noArtist_likes  noTrack_downloads  noAlbum_downloads  \\\n",
       "USER_ID                                                         \n",
       "1369                NaN                NaN                NaN   \n",
       "3568884             NaN              460.0               61.0   \n",
       "3568886             NaN              256.0               46.0   \n",
       "3568888             NaN               85.0               16.0   \n",
       "3568890             1.0              234.0               68.0   \n",
       "\n",
       "         total_interactions  \n",
       "USER_ID                      \n",
       "1369                    1.0  \n",
       "3568884               600.0  \n",
       "3568886               362.0  \n",
       "3568888               117.0  \n",
       "3568890               400.0  "
      ]
     },
     "execution_count": 46,
     "metadata": {},
     "output_type": "execute_result"
    }
   ],
   "source": [
    "user_interaction.head()"
   ]
  },
  {
   "cell_type": "code",
   "execution_count": 54,
   "metadata": {},
   "outputs": [],
   "source": [
    "user_interaction.to_csv(output_path/'user_info.csv',index=True)"
   ]
  },
  {
   "cell_type": "code",
   "execution_count": 48,
   "metadata": {},
   "outputs": [
    {
     "data": {
      "text/html": [
       "<div>\n",
       "<style scoped>\n",
       "    .dataframe tbody tr th:only-of-type {\n",
       "        vertical-align: middle;\n",
       "    }\n",
       "\n",
       "    .dataframe tbody tr th {\n",
       "        vertical-align: top;\n",
       "    }\n",
       "\n",
       "    .dataframe thead th {\n",
       "        text-align: right;\n",
       "    }\n",
       "</style>\n",
       "<table border=\"1\" class=\"dataframe\">\n",
       "  <thead>\n",
       "    <tr style=\"text-align: right;\">\n",
       "      <th></th>\n",
       "      <th>noTrack_purchases</th>\n",
       "      <th>noAlbum_purchases</th>\n",
       "      <th>noTrack_likes</th>\n",
       "      <th>noAlbum_likes</th>\n",
       "      <th>noArtist_likes</th>\n",
       "      <th>noTrack_downloads</th>\n",
       "      <th>noAlbum_downloads</th>\n",
       "      <th>total_interactions</th>\n",
       "    </tr>\n",
       "  </thead>\n",
       "  <tbody>\n",
       "    <tr>\n",
       "      <th>count</th>\n",
       "      <td>295296.000000</td>\n",
       "      <td>270789.000000</td>\n",
       "      <td>51104.000000</td>\n",
       "      <td>43148.000000</td>\n",
       "      <td>79365.000000</td>\n",
       "      <td>525014.000000</td>\n",
       "      <td>530217.000000</td>\n",
       "      <td>586785.000000</td>\n",
       "    </tr>\n",
       "    <tr>\n",
       "      <th>mean</th>\n",
       "      <td>11.416511</td>\n",
       "      <td>3.481382</td>\n",
       "      <td>6.771349</td>\n",
       "      <td>2.761681</td>\n",
       "      <td>3.342342</td>\n",
       "      <td>30.983061</td>\n",
       "      <td>7.791195</td>\n",
       "      <td>43.358307</td>\n",
       "    </tr>\n",
       "    <tr>\n",
       "      <th>std</th>\n",
       "      <td>34.322405</td>\n",
       "      <td>11.833995</td>\n",
       "      <td>22.543316</td>\n",
       "      <td>24.499848</td>\n",
       "      <td>10.606242</td>\n",
       "      <td>125.178174</td>\n",
       "      <td>31.350503</td>\n",
       "      <td>168.099948</td>\n",
       "    </tr>\n",
       "    <tr>\n",
       "      <th>min</th>\n",
       "      <td>1.000000</td>\n",
       "      <td>1.000000</td>\n",
       "      <td>1.000000</td>\n",
       "      <td>1.000000</td>\n",
       "      <td>1.000000</td>\n",
       "      <td>1.000000</td>\n",
       "      <td>1.000000</td>\n",
       "      <td>1.000000</td>\n",
       "    </tr>\n",
       "    <tr>\n",
       "      <th>25%</th>\n",
       "      <td>1.000000</td>\n",
       "      <td>1.000000</td>\n",
       "      <td>1.000000</td>\n",
       "      <td>1.000000</td>\n",
       "      <td>1.000000</td>\n",
       "      <td>3.000000</td>\n",
       "      <td>1.000000</td>\n",
       "      <td>5.000000</td>\n",
       "    </tr>\n",
       "    <tr>\n",
       "      <th>50%</th>\n",
       "      <td>4.000000</td>\n",
       "      <td>1.000000</td>\n",
       "      <td>2.000000</td>\n",
       "      <td>1.000000</td>\n",
       "      <td>2.000000</td>\n",
       "      <td>10.000000</td>\n",
       "      <td>2.000000</td>\n",
       "      <td>13.000000</td>\n",
       "    </tr>\n",
       "    <tr>\n",
       "      <th>75%</th>\n",
       "      <td>9.000000</td>\n",
       "      <td>2.000000</td>\n",
       "      <td>5.000000</td>\n",
       "      <td>2.000000</td>\n",
       "      <td>5.000000</td>\n",
       "      <td>21.000000</td>\n",
       "      <td>4.000000</td>\n",
       "      <td>28.000000</td>\n",
       "    </tr>\n",
       "    <tr>\n",
       "      <th>max</th>\n",
       "      <td>6747.000000</td>\n",
       "      <td>1110.000000</td>\n",
       "      <td>1464.000000</td>\n",
       "      <td>3827.000000</td>\n",
       "      <td>2147.000000</td>\n",
       "      <td>14642.000000</td>\n",
       "      <td>3066.000000</td>\n",
       "      <td>18347.000000</td>\n",
       "    </tr>\n",
       "  </tbody>\n",
       "</table>\n",
       "</div>"
      ],
      "text/plain": [
       "       noTrack_purchases  noAlbum_purchases  noTrack_likes  noAlbum_likes  \\\n",
       "count      295296.000000      270789.000000   51104.000000   43148.000000   \n",
       "mean           11.416511           3.481382       6.771349       2.761681   \n",
       "std            34.322405          11.833995      22.543316      24.499848   \n",
       "min             1.000000           1.000000       1.000000       1.000000   \n",
       "25%             1.000000           1.000000       1.000000       1.000000   \n",
       "50%             4.000000           1.000000       2.000000       1.000000   \n",
       "75%             9.000000           2.000000       5.000000       2.000000   \n",
       "max          6747.000000        1110.000000    1464.000000    3827.000000   \n",
       "\n",
       "       noArtist_likes  noTrack_downloads  noAlbum_downloads  \\\n",
       "count    79365.000000      525014.000000      530217.000000   \n",
       "mean         3.342342          30.983061           7.791195   \n",
       "std         10.606242         125.178174          31.350503   \n",
       "min          1.000000           1.000000           1.000000   \n",
       "25%          1.000000           3.000000           1.000000   \n",
       "50%          2.000000          10.000000           2.000000   \n",
       "75%          5.000000          21.000000           4.000000   \n",
       "max       2147.000000       14642.000000        3066.000000   \n",
       "\n",
       "       total_interactions  \n",
       "count       586785.000000  \n",
       "mean            43.358307  \n",
       "std            168.099948  \n",
       "min              1.000000  \n",
       "25%              5.000000  \n",
       "50%             13.000000  \n",
       "75%             28.000000  \n",
       "max          18347.000000  "
      ]
     },
     "execution_count": 48,
     "metadata": {},
     "output_type": "execute_result"
    }
   ],
   "source": [
    "user_interaction.describe()"
   ]
  },
  {
   "cell_type": "code",
   "execution_count": 49,
   "metadata": {},
   "outputs": [
    {
     "data": {
      "image/png": "[encoded data removed]",
      "text/plain": [
       "<Figure size 432x288 with 1 Axes>"
      ]
     },
     "metadata": {
      "needs_background": "light"
     },
     "output_type": "display_data"
    }
   ],
   "source": [
    "interactions = user_interaction['total_interactions'].sort_values(ascending=False).values\n",
    "plt.plot(interactions)\n",
    "plt.title('User Long tail plot')\n",
    "plt.show()"
   ]
  },
  {
   "cell_type": "code",
   "execution_count": 50,
   "metadata": {},
   "outputs": [
    {
     "data": {
      "image/png": "[encoded data removed]",
      "text/plain": [
       "<Figure size 432x288 with 1 Axes>"
      ]
     },
     "metadata": {
      "needs_background": "light"
     },
     "output_type": "display_data"
    }
   ],
   "source": [
    "interactions = album_info['total_interactions'].sort_values(ascending=False).values\n",
    "plt.scatter([x for x in range(len(interactions))],interactions)\n",
    "plt.title('Album Long tail plot')\n",
    "plt.show()"
   ]
  },
  {
   "cell_type": "code",
   "execution_count": null,
   "metadata": {},
   "outputs": [],
   "source": []
  }
 ],
 "metadata": {
  "kernelspec": {
   "display_name": "Python 3",
   "language": "python",
   "name": "python3"
  },
  "language_info": {
   "codemirror_mode": {
    "name": "ipython",
    "version": 3
   },
   "file_extension": ".py",
   "mimetype": "text/x-python",
   "name": "python",
   "nbconvert_exporter": "python",
   "pygments_lexer": "ipython3",
   "version": "3.7.4"
  }
 },
 "nbformat": 4,
 "nbformat_minor": 4
}
