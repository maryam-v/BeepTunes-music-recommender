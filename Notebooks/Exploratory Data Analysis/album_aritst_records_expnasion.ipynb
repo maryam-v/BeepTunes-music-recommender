{
 "cells": [
  {
   "cell_type": "code",
   "execution_count": 162,
   "metadata": {},
   "outputs": [],
   "source": [
    "import pandas as pd\n",
    "import numpy as np\n",
    "from pathlib import Path\n",
    "from time import time\n",
    "import warnings\n",
    "warnings.simplefilter(\"ignore\")"
   ]
  },
  {
   "cell_type": "code",
   "execution_count": 2,
   "metadata": {},
   "outputs": [],
   "source": [
    "data_path = Path(\"./outputs\")"
   ]
  },
  {
   "cell_type": "code",
   "execution_count": 23,
   "metadata": {},
   "outputs": [
    {
     "name": "stderr",
     "output_type": "stream",
     "text": [
      "/Users/macbookpro/anaconda3/lib/python3.6/site-packages/numpy/lib/arraysetops.py:569: FutureWarning: elementwise comparison failed; returning scalar instead, but in the future will perform elementwise comparison\n",
      "  mask |= (ar1 == a)\n"
     ]
    }
   ],
   "source": [
    "album_like_df = pd.read_csv(data_path/'album_like_df.csv',index_col=0)\n",
    "album_purchase_df = pd.read_csv(data_path/'album_purchase_df.csv',index_col=0)\n",
    "album_download_df = pd.read_csv(data_path/'download_album_df.csv',index_col=0)\n",
    "artist_like_df = pd.read_csv(data_path/'artist_like_df.csv',index_col=0)\n",
    "track_download_df = pd.read_csv(data_path/'track_download_df.csv',index_col=0)\n",
    "track_like_df = pd.read_csv(data_path/'track_like_df.csv',index_col=0)\n",
    "track_purchase_df = pd.read_csv(data_path/'track_purchase_df.csv',index_col=0)\n",
    "track_infov2_df = pd.read_csv(data_path/'track_infov2_df.csv',index_col=0)"
   ]
  },
  {
   "cell_type": "code",
   "execution_count": 117,
   "metadata": {},
   "outputs": [
    {
     "name": "stdout",
     "output_type": "stream",
     "text": [
      "8478\n",
      "10968\n",
      "7908\n"
     ]
    }
   ],
   "source": [
    "print(album_purchase_df.loc[album_purchase_df[\"ALBUM_ID\"].isin(track_infov2_df['ALBUM_ID'])][\"ALBUM_ID\"].nunique())\n",
    "print(album_download_df.loc[album_download_df[\"ALBUM_ID\"].isin(track_infov2_df['ALBUM_ID'])][\"ALBUM_ID\"].nunique())\n",
    "print(album_like_df.loc[album_like_df[\"ALBUM_ID\"].isin(track_infov2_df['ALBUM_ID'])][\"ALBUM_ID\"].nunique())"
   ]
  },
  {
   "cell_type": "code",
   "execution_count": 118,
   "metadata": {},
   "outputs": [
    {
     "name": "stdout",
     "output_type": "stream",
     "text": [
      "(939238, 3)\n",
      "(4131024, 3)\n",
      "(119161, 3)\n"
     ]
    }
   ],
   "source": [
    "print(album_purchase_df.shape)\n",
    "print(album_download_df.shape)\n",
    "print(album_like_df.shape)"
   ]
  },
  {
   "cell_type": "code",
   "execution_count": 158,
   "metadata": {},
   "outputs": [
    {
     "name": "stdout",
     "output_type": "stream",
     "text": [
      "80.9342770576477\n"
     ]
    },
    {
     "data": {
      "text/plain": [
       "(1386833, 2)"
      ]
     },
     "execution_count": 158,
     "metadata": {},
     "output_type": "execute_result"
    }
   ],
   "source": [
    "st = time()\n",
    "gp1 = album_like_df.groupby('USER_ID')\n",
    "gp2 = track_infov2_df.groupby('ALBUM_ID')\n",
    "user_ids = []\n",
    "track_ids = []\n",
    "for user_id in gp1.groups:\n",
    "    for album_id in gp1.get_group(user_id)[\"ALBUM_ID\"].values:\n",
    "        try:\n",
    "            for track_id in gp2.get_group(album_id)[\"TRACK_ID\"].values:\n",
    "                user_ids.append(user_id)\n",
    "                track_ids.append(track_id)\n",
    "        except KeyError:\n",
    "            pass\n",
    "new_track_like_records = pd.DataFrame({'USER_ID':user_ids,'TRACK_ID':track_ids})\n",
    "print(time()-st)\n",
    "new_track_like_records.shape"
   ]
  },
  {
   "cell_type": "code",
   "execution_count": 148,
   "metadata": {},
   "outputs": [
    {
     "data": {
      "text/plain": [
       "array([], dtype=float64)"
      ]
     },
     "execution_count": 148,
     "metadata": {},
     "output_type": "execute_result"
    }
   ],
   "source": [
    "np.array([])"
   ]
  },
  {
   "cell_type": "code",
   "execution_count": 151,
   "metadata": {},
   "outputs": [
    {
     "data": {
      "text/plain": [
       "array([2.])"
      ]
     },
     "execution_count": 151,
     "metadata": {},
     "output_type": "execute_result"
    }
   ],
   "source": [
    "a = np.array([])\n",
    "np.concatenate((a,[2]))"
   ]
  },
  {
   "cell_type": "code",
   "execution_count": 124,
   "metadata": {},
   "outputs": [
    {
     "name": "stdout",
     "output_type": "stream",
     "text": [
      "566.5616161823273\n"
     ]
    },
    {
     "data": {
      "text/plain": [
       "(11971242, 2)"
      ]
     },
     "execution_count": 124,
     "metadata": {},
     "output_type": "execute_result"
    }
   ],
   "source": [
    "st = time()\n",
    "gp1 = album_purchase_df.groupby('USER_ID')\n",
    "gp2 = track_infov2_df.groupby('ALBUM_ID')\n",
    "user_ids = []\n",
    "track_ids = []\n",
    "for user_id in gp1.groups:\n",
    "    for album_id in gp1.get_group(user_id)[\"ALBUM_ID\"].values:\n",
    "        try:\n",
    "            for track_id in gp2.get_group(album_id)[\"TRACK_ID\"].values:\n",
    "                user_ids.append(user_id)\n",
    "                track_ids.append(track_id)\n",
    "        except KeyError:\n",
    "            pass\n",
    "new_track_purchase_records = pd.DataFrame({'USER_ID':user_ids,'TRACK_ID':track_ids})\n",
    "print(time()-st)\n",
    "new_track_purchase_records.shape"
   ]
  },
  {
   "cell_type": "code",
   "execution_count": 155,
   "metadata": {},
   "outputs": [
    {
     "name": "stdout",
     "output_type": "stream",
     "text": [
      "2076.1628732681274\n"
     ]
    },
    {
     "data": {
      "text/plain": [
       "(36758739, 2)"
      ]
     },
     "execution_count": 155,
     "metadata": {},
     "output_type": "execute_result"
    }
   ],
   "source": [
    "st = time()\n",
    "gp1 = album_download_df.groupby('USER_ID')\n",
    "gp2 = track_infov2_df.groupby('ALBUM_ID')\n",
    "user_ids = []\n",
    "track_ids = []\n",
    "for user_id in gp1.groups:\n",
    "    for album_id in gp1.get_group(user_id)[\"ALBUM_ID\"].values:\n",
    "        try:\n",
    "            for track_id in gp2.get_group(album_id)[\"TRACK_ID\"].values:\n",
    "                user_ids.append(user_id)\n",
    "                track_ids.append(track_id)\n",
    "        except KeyError:\n",
    "            pass\n",
    "new_track_download_records = pd.DataFrame({'USER_ID':user_ids,'TRACK_ID':track_ids})\n",
    "print(time()-st)\n",
    "new_track_download_records.shape"
   ]
  },
  {
   "cell_type": "code",
   "execution_count": 166,
   "metadata": {},
   "outputs": [
    {
     "name": "stdout",
     "output_type": "stream",
     "text": [
      "(1732876, 3)\n",
      "(1730952, 3)\n"
     ]
    }
   ],
   "source": [
    "track_like_expanded_df = pd.concat([track_like_df,new_track_like_records])\n",
    "print(track_like_expanded_df.shape)\n",
    "track_like_expanded_df.drop_duplicates([\"USER_ID\",\"TRACK_ID\"],inplace=True)\n",
    "print(track_like_expanded_df.shape)"
   ]
  },
  {
   "cell_type": "code",
   "execution_count": 165,
   "metadata": {},
   "outputs": [
    {
     "name": "stdout",
     "output_type": "stream",
     "text": [
      "(15339198, 3)\n",
      "(15214284, 3)\n"
     ]
    }
   ],
   "source": [
    "track_purchase_expanded_df = pd.concat([track_purchase_df,new_track_purchase_records])\n",
    "print(track_purchase_expanded_df.shape)\n",
    "track_purchase_expanded_df.drop_duplicates([\"USER_ID\",\"TRACK_ID\"],inplace=True)\n",
    "print(track_purchase_expanded_df.shape)"
   ]
  },
  {
   "cell_type": "code",
   "execution_count": 164,
   "metadata": {},
   "outputs": [
    {
     "name": "stdout",
     "output_type": "stream",
     "text": [
      "(53025280, 3)\n",
      "(37357164, 3)\n"
     ]
    }
   ],
   "source": [
    "track_download_expanded_df = pd.concat([track_download_df,new_track_download_records])\n",
    "print(track_download_expanded_df.shape)\n",
    "track_download_expanded_df.drop_duplicates([\"USER_ID\",\"TRACK_ID\"],inplace=True)\n",
    "print(track_download_expanded_df.shape)"
   ]
  },
  {
   "cell_type": "code",
   "execution_count": 161,
   "metadata": {},
   "outputs": [],
   "source": [
    "track_like_expanded_df.to_csv(data_path/'track_like_expanded.csv')\n",
    "track_purchase_expanded_df.to_csv(data_path/'track_purchase_expanded.csv')\n",
    "track_download_expanded_df.to_csv(data_path/'track_download_expanded.csv')"
   ]
  }
 ],
 "metadata": {
  "kernelspec": {
   "display_name": "Python 3",
   "language": "python",
   "name": "python3"
  },
  "language_info": {
   "codemirror_mode": {
    "name": "ipython",
    "version": 3
   },
   "file_extension": ".py",
   "mimetype": "text/x-python",
   "name": "python",
   "nbconvert_exporter": "python",
   "pygments_lexer": "ipython3",
   "version": "3.7.4"
  }
 },
 "nbformat": 4,
 "nbformat_minor": 4
}
