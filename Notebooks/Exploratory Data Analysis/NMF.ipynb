{
 "cells": [
  {
   "cell_type": "code",
   "execution_count": 1,
   "metadata": {},
   "outputs": [],
   "source": [
    "import numpy as np\n",
    "import pandas as pd\n",
    "from scipy import sparse\n",
    "from sklearn.decomposition import NMF"
   ]
  },
  {
   "cell_type": "code",
   "execution_count": 2,
   "metadata": {},
   "outputs": [],
   "source": [
    "import scipy.sparse as sparse\n",
    "import random\n",
    "import implicit "
   ]
  },
  {
   "cell_type": "code",
   "execution_count": 2,
   "metadata": {},
   "outputs": [],
   "source": [
    "track_download = pd.read_csv('../../raw_data/track_download.csv')\n",
    "track_download = track_download[['USER_ID', 'TRACK_ID']].assign(r=1)"
   ]
  },
  {
   "cell_type": "code",
   "execution_count": 4,
   "metadata": {},
   "outputs": [],
   "source": [
    "track_like = pd.read_csv('../../raw_data/track_like.csv')\n",
    "track_like = track_like[['USER_ID', 'TRACK_ID']].assign(r=5)"
   ]
  },
  {
   "cell_type": "code",
   "execution_count": 5,
   "metadata": {},
   "outputs": [],
   "source": [
    "album_track_purchase = pd.read_csv('../../raw_data/album_track_purchase.csv')\n",
    "track_purchase = album_track_purchase[['USER_ID', 'TRACK_ID']][~album_track_purchase.TRACK_ID.isna()].assign(r=10).drop_duplicates()\n",
    "track_purchase.TRACK_ID = track_purchase.TRACK_ID.astype('int')"
   ]
  },
  {
   "cell_type": "code",
   "execution_count": 6,
   "metadata": {},
   "outputs": [],
   "source": [
    "total = pd.concat([track_download, track_like, track_purchase])\n",
    "total.columns = ['user', 'track', 'score']\n",
    "total = total.groupby(['user', 'track']).score.sum().reset_index()"
   ]
  },
  {
   "cell_type": "code",
   "execution_count": 21,
   "metadata": {},
   "outputs": [],
   "source": [
    "class Recommender:\n",
    "    def __init__(self, rank = 10):\n",
    "        self.rank = rank\n",
    "        \n",
    "    def fit(self, scores):\n",
    "        scores.user = scores.user.astype('category')\n",
    "        scores.track = scores.track.astype('category')\n",
    "        mat = sparse.coo_matrix((\n",
    "            scores.score.values.astype('float32'),\n",
    "            (scores.user.cat.codes.values,\n",
    "             scores.track.cat.codes.values))).tocsr()\n",
    "        model = NMF(n_components=self.rank)\n",
    "        model.fit(mat)\n",
    "        self.model = model\n",
    "        self.user_categories = scores.user.cat.categories\n",
    "        self.track_categories = scores.track.cat.categories\n",
    "        self.mat = mat\n",
    "        self.user_index = dict(enumerate(scores.user.cat.categories))\n",
    "        self.popular = scores.groupby('track').score.sum().reset_index().sort_values('score', ascending=False)['track'].values\n",
    "        \n",
    "    def recommend(self, user_id, count=5):\n",
    "        if user_id not in self.user_index:\n",
    "            return list(self.popular[:count])\n",
    "        index = self.user_index[user_id]\n",
    "        user_history = self.mat[index]\n",
    "        score_pred = self.model.inverse_transform(self.model.transform(user_history))\n",
    "        \n",
    "        top_tracks = sorted(zip(scores, self.track_categories), reverse=True)\n",
    "        top_tracks = [x[1] for x in top_tracks]\n",
    "        \n",
    "        previously_downloaded = set(self.track_categories[self.mat[index].nonzero()[1]])\n",
    "        top_tracks = (x for x in top_tracks if x not in previously_downloaded)\n",
    "        suggestions = list(islice(top_tracks, count))\n",
    "        return suggestions"
   ]
  },
  {
   "cell_type": "code",
   "execution_count": 22,
   "metadata": {},
   "outputs": [],
   "source": [
    "recommender = Recommender()\n",
    "recommender.fit(total)"
   ]
  },
  {
   "cell_type": "code",
   "execution_count": 10,
   "metadata": {},
   "outputs": [
    {
     "data": {
      "text/plain": [
       "[2867903, 2852012, 436926390, 2834013, 2832434]"
      ]
     },
     "execution_count": 10,
     "metadata": {},
     "output_type": "execute_result"
    }
   ],
   "source": [
    "recommender.recommend(3568884)"
   ]
  },
  {
   "cell_type": "code",
   "execution_count": null,
   "metadata": {},
   "outputs": [],
   "source": []
  }
 ],
 "metadata": {
  "kernelspec": {
   "display_name": "Python 3",
   "language": "python",
   "name": "python3"
  },
  "language_info": {
   "codemirror_mode": {
    "name": "ipython",
    "version": 3
   },
   "file_extension": ".py",
   "mimetype": "text/x-python",
   "name": "python",
   "nbconvert_exporter": "python",
   "pygments_lexer": "ipython3",
   "version": "3.7.4"
  }
 },
 "nbformat": 4,
 "nbformat_minor": 4
}
