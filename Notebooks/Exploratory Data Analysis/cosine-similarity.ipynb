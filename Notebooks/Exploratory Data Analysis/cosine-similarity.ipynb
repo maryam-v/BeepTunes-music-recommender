{
 "cells": [
  {
   "cell_type": "code",
   "execution_count": 1,
   "metadata": {},
   "outputs": [],
   "source": [
    "import numpy as np\n",
    "import pandas as pd\n",
    "from sklearn.metrics.pairwise import linear_kernel \n",
    "from sklearn.metrics.pairwise import cosine_similarity\n",
    "from scipy import sparse\n",
    "from sklearn.preprocessing import LabelEncoder  \n",
    "import numpy_indexed as npi\n",
    "import scipy.io\n",
    "from sklearn.metrics import r2_score\n",
    "from sklearn.metrics import mean_squared_error"
   ]
  },
  {
   "cell_type": "code",
   "execution_count": 6,
   "metadata": {},
   "outputs": [
    {
     "name": "stdout",
     "output_type": "stream",
     "text": [
      "             user      track  rating\n",
      "11789948  9310301  9502431.0       1\n",
      "11789882  9310301  8990956.0       1\n",
      "11789884  9310301  9045799.0       1\n",
      "11789885  9310301  9045807.0       1\n",
      "11789915  9310301  9158953.0       1\n",
      "(79847, 3)\n"
     ]
    }
   ],
   "source": [
    "total_sample = pd.read_csv('./outputs/total_sample.csv',index_col=0)\n",
    "total_sample.columns = ['user','track','rating']\n",
    "print(total_sample.head())\n",
    "print(total_sample.shape)"
   ]
  },
  {
   "cell_type": "code",
   "execution_count": 7,
   "metadata": {},
   "outputs": [],
   "source": [
    "tracks_sample_unique = total_sample['track'].unique()"
   ]
  },
  {
   "cell_type": "code",
   "execution_count": 8,
   "metadata": {},
   "outputs": [
    {
     "data": {
      "text/html": [
       "<div>\n",
       "<style scoped>\n",
       "    .dataframe tbody tr th:only-of-type {\n",
       "        vertical-align: middle;\n",
       "    }\n",
       "\n",
       "    .dataframe tbody tr th {\n",
       "        vertical-align: top;\n",
       "    }\n",
       "\n",
       "    .dataframe thead th {\n",
       "        text-align: right;\n",
       "    }\n",
       "</style>\n",
       "<table border=\"1\" class=\"dataframe\">\n",
       "  <thead>\n",
       "    <tr style=\"text-align: right;\">\n",
       "      <th></th>\n",
       "      <th>TRACK_ID</th>\n",
       "      <th>TAG_ID</th>\n",
       "      <th>TYPE_KEY</th>\n",
       "    </tr>\n",
       "  </thead>\n",
       "  <tbody>\n",
       "    <tr>\n",
       "      <th>0</th>\n",
       "      <td>2828445</td>\n",
       "      <td>379950871</td>\n",
       "      <td>GENRE</td>\n",
       "    </tr>\n",
       "    <tr>\n",
       "      <th>1</th>\n",
       "      <td>2828445</td>\n",
       "      <td>379950872</td>\n",
       "      <td>GENRE</td>\n",
       "    </tr>\n",
       "    <tr>\n",
       "      <th>2</th>\n",
       "      <td>2828445</td>\n",
       "      <td>379950903</td>\n",
       "      <td>CURATION</td>\n",
       "    </tr>\n",
       "    <tr>\n",
       "      <th>3</th>\n",
       "      <td>2828445</td>\n",
       "      <td>379950950</td>\n",
       "      <td>MOOD</td>\n",
       "    </tr>\n",
       "    <tr>\n",
       "      <th>4</th>\n",
       "      <td>2828445</td>\n",
       "      <td>379950952</td>\n",
       "      <td>MOOD</td>\n",
       "    </tr>\n",
       "  </tbody>\n",
       "</table>\n",
       "</div>"
      ],
      "text/plain": [
       "   TRACK_ID     TAG_ID  TYPE_KEY\n",
       "0   2828445  379950871     GENRE\n",
       "1   2828445  379950872     GENRE\n",
       "2   2828445  379950903  CURATION\n",
       "3   2828445  379950950      MOOD\n",
       "4   2828445  379950952      MOOD"
      ]
     },
     "execution_count": 8,
     "metadata": {},
     "output_type": "execute_result"
    }
   ],
   "source": [
    "track_tag=pd.read_csv('./outputs/track_tag_df.csv',index_col=0)\n",
    "track_tag.head()"
   ]
  },
  {
   "cell_type": "code",
   "execution_count": 5,
   "metadata": {},
   "outputs": [
    {
     "name": "stdout",
     "output_type": "stream",
     "text": [
      "1000\n"
     ]
    }
   ],
   "source": [
    "track_tag_sample = track_tag.loc[track_tag['TRACK_ID'].isin(tracks_sample_unique)]\n",
    "print(track_tag_sample['TRACK_ID'].nunique())"
   ]
  },
  {
   "cell_type": "code",
   "execution_count": 6,
   "metadata": {},
   "outputs": [
    {
     "data": {
      "text/plain": [
       "array(['GENRE', 'MOOD', 'ORCHESTRATION', 'CURATION', 'FORM'], dtype=object)"
      ]
     },
     "execution_count": 6,
     "metadata": {},
     "output_type": "execute_result"
    }
   ],
   "source": [
    "track_tag_sample['TYPE_KEY'].unique()"
   ]
  },
  {
   "cell_type": "code",
   "execution_count": 7,
   "metadata": {},
   "outputs": [
    {
     "data": {
      "text/html": [
       "<div>\n",
       "<style scoped>\n",
       "    .dataframe tbody tr th:only-of-type {\n",
       "        vertical-align: middle;\n",
       "    }\n",
       "\n",
       "    .dataframe tbody tr th {\n",
       "        vertical-align: top;\n",
       "    }\n",
       "\n",
       "    .dataframe thead th {\n",
       "        text-align: right;\n",
       "    }\n",
       "</style>\n",
       "<table border=\"1\" class=\"dataframe\">\n",
       "  <thead>\n",
       "    <tr style=\"text-align: right;\">\n",
       "      <th></th>\n",
       "      <th>TRACK_ID</th>\n",
       "      <th>TAG_ID</th>\n",
       "      <th>TYPE_KEY</th>\n",
       "    </tr>\n",
       "  </thead>\n",
       "  <tbody>\n",
       "    <tr>\n",
       "      <th>29781</th>\n",
       "      <td>2832434</td>\n",
       "      <td>379950871</td>\n",
       "      <td>GENRE</td>\n",
       "    </tr>\n",
       "    <tr>\n",
       "      <th>29782</th>\n",
       "      <td>2832434</td>\n",
       "      <td>379950872</td>\n",
       "      <td>GENRE</td>\n",
       "    </tr>\n",
       "    <tr>\n",
       "      <th>29783</th>\n",
       "      <td>2832434</td>\n",
       "      <td>379950952</td>\n",
       "      <td>MOOD</td>\n",
       "    </tr>\n",
       "    <tr>\n",
       "      <th>29784</th>\n",
       "      <td>2832434</td>\n",
       "      <td>379950971</td>\n",
       "      <td>MOOD</td>\n",
       "    </tr>\n",
       "    <tr>\n",
       "      <th>29785</th>\n",
       "      <td>2832434</td>\n",
       "      <td>379951104</td>\n",
       "      <td>ORCHESTRATION</td>\n",
       "    </tr>\n",
       "  </tbody>\n",
       "</table>\n",
       "</div>"
      ],
      "text/plain": [
       "       TRACK_ID     TAG_ID       TYPE_KEY\n",
       "29781   2832434  379950871          GENRE\n",
       "29782   2832434  379950872          GENRE\n",
       "29783   2832434  379950952           MOOD\n",
       "29784   2832434  379950971           MOOD\n",
       "29785   2832434  379951104  ORCHESTRATION"
      ]
     },
     "execution_count": 7,
     "metadata": {},
     "output_type": "execute_result"
    }
   ],
   "source": [
    "track_tag_sample = track_tag_sample.sort_values(by=['TRACK_ID'])\n",
    "track_tag_sample.head()"
   ]
  },
  {
   "cell_type": "code",
   "execution_count": 8,
   "metadata": {},
   "outputs": [
    {
     "data": {
      "text/plain": [
       "array([  2832434,   2834013,   2850931,   2852012,   2867883,   2867903,\n",
       "         2868044,   2868273,   2868779,   2869120,   2869197,   2869370,\n",
       "         2869481,   2869574,   2869611,   2869633,   2869658,   2869663,\n",
       "         2869664,   2869665,   2869666,   2869667,   2869668,   2869669,\n",
       "         2869671,   2869683,   2869754,   2869892,   2869893,   6036974,\n",
       "         6036986,   6037213,   6044083,   6044228,   6048990,   6049027,\n",
       "         6049034,   6049095,   6049100,   6049160,   6049167,   6049181,\n",
       "         6049187,   6049200,   6049227,   6049287,   6049329,   6049340,\n",
       "         6049349,   6049360,   6049367,   6058520,   6058523,   6058524,\n",
       "         6058525,   6058526,   6058527,   6058528,   6058529,   6058530,\n",
       "         6058531,   6058532,   6058533,   6058534,   6058535,   6058592,\n",
       "         6058593,   6058594,   6058595,   6058596,   6058597,   6058598,\n",
       "         6058599,   6058600,   6058601,   6058602,   6058603,   6058604,\n",
       "         6058605,   6058606,   6058607,   6059178,   6059179,   6059180,\n",
       "         6059181,   6059182,   6059183,   6059184,   6059185,   6059186,\n",
       "         6059188,   6059189,   6059190,   6059191,   6059193,   6059894,\n",
       "         6059917,   6059957,   6059960,   6059963,   6059964,   6059967,\n",
       "         6059969,   6059970,   6059973,   6059976,   6059977,   6059978,\n",
       "         6059979,   6059982,   6059985,   6059988,   6059989,   6065511,\n",
       "         6065514,   6065518,   6065521,   6065530,   6069887,   6069890,\n",
       "         6069896,   6069897,   6069898,   6069899,   6069902,   6069903,\n",
       "         6069957,   6069958,   6090226,   6090232,   6090234,   6116378,\n",
       "         6116384,   6116385,   6116387,   6116388,   6116391,   6116392,\n",
       "         6116393,   6116394,   6116395,   6116396,   6116399,   6116402,\n",
       "         6116403,   6116404,   6116405,   6132463,   6132479,   6132609,\n",
       "         6147301,   6147307,   6224770,   6225007,   6256684,   6256692,\n",
       "         6256701,   6256712,   6256719,   6256732,   6256737,   6256742,\n",
       "         6256746,   6299293,   6324068,   6366734,   6366740,   6366748,\n",
       "         6366756,   6366758,   6366760,   6366763,   6366769,   6366771,\n",
       "         6366775,   6492332,   6595051,   6599911,   6599959,   6625633,\n",
       "         6625641,   6625645,   6625647,   6625658,   6625667,   6625676,\n",
       "         6625678,   6625687,   6625691,   6625696,   6625702,   6625704,\n",
       "         6625712,   6625716,   6625726,   6625729,   6625735,   6625744,\n",
       "         6625752,   6625764,   6625777,   6625782,   6625790,   6625796,\n",
       "         6625804,   6625811,   6625820,   6625839,   6625841,   6625921,\n",
       "         6625923,   6625930,   6625932,   6625943,   6625957,   6625959,\n",
       "         6626944,   6652695,   6652697,   6652725,   6652728,   6652776,\n",
       "         6739714,   6758977,   6758980,   6759000,   6759003,   6759007,\n",
       "         6759011,   6759016,   6759260,   6759348,   6776984,   6784428,\n",
       "         6811651,   6820553,   6820581,   6820584,   6820588,   6820594,\n",
       "         6820614,   6820621,   6820623,   6820632,   6820637,   6854031,\n",
       "         6854033,   6854039,   6854051,   6854056,   6854059,   6854067,\n",
       "         6854077,   6854098,   6937125,   6938784,   6962726,   6984553,\n",
       "         6984691,   7014366,   7014389,   7014401,   7014410,   7014412,\n",
       "         7014420,   7014452,   7014459,   7014469,   7014550,   7070099,\n",
       "         7126099,   7132621,   7132626,   7132628,   7132639,   7150356,\n",
       "         7150713,   7150718,   7167489,   7224937,   7306429,   7309358,\n",
       "         7377525,   7377531,   7377540,   7377553,   7377557,   7377564,\n",
       "         7377568,   7377570,   7377572,   7377579,   7377581,   7377588,\n",
       "         7384989,   7410967,   7499180,   7542874,   7565903,   7567396,\n",
       "         7583486,   7648832,   7648921,   7692756,   7738279,   7751779,\n",
       "         7835658,   7861172,   7882108,   7882114,   7882160,   7882168,\n",
       "         7882188,   7882194,   7882270,   7926233,   8004293,   8004325,\n",
       "         8034204,   8034231,   8079143,   8113283,   8170750,   8170766,\n",
       "         8170781,   8171027,   8171241,   8171254,   8171257,   8194583,\n",
       "         8194661,   8438557,   8572139,   8572162,   8645310,   8716069,\n",
       "         8761145,   8808799,   8850023,   8856250,   8873126,   8923924,\n",
       "         8990956,   9045799,   9045807,   9158953,   9158991,   9159003,\n",
       "         9230346,   9268483,   9318086,   9502431,   9522143,   9544094,\n",
       "         9584936,   9610615,   9620165,   9750495,   9750517,   9750556,\n",
       "         9935144,   9999647,   9999653,   9999689,   9999769,   9999810,\n",
       "        10119175,  10301637,  10348861,  10360410,  10360419,  10402954,\n",
       "        10406230,  10406232,  10406234,  10406239,  10406241,  10406243,\n",
       "        10406245,  10406248,  10406250,  10406252,  10406254,  10406256,\n",
       "        10406258,  10406271,  10406277,  10406279,  10406281,  10481319,\n",
       "        10491067,  10529644,  10542652,  10675397,  10751287,  10795226,\n",
       "        10837365,  10849657,  10850370,  10976764,  10999903,  11024360,\n",
       "        11024367,  11044659,  11045030,  11112902,  11117705,  11352543,\n",
       "        11378798,  11514844,  11515102,  11538354,  11565729,  11634878,\n",
       "        11686441,  11687626,  11822573,  11822615,  11822633,  11822646,\n",
       "        11822714,  11822751,  11822780,  11822824,  11822856,  11822908,\n",
       "        11840877,  12264925,  12467882,  13059548,  13156705,  14100836,\n",
       "        14245254,  14286099,  14434841,  14771693,  15076971,  15856397,\n",
       "        15989825,  15990210,  16599933,  16913435,  17125705,  17551728,\n",
       "        17765439,  17765833,  18303712,  18450287,  18923120,  19735310,\n",
       "        20090962,  21675165,  21820455,  21994727,  22158875,  22235100,\n",
       "        23157444,  23707751,  24274585,  24729604,  25370989,  25603367,\n",
       "        25725873,  26580133,  27094015,  27260848,  27261704,  27958616,\n",
       "        28178021,  28400939,  28633800,  29570463,  30247642,  30320329,\n",
       "        30612928,  31029463,  31283716,  31285077,  31636752,  31638934,\n",
       "        31640822,  31642382,  31754154,  33065546,  33405016,  34542617,\n",
       "        35297958,  35298341,  35770445,  36830636,  36933896,  37259228,\n",
       "        37290530,  37798509,  37798512,  37798515,  37798520,  37798523,\n",
       "        37798527,  37798530,  37798532,  37798536,  37798543,  37798546,\n",
       "        37798549,  39111368,  39112330,  39113336,  40828857,  41373428,\n",
       "        42195590,  42619801,  42934529,  43208504,  43287812,  43606016,\n",
       "        45336968,  45338828,  45673278,  45831193,  46089817,  46089821,\n",
       "        46089824,  46089828,  46089835,  46089839,  46089842,  46089845,\n",
       "        46089864,  47398386,  47719598,  48244519,  48244851,  48804428,\n",
       "        49042147,  49042902,  50256314,  50257607,  50807545,  50810909,\n",
       "        51158697,  51557879,  51559082,  51993906,  51994633,  52627658,\n",
       "        52835324,  54295780,  54302381,  54347713,  54470267,  54470271,\n",
       "        54470275,  54470374,  54470379,  54470385,  54470392,  54470396,\n",
       "        54470462,  54470466,  54470471,  54470475,  54470479,  54480552,\n",
       "        56059993,  57102584,  57373233,  57543540,  57897128,  57897134,\n",
       "        57897138,  57897141,  57897148,  57897151,  58269243,  58269246,\n",
       "        58269249,  58269251,  58269256,  58269258,  58269260,  58269263,\n",
       "        58269268,  58715556,  58761612,  58764809,  58969964,  60372959,\n",
       "        60463352,  60777756,  60858347,  61463806,  61548017,  61548449,\n",
       "        61548709,  61817211,  62315797,  62358769,  64246075,  64248376,\n",
       "        65066408,  65700468,  65719727,  65830087,  65830478,  66305984,\n",
       "        66306420,  66434487,  67873065,  68433683,  69057041,  69501780,\n",
       "        69626659,  69774110,  71039554,  71088162,  71657738,  72132018,\n",
       "        72271394,  72387208,  72530032,  72995689,  72996571,  73299822,\n",
       "        73957700,  73958114,  74086615,  74180170,  74465002,  75026157,\n",
       "        75123150,  75181104,  75933919,  76392425,  76499633,  76500053,\n",
       "        76895758,  76897877,  77227916,  77511015,  77512039,  77960685,\n",
       "        78044555,  78321226,  78732591,  79031212,  79425329,  79559408,\n",
       "        79768591,  80232983,  82884040, 102111047, 109801787, 109803395,\n",
       "       112447057, 112454431, 113754892, 113769767, 115555146, 116279898,\n",
       "       116286366, 116301794, 116312568, 116316775, 116327829, 124195097,\n",
       "       144842028, 173527436, 179537101, 185845436, 186151749, 186383741,\n",
       "       187177714, 190132209, 195017724, 195033306, 196371505, 199148740,\n",
       "       201127537, 206269647, 209384884, 209851304, 219866927, 219866931,\n",
       "       219866945, 219866949, 219866952, 219866956, 219866961, 219866964,\n",
       "       219866967, 219866971, 219866974, 219866978, 224106279, 224123555,\n",
       "       224131002, 235758242, 239588924, 239597457, 243405504, 247672994,\n",
       "       249696591, 249704832, 254936880, 257762739, 259092370, 259142828,\n",
       "       259684756, 266245998, 266324591, 266340717, 266830917, 267794941,\n",
       "       267822923, 270801205, 272837616, 277060215, 280189837, 287786788,\n",
       "       297577605, 298354806, 306101904, 306111872, 311494348, 319138393,\n",
       "       319636028, 319652018, 320823832, 320843244, 322095518, 331214351,\n",
       "       331214356, 331214359, 331214362, 331214367, 331214371, 331214374,\n",
       "       331214378, 331214382, 331214387, 331214390, 331696397, 332704302,\n",
       "       333095758, 337011863, 338652154, 345425108, 346967043, 346980593,\n",
       "       350395051, 357284697, 359072064, 361580955, 368179749, 394247644,\n",
       "       397489908, 401037821, 401714942, 404452137, 405096433, 405280173,\n",
       "       405367351, 405424922, 405425608, 405476195, 405584154, 405672051,\n",
       "       406998993, 408063114, 411195493, 416470687, 417386211, 418146797,\n",
       "       420305598, 421377022, 422231939, 422301678, 423382817, 426070867,\n",
       "       427292286, 428423704, 431881767, 433697281, 436926390, 437869671,\n",
       "       438695366, 440227986, 441908168, 442542743, 444464134, 452497217,\n",
       "       454034127, 454742865, 457180965, 462002125, 462002128, 462002131,\n",
       "       462002136, 462002140, 462002143, 462002147, 462002150, 462002153,\n",
       "       462002156, 462002159, 462002162, 462002166, 462002202, 462002211,\n",
       "       462002214, 462002218, 462917502, 463027825, 463631575, 463835903,\n",
       "       464633844, 465298206, 465567586, 465707665, 465838635, 466094434,\n",
       "       466187769, 466232461, 466406295, 466406825, 466407379, 466408194,\n",
       "       467373091, 467580003, 467968401, 468551546, 468785969, 469060237,\n",
       "       469286340, 469925629, 470122562, 470244241, 470631906, 470684236,\n",
       "       470686780, 470800970, 470894799, 470894907, 470932888, 471103912,\n",
       "       471104884, 471105675, 471405476, 471527343, 471941932, 471991397,\n",
       "       472014723, 472234263, 472982911, 473300837, 473640435, 474004125,\n",
       "       474377990, 475617260, 476085589, 476125558, 476482718, 476655499,\n",
       "       477086700, 477650710, 477882641, 477911709, 477912214, 477957494,\n",
       "       478021208, 478190722, 478299430, 478428666, 479063837, 479310747,\n",
       "       479315555, 479372335, 479494933, 479571895, 479573235, 479577399,\n",
       "       480245843, 480816899, 480818113, 480911175, 480964502, 481141842,\n",
       "       481944821, 482002255, 482385941, 488305593, 488305599, 488305604,\n",
       "       488305609, 488305614, 488305619, 488305631, 488305637, 488305642,\n",
       "       488305647, 488305652, 488305658, 492734110, 492734171, 492734211,\n",
       "       492734254, 492734295, 492734335, 492734376, 492734416, 492734459,\n",
       "       492734500, 492734546, 492734589, 492734632, 492734681, 492734723,\n",
       "       492734768, 505176719, 505317245, 505317278, 505317349, 505317398,\n",
       "       505317454, 505317524, 505317601, 505317682, 505317769, 515867250,\n",
       "       515911121, 516388667, 516388690, 516388719, 516388756, 516388815,\n",
       "       516440407, 516440458, 516833919, 516834033, 516834102, 516834187,\n",
       "       516834282, 516834395, 516834524, 516834682, 516834848, 516835130,\n",
       "       518301711, 518301730, 518301751, 518301776, 518301807, 518301849,\n",
       "       518301896, 518301944, 518301995, 518302050, 518302109, 518302172,\n",
       "       518302241, 522386571, 522969131, 522969150, 522969174, 522969203,\n",
       "       522969235, 522969274, 522969315, 522969362, 522969416, 526052796,\n",
       "       526052860, 526052913, 526052972, 526053021, 526053081, 526069669,\n",
       "       553605387, 553605400, 553605417, 553605438, 553605463, 553605492,\n",
       "       553605525, 553605562, 553605603, 553605648, 553605697, 555189215,\n",
       "       555330991, 555361362, 555361430, 555361484, 555361509, 555361530,\n",
       "       555361558, 555361620, 555361656, 555361728])"
      ]
     },
     "execution_count": 8,
     "metadata": {},
     "output_type": "execute_result"
    }
   ],
   "source": [
    "tracks_sample_unique = track_tag_sample['TRACK_ID'].unique()\n",
    "tracks_sample_unique"
   ]
  },
  {
   "cell_type": "code",
   "execution_count": 9,
   "metadata": {},
   "outputs": [],
   "source": [
    "groupby_typekey=track_tag_sample.groupby(['TYPE_KEY'])"
   ]
  },
  {
   "cell_type": "code",
   "execution_count": 10,
   "metadata": {},
   "outputs": [
    {
     "name": "stdout",
     "output_type": "stream",
     "text": [
      "Genre unique:  23\n",
      "CURATION unique:  23\n",
      "MOOD unique:  33\n",
      "ORCHESTRATION unique:  62\n",
      "FORM unique:  2\n"
     ]
    }
   ],
   "source": [
    "print('Genre unique: ',groupby_typekey.get_group('GENRE')['TAG_ID'].nunique())\n",
    "print('CURATION unique: ',groupby_typekey.get_group('CURATION')['TAG_ID'].nunique())\n",
    "print('MOOD unique: ',groupby_typekey.get_group('MOOD')['TAG_ID'].nunique())\n",
    "print('ORCHESTRATION unique: ',groupby_typekey.get_group('ORCHESTRATION')['TAG_ID'].nunique())\n",
    "print('FORM unique: ',groupby_typekey.get_group('FORM')['TAG_ID'].nunique())"
   ]
  },
  {
   "cell_type": "code",
   "execution_count": 11,
   "metadata": {},
   "outputs": [],
   "source": [
    "def feature_Build(groupby_typekey,col):\n",
    "    feature = groupby_typekey.get_group(col)\n",
    "    le = LabelEncoder()\n",
    "    feature['TAG_ID'] = le.fit_transform(feature['TAG_ID'])\n",
    "    feature.drop(['TYPE_KEY'], axis = 1, inplace = True)\n",
    "\n",
    "    feature = pd.get_dummies(feature, columns=['TAG_ID'])\n",
    "    feature_cols= feature.columns.drop(['TRACK_ID'])\n",
    "    feature=feature.groupby(['TRACK_ID'])[feature_cols].sum().reset_index()\n",
    "#     feature.drop(['TRACK_ID'], axis = 1, inplace = True)\n",
    "    return feature"
   ]
  },
  {
   "cell_type": "code",
   "execution_count": 12,
   "metadata": {},
   "outputs": [
    {
     "name": "stdout",
     "output_type": "stream",
     "text": [
      "(1000, 24)\n"
     ]
    },
    {
     "name": "stderr",
     "output_type": "stream",
     "text": [
      "/Users/macbookpro/anaconda3/lib/python3.6/site-packages/ipykernel_launcher.py:4: SettingWithCopyWarning: \n",
      "A value is trying to be set on a copy of a slice from a DataFrame.\n",
      "Try using .loc[row_indexer,col_indexer] = value instead\n",
      "\n",
      "See the caveats in the documentation: http://pandas.pydata.org/pandas-docs/stable/user_guide/indexing.html#returning-a-view-versus-a-copy\n",
      "  after removing the cwd from sys.path.\n",
      "/Users/macbookpro/anaconda3/lib/python3.6/site-packages/pandas/core/frame.py:4117: SettingWithCopyWarning: \n",
      "A value is trying to be set on a copy of a slice from a DataFrame\n",
      "\n",
      "See the caveats in the documentation: http://pandas.pydata.org/pandas-docs/stable/user_guide/indexing.html#returning-a-view-versus-a-copy\n",
      "  errors=errors,\n"
     ]
    },
    {
     "data": {
      "text/html": [
       "<div>\n",
       "<style scoped>\n",
       "    .dataframe tbody tr th:only-of-type {\n",
       "        vertical-align: middle;\n",
       "    }\n",
       "\n",
       "    .dataframe tbody tr th {\n",
       "        vertical-align: top;\n",
       "    }\n",
       "\n",
       "    .dataframe thead th {\n",
       "        text-align: right;\n",
       "    }\n",
       "</style>\n",
       "<table border=\"1\" class=\"dataframe\">\n",
       "  <thead>\n",
       "    <tr style=\"text-align: right;\">\n",
       "      <th></th>\n",
       "      <th>TRACK_ID</th>\n",
       "      <th>TAG_ID_0</th>\n",
       "      <th>TAG_ID_1</th>\n",
       "      <th>TAG_ID_2</th>\n",
       "      <th>TAG_ID_3</th>\n",
       "      <th>TAG_ID_4</th>\n",
       "      <th>TAG_ID_5</th>\n",
       "      <th>TAG_ID_6</th>\n",
       "      <th>TAG_ID_7</th>\n",
       "      <th>TAG_ID_8</th>\n",
       "      <th>...</th>\n",
       "      <th>TAG_ID_13</th>\n",
       "      <th>TAG_ID_14</th>\n",
       "      <th>TAG_ID_15</th>\n",
       "      <th>TAG_ID_16</th>\n",
       "      <th>TAG_ID_17</th>\n",
       "      <th>TAG_ID_18</th>\n",
       "      <th>TAG_ID_19</th>\n",
       "      <th>TAG_ID_20</th>\n",
       "      <th>TAG_ID_21</th>\n",
       "      <th>TAG_ID_22</th>\n",
       "    </tr>\n",
       "  </thead>\n",
       "  <tbody>\n",
       "    <tr>\n",
       "      <th>995</th>\n",
       "      <td>555361530</td>\n",
       "      <td>0</td>\n",
       "      <td>0</td>\n",
       "      <td>0</td>\n",
       "      <td>0</td>\n",
       "      <td>0</td>\n",
       "      <td>0</td>\n",
       "      <td>0</td>\n",
       "      <td>0</td>\n",
       "      <td>1</td>\n",
       "      <td>...</td>\n",
       "      <td>0</td>\n",
       "      <td>0</td>\n",
       "      <td>0</td>\n",
       "      <td>0</td>\n",
       "      <td>0</td>\n",
       "      <td>0</td>\n",
       "      <td>0</td>\n",
       "      <td>0</td>\n",
       "      <td>0</td>\n",
       "      <td>0</td>\n",
       "    </tr>\n",
       "    <tr>\n",
       "      <th>996</th>\n",
       "      <td>555361558</td>\n",
       "      <td>0</td>\n",
       "      <td>0</td>\n",
       "      <td>0</td>\n",
       "      <td>0</td>\n",
       "      <td>0</td>\n",
       "      <td>0</td>\n",
       "      <td>0</td>\n",
       "      <td>0</td>\n",
       "      <td>1</td>\n",
       "      <td>...</td>\n",
       "      <td>0</td>\n",
       "      <td>0</td>\n",
       "      <td>0</td>\n",
       "      <td>0</td>\n",
       "      <td>0</td>\n",
       "      <td>0</td>\n",
       "      <td>0</td>\n",
       "      <td>0</td>\n",
       "      <td>0</td>\n",
       "      <td>0</td>\n",
       "    </tr>\n",
       "    <tr>\n",
       "      <th>997</th>\n",
       "      <td>555361620</td>\n",
       "      <td>0</td>\n",
       "      <td>0</td>\n",
       "      <td>0</td>\n",
       "      <td>0</td>\n",
       "      <td>0</td>\n",
       "      <td>0</td>\n",
       "      <td>0</td>\n",
       "      <td>0</td>\n",
       "      <td>1</td>\n",
       "      <td>...</td>\n",
       "      <td>0</td>\n",
       "      <td>0</td>\n",
       "      <td>0</td>\n",
       "      <td>0</td>\n",
       "      <td>0</td>\n",
       "      <td>0</td>\n",
       "      <td>0</td>\n",
       "      <td>0</td>\n",
       "      <td>0</td>\n",
       "      <td>0</td>\n",
       "    </tr>\n",
       "    <tr>\n",
       "      <th>998</th>\n",
       "      <td>555361656</td>\n",
       "      <td>0</td>\n",
       "      <td>0</td>\n",
       "      <td>0</td>\n",
       "      <td>0</td>\n",
       "      <td>0</td>\n",
       "      <td>0</td>\n",
       "      <td>0</td>\n",
       "      <td>0</td>\n",
       "      <td>1</td>\n",
       "      <td>...</td>\n",
       "      <td>0</td>\n",
       "      <td>0</td>\n",
       "      <td>0</td>\n",
       "      <td>0</td>\n",
       "      <td>0</td>\n",
       "      <td>0</td>\n",
       "      <td>0</td>\n",
       "      <td>0</td>\n",
       "      <td>0</td>\n",
       "      <td>0</td>\n",
       "    </tr>\n",
       "    <tr>\n",
       "      <th>999</th>\n",
       "      <td>555361728</td>\n",
       "      <td>0</td>\n",
       "      <td>0</td>\n",
       "      <td>0</td>\n",
       "      <td>0</td>\n",
       "      <td>0</td>\n",
       "      <td>0</td>\n",
       "      <td>0</td>\n",
       "      <td>0</td>\n",
       "      <td>1</td>\n",
       "      <td>...</td>\n",
       "      <td>0</td>\n",
       "      <td>0</td>\n",
       "      <td>0</td>\n",
       "      <td>0</td>\n",
       "      <td>0</td>\n",
       "      <td>0</td>\n",
       "      <td>0</td>\n",
       "      <td>0</td>\n",
       "      <td>0</td>\n",
       "      <td>0</td>\n",
       "    </tr>\n",
       "  </tbody>\n",
       "</table>\n",
       "<p>5 rows × 24 columns</p>\n",
       "</div>"
      ],
      "text/plain": [
       "      TRACK_ID  TAG_ID_0  TAG_ID_1  TAG_ID_2  TAG_ID_3  TAG_ID_4  TAG_ID_5  \\\n",
       "995  555361530         0         0         0         0         0         0   \n",
       "996  555361558         0         0         0         0         0         0   \n",
       "997  555361620         0         0         0         0         0         0   \n",
       "998  555361656         0         0         0         0         0         0   \n",
       "999  555361728         0         0         0         0         0         0   \n",
       "\n",
       "     TAG_ID_6  TAG_ID_7  TAG_ID_8  ...  TAG_ID_13  TAG_ID_14  TAG_ID_15  \\\n",
       "995         0         0         1  ...          0          0          0   \n",
       "996         0         0         1  ...          0          0          0   \n",
       "997         0         0         1  ...          0          0          0   \n",
       "998         0         0         1  ...          0          0          0   \n",
       "999         0         0         1  ...          0          0          0   \n",
       "\n",
       "     TAG_ID_16  TAG_ID_17  TAG_ID_18  TAG_ID_19  TAG_ID_20  TAG_ID_21  \\\n",
       "995          0          0          0          0          0          0   \n",
       "996          0          0          0          0          0          0   \n",
       "997          0          0          0          0          0          0   \n",
       "998          0          0          0          0          0          0   \n",
       "999          0          0          0          0          0          0   \n",
       "\n",
       "     TAG_ID_22  \n",
       "995          0  \n",
       "996          0  \n",
       "997          0  \n",
       "998          0  \n",
       "999          0  \n",
       "\n",
       "[5 rows x 24 columns]"
      ]
     },
     "execution_count": 12,
     "metadata": {},
     "output_type": "execute_result"
    }
   ],
   "source": [
    "genre = feature_Build(groupby_typekey,'GENRE' )\n",
    "print(genre.shape)\n",
    "genre.tail()"
   ]
  },
  {
   "cell_type": "code",
   "execution_count": 13,
   "metadata": {},
   "outputs": [
    {
     "name": "stderr",
     "output_type": "stream",
     "text": [
      "/Users/macbookpro/anaconda3/lib/python3.6/site-packages/ipykernel_launcher.py:4: SettingWithCopyWarning: \n",
      "A value is trying to be set on a copy of a slice from a DataFrame.\n",
      "Try using .loc[row_indexer,col_indexer] = value instead\n",
      "\n",
      "See the caveats in the documentation: http://pandas.pydata.org/pandas-docs/stable/user_guide/indexing.html#returning-a-view-versus-a-copy\n",
      "  after removing the cwd from sys.path.\n"
     ]
    },
    {
     "data": {
      "text/plain": [
       "(243, 24)"
      ]
     },
     "execution_count": 13,
     "metadata": {},
     "output_type": "execute_result"
    }
   ],
   "source": [
    "curation = feature_Build(groupby_typekey,'CURATION' )\n",
    "curation.shape"
   ]
  },
  {
   "cell_type": "code",
   "execution_count": 14,
   "metadata": {},
   "outputs": [
    {
     "name": "stderr",
     "output_type": "stream",
     "text": [
      "/Users/macbookpro/anaconda3/lib/python3.6/site-packages/ipykernel_launcher.py:4: SettingWithCopyWarning: \n",
      "A value is trying to be set on a copy of a slice from a DataFrame.\n",
      "Try using .loc[row_indexer,col_indexer] = value instead\n",
      "\n",
      "See the caveats in the documentation: http://pandas.pydata.org/pandas-docs/stable/user_guide/indexing.html#returning-a-view-versus-a-copy\n",
      "  after removing the cwd from sys.path.\n"
     ]
    },
    {
     "data": {
      "text/plain": [
       "(970, 34)"
      ]
     },
     "execution_count": 14,
     "metadata": {},
     "output_type": "execute_result"
    }
   ],
   "source": [
    "mood = feature_Build(groupby_typekey,'MOOD' )\n",
    "mood.shape"
   ]
  },
  {
   "cell_type": "code",
   "execution_count": 15,
   "metadata": {},
   "outputs": [
    {
     "name": "stderr",
     "output_type": "stream",
     "text": [
      "/Users/macbookpro/anaconda3/lib/python3.6/site-packages/ipykernel_launcher.py:4: SettingWithCopyWarning: \n",
      "A value is trying to be set on a copy of a slice from a DataFrame.\n",
      "Try using .loc[row_indexer,col_indexer] = value instead\n",
      "\n",
      "See the caveats in the documentation: http://pandas.pydata.org/pandas-docs/stable/user_guide/indexing.html#returning-a-view-versus-a-copy\n",
      "  after removing the cwd from sys.path.\n"
     ]
    },
    {
     "data": {
      "text/plain": [
       "(1000, 63)"
      ]
     },
     "execution_count": 15,
     "metadata": {},
     "output_type": "execute_result"
    }
   ],
   "source": [
    "orchestration = feature_Build(groupby_typekey,'ORCHESTRATION' )\n",
    "orchestration.shape"
   ]
  },
  {
   "cell_type": "code",
   "execution_count": 16,
   "metadata": {},
   "outputs": [
    {
     "name": "stderr",
     "output_type": "stream",
     "text": [
      "/Users/macbookpro/anaconda3/lib/python3.6/site-packages/ipykernel_launcher.py:4: SettingWithCopyWarning: \n",
      "A value is trying to be set on a copy of a slice from a DataFrame.\n",
      "Try using .loc[row_indexer,col_indexer] = value instead\n",
      "\n",
      "See the caveats in the documentation: http://pandas.pydata.org/pandas-docs/stable/user_guide/indexing.html#returning-a-view-versus-a-copy\n",
      "  after removing the cwd from sys.path.\n"
     ]
    },
    {
     "data": {
      "text/plain": [
       "(13, 3)"
      ]
     },
     "execution_count": 16,
     "metadata": {},
     "output_type": "execute_result"
    }
   ],
   "source": [
    "form = feature_Build(groupby_typekey,'FORM' )\n",
    "form.shape"
   ]
  },
  {
   "cell_type": "code",
   "execution_count": 17,
   "metadata": {},
   "outputs": [
    {
     "name": "stdout",
     "output_type": "stream",
     "text": [
      "(1000, 100)\n"
     ]
    },
    {
     "data": {
      "text/html": [
       "<div>\n",
       "<style scoped>\n",
       "    .dataframe tbody tr th:only-of-type {\n",
       "        vertical-align: middle;\n",
       "    }\n",
       "\n",
       "    .dataframe tbody tr th {\n",
       "        vertical-align: top;\n",
       "    }\n",
       "\n",
       "    .dataframe thead th {\n",
       "        text-align: right;\n",
       "    }\n",
       "</style>\n",
       "<table border=\"1\" class=\"dataframe\">\n",
       "  <thead>\n",
       "    <tr style=\"text-align: right;\">\n",
       "      <th>user</th>\n",
       "      <th>3568920</th>\n",
       "      <th>3568922</th>\n",
       "      <th>3568924</th>\n",
       "      <th>3568932</th>\n",
       "      <th>3568998</th>\n",
       "      <th>3581842</th>\n",
       "      <th>3582502</th>\n",
       "      <th>3582854</th>\n",
       "      <th>3582874</th>\n",
       "      <th>3593458</th>\n",
       "      <th>...</th>\n",
       "      <th>62063406</th>\n",
       "      <th>64359968</th>\n",
       "      <th>68849385</th>\n",
       "      <th>77495305</th>\n",
       "      <th>116965066</th>\n",
       "      <th>153428933</th>\n",
       "      <th>222759474</th>\n",
       "      <th>239010771</th>\n",
       "      <th>339744862</th>\n",
       "      <th>488313775</th>\n",
       "    </tr>\n",
       "    <tr>\n",
       "      <th>track</th>\n",
       "      <th></th>\n",
       "      <th></th>\n",
       "      <th></th>\n",
       "      <th></th>\n",
       "      <th></th>\n",
       "      <th></th>\n",
       "      <th></th>\n",
       "      <th></th>\n",
       "      <th></th>\n",
       "      <th></th>\n",
       "      <th></th>\n",
       "      <th></th>\n",
       "      <th></th>\n",
       "      <th></th>\n",
       "      <th></th>\n",
       "      <th></th>\n",
       "      <th></th>\n",
       "      <th></th>\n",
       "      <th></th>\n",
       "      <th></th>\n",
       "      <th></th>\n",
       "    </tr>\n",
       "  </thead>\n",
       "  <tbody>\n",
       "    <tr>\n",
       "      <th>555361530.0</th>\n",
       "      <td>0</td>\n",
       "      <td>0</td>\n",
       "      <td>0</td>\n",
       "      <td>0</td>\n",
       "      <td>0</td>\n",
       "      <td>0</td>\n",
       "      <td>0</td>\n",
       "      <td>0</td>\n",
       "      <td>0</td>\n",
       "      <td>0</td>\n",
       "      <td>...</td>\n",
       "      <td>0</td>\n",
       "      <td>0</td>\n",
       "      <td>0</td>\n",
       "      <td>0</td>\n",
       "      <td>0</td>\n",
       "      <td>0</td>\n",
       "      <td>3</td>\n",
       "      <td>1</td>\n",
       "      <td>0</td>\n",
       "      <td>0</td>\n",
       "    </tr>\n",
       "    <tr>\n",
       "      <th>555361558.0</th>\n",
       "      <td>0</td>\n",
       "      <td>0</td>\n",
       "      <td>0</td>\n",
       "      <td>0</td>\n",
       "      <td>0</td>\n",
       "      <td>0</td>\n",
       "      <td>0</td>\n",
       "      <td>0</td>\n",
       "      <td>0</td>\n",
       "      <td>0</td>\n",
       "      <td>...</td>\n",
       "      <td>0</td>\n",
       "      <td>0</td>\n",
       "      <td>0</td>\n",
       "      <td>0</td>\n",
       "      <td>0</td>\n",
       "      <td>0</td>\n",
       "      <td>3</td>\n",
       "      <td>1</td>\n",
       "      <td>0</td>\n",
       "      <td>0</td>\n",
       "    </tr>\n",
       "    <tr>\n",
       "      <th>555361620.0</th>\n",
       "      <td>0</td>\n",
       "      <td>0</td>\n",
       "      <td>0</td>\n",
       "      <td>0</td>\n",
       "      <td>0</td>\n",
       "      <td>0</td>\n",
       "      <td>0</td>\n",
       "      <td>0</td>\n",
       "      <td>0</td>\n",
       "      <td>0</td>\n",
       "      <td>...</td>\n",
       "      <td>0</td>\n",
       "      <td>0</td>\n",
       "      <td>0</td>\n",
       "      <td>0</td>\n",
       "      <td>0</td>\n",
       "      <td>0</td>\n",
       "      <td>3</td>\n",
       "      <td>1</td>\n",
       "      <td>0</td>\n",
       "      <td>0</td>\n",
       "    </tr>\n",
       "    <tr>\n",
       "      <th>555361656.0</th>\n",
       "      <td>0</td>\n",
       "      <td>0</td>\n",
       "      <td>0</td>\n",
       "      <td>0</td>\n",
       "      <td>0</td>\n",
       "      <td>0</td>\n",
       "      <td>0</td>\n",
       "      <td>0</td>\n",
       "      <td>0</td>\n",
       "      <td>0</td>\n",
       "      <td>...</td>\n",
       "      <td>0</td>\n",
       "      <td>0</td>\n",
       "      <td>0</td>\n",
       "      <td>0</td>\n",
       "      <td>0</td>\n",
       "      <td>0</td>\n",
       "      <td>3</td>\n",
       "      <td>1</td>\n",
       "      <td>0</td>\n",
       "      <td>0</td>\n",
       "    </tr>\n",
       "    <tr>\n",
       "      <th>555361728.0</th>\n",
       "      <td>0</td>\n",
       "      <td>0</td>\n",
       "      <td>0</td>\n",
       "      <td>0</td>\n",
       "      <td>0</td>\n",
       "      <td>0</td>\n",
       "      <td>0</td>\n",
       "      <td>0</td>\n",
       "      <td>0</td>\n",
       "      <td>0</td>\n",
       "      <td>...</td>\n",
       "      <td>0</td>\n",
       "      <td>0</td>\n",
       "      <td>0</td>\n",
       "      <td>0</td>\n",
       "      <td>0</td>\n",
       "      <td>0</td>\n",
       "      <td>3</td>\n",
       "      <td>1</td>\n",
       "      <td>0</td>\n",
       "      <td>0</td>\n",
       "    </tr>\n",
       "  </tbody>\n",
       "</table>\n",
       "<p>5 rows × 100 columns</p>\n",
       "</div>"
      ],
      "text/plain": [
       "user         3568920    3568922    3568924    3568932    3568998    3581842    \\\n",
       "track                                                                           \n",
       "555361530.0          0          0          0          0          0          0   \n",
       "555361558.0          0          0          0          0          0          0   \n",
       "555361620.0          0          0          0          0          0          0   \n",
       "555361656.0          0          0          0          0          0          0   \n",
       "555361728.0          0          0          0          0          0          0   \n",
       "\n",
       "user         3582502    3582854    3582874    3593458    ...  62063406   \\\n",
       "track                                                    ...              \n",
       "555361530.0          0          0          0          0  ...          0   \n",
       "555361558.0          0          0          0          0  ...          0   \n",
       "555361620.0          0          0          0          0  ...          0   \n",
       "555361656.0          0          0          0          0  ...          0   \n",
       "555361728.0          0          0          0          0  ...          0   \n",
       "\n",
       "user         64359968   68849385   77495305   116965066  153428933  222759474  \\\n",
       "track                                                                           \n",
       "555361530.0          0          0          0          0          0          3   \n",
       "555361558.0          0          0          0          0          0          3   \n",
       "555361620.0          0          0          0          0          0          3   \n",
       "555361656.0          0          0          0          0          0          3   \n",
       "555361728.0          0          0          0          0          0          3   \n",
       "\n",
       "user         239010771  339744862  488313775  \n",
       "track                                         \n",
       "555361530.0          1          0          0  \n",
       "555361558.0          1          0          0  \n",
       "555361620.0          1          0          0  \n",
       "555361656.0          1          0          0  \n",
       "555361728.0          1          0          0  \n",
       "\n",
       "[5 rows x 100 columns]"
      ]
     },
     "execution_count": 17,
     "metadata": {},
     "output_type": "execute_result"
    }
   ],
   "source": [
    "user_track = total_sample.pivot_table('rating','track','user',fill_value=0,dropna=False)\n",
    "user_track = user_track.sort_values('track')\n",
    "print(user_track.shape)\n",
    "user_track.tail()"
   ]
  },
  {
   "cell_type": "code",
   "execution_count": 18,
   "metadata": {},
   "outputs": [
    {
     "name": "stdout",
     "output_type": "stream",
     "text": [
      "(1000, 1000)\n",
      "724.0000000000001\n"
     ]
    },
    {
     "data": {
      "text/plain": [
       "array([[1.        , 0.58304494, 0.21155296, 0.40406881, 0.27993145],\n",
       "       [0.58304494, 1.        , 0.29813649, 0.42361111, 0.42454476],\n",
       "       [0.21155296, 0.29813649, 1.        , 0.31348769, 0.45190311],\n",
       "       [0.40406881, 0.42361111, 0.31348769, 1.        , 0.37737312],\n",
       "       [0.27993145, 0.42454476, 0.45190311, 0.37737312, 1.        ]])"
      ]
     },
     "execution_count": 18,
     "metadata": {},
     "output_type": "execute_result"
    }
   ],
   "source": [
    "gt_cosine_sim = cosine_similarity(user_track,user_track)\n",
    "print(gt_cosine_sim.shape)\n",
    "print(gt_cosine_sim[(gt_cosine_sim>=0.999) & (gt_cosine_sim<=1.001)].sum()/2)\n",
    "gt_cosine_sim[:5,:5]"
   ]
  },
  {
   "cell_type": "code",
   "execution_count": 19,
   "metadata": {},
   "outputs": [
    {
     "name": "stdout",
     "output_type": "stream",
     "text": [
      "(1000, 1000)\n",
      "297800.0\n",
      "-6.613156436056851\n",
      "0.20791837166851776\n"
     ]
    },
    {
     "data": {
      "text/plain": [
       "array([[1., 1., 1., 0., 0., 1., 0., 0., 0., 0.],\n",
       "       [1., 1., 1., 0., 0., 1., 0., 0., 0., 0.],\n",
       "       [1., 1., 1., 0., 0., 1., 0., 0., 0., 0.],\n",
       "       [0., 0., 0., 1., 0., 0., 0., 0., 0., 0.],\n",
       "       [0., 0., 0., 0., 1., 0., 1., 1., 1., 1.],\n",
       "       [1., 1., 1., 0., 0., 1., 0., 0., 0., 0.],\n",
       "       [0., 0., 0., 0., 1., 0., 1., 1., 1., 1.],\n",
       "       [0., 0., 0., 0., 1., 0., 1., 1., 1., 1.],\n",
       "       [0., 0., 0., 0., 1., 0., 1., 1., 1., 1.],\n",
       "       [0., 0., 0., 0., 1., 0., 1., 1., 1., 1.]])"
      ]
     },
     "execution_count": 19,
     "metadata": {},
     "output_type": "execute_result"
    }
   ],
   "source": [
    "gt = user_track.loc[user_track.index.isin(genre['TRACK_ID'].unique())].sort_index()\n",
    "genre = genre.drop('TRACK_ID',axis=1)\n",
    "gt_cosine_sim = cosine_similarity(gt,gt)\n",
    "cosine_sim_genre = cosine_similarity(genre, genre)\n",
    "print(cosine_sim_genre.shape)\n",
    "print(cosine_sim_genre[(cosine_sim_genre>=0.999) & (cosine_sim_genre<=1.001)].sum()//2+1)\n",
    "print(r2_score(gt_cosine_sim.flatten(),cosine_sim_genre.flatten()))\n",
    "print(mean_squared_error(cosine_sim_genre.flatten(),gt_cosine_sim.flatten()))\n",
    "cosine_sim_genre[:10,:10]"
   ]
  },
  {
   "cell_type": "code",
   "execution_count": 20,
   "metadata": {},
   "outputs": [
    {
     "name": "stdout",
     "output_type": "stream",
     "text": [
      "(970, 970)\n",
      "9136.0\n",
      "-12.152456775523527\n",
      "0.3473287239642571\n"
     ]
    },
    {
     "data": {
      "text/plain": [
       "array([[1.        , 0.        , 0.        , 0.40824829, 0.        ],\n",
       "       [0.        , 1.        , 0.        , 0.        , 0.70710678],\n",
       "       [0.        , 0.        , 1.        , 0.        , 0.        ],\n",
       "       [0.40824829, 0.        , 0.        , 1.        , 0.        ],\n",
       "       [0.        , 0.70710678, 0.        , 0.        , 1.        ]])"
      ]
     },
     "execution_count": 20,
     "metadata": {},
     "output_type": "execute_result"
    }
   ],
   "source": [
    "gt = user_track.loc[user_track.index.isin(mood['TRACK_ID'].unique())].sort_index()\n",
    "mood = mood.drop('TRACK_ID',axis=1)\n",
    "cosine_sim_mood = cosine_similarity(mood, mood)\n",
    "gt_cosine_sim = cosine_similarity(gt,gt)\n",
    "print(cosine_sim_mood.shape)\n",
    "print(cosine_sim_mood[(cosine_sim_mood>=0.999) & (cosine_sim_mood<=1.001)].sum()//2 + 1)\n",
    "print(r2_score(gt_cosine_sim.flatten(),cosine_sim_mood.flatten()))\n",
    "print(mean_squared_error(gt_cosine_sim.flatten(),cosine_sim_mood.flatten()))\n",
    "cosine_sim_mood[:5,:5]"
   ]
  },
  {
   "cell_type": "code",
   "execution_count": 21,
   "metadata": {},
   "outputs": [
    {
     "name": "stdout",
     "output_type": "stream",
     "text": [
      "(1000, 1000)\n",
      "50567.0\n",
      "-1.1107881820859946\n",
      "0.05764647626021717\n"
     ]
    },
    {
     "data": {
      "text/plain": [
       "array([[1.        , 1.        , 1.        , 1.        , 1.        ,\n",
       "        0.57735027, 0.70710678, 0.70710678, 0.70710678, 0.70710678],\n",
       "       [1.        , 1.        , 1.        , 1.        , 1.        ,\n",
       "        0.57735027, 0.70710678, 0.70710678, 0.70710678, 0.70710678],\n",
       "       [1.        , 1.        , 1.        , 1.        , 1.        ,\n",
       "        0.57735027, 0.70710678, 0.70710678, 0.70710678, 0.70710678],\n",
       "       [1.        , 1.        , 1.        , 1.        , 1.        ,\n",
       "        0.57735027, 0.70710678, 0.70710678, 0.70710678, 0.70710678],\n",
       "       [1.        , 1.        , 1.        , 1.        , 1.        ,\n",
       "        0.57735027, 0.70710678, 0.70710678, 0.70710678, 0.70710678]])"
      ]
     },
     "execution_count": 21,
     "metadata": {},
     "output_type": "execute_result"
    }
   ],
   "source": [
    "gt = user_track.loc[user_track.index.isin(orchestration['TRACK_ID'].unique())].sort_index()\n",
    "orchestration = orchestration.drop('TRACK_ID',axis=1)\n",
    "gt_cosine_sim = cosine_similarity(gt,gt)\n",
    "cosine_sim_orchestration = cosine_similarity(orchestration, orchestration)\n",
    "print(cosine_sim_orchestration.shape)\n",
    "print(cosine_sim_orchestration[(cosine_sim_orchestration>=0.999) & (cosine_sim_orchestration<=1.001)].sum()//2 + 1)\n",
    "print(r2_score(gt_cosine_sim.flatten(),cosine_sim_orchestration.flatten()))\n",
    "print(mean_squared_error(gt_cosine_sim.flatten(),cosine_sim_orchestration.flatten()))\n",
    "cosine_sim_orchestration[:5,:10]"
   ]
  },
  {
   "cell_type": "code",
   "execution_count": 22,
   "metadata": {},
   "outputs": [
    {
     "name": "stdout",
     "output_type": "stream",
     "text": [
      "(243, 243)\n",
      "2998.0\n",
      "-15.162312033910577\n",
      "0.42529747409340274\n"
     ]
    },
    {
     "data": {
      "text/plain": [
       "array([[1., 0., 0., 0., 0., 0., 0., 0., 0., 0.],\n",
       "       [0., 1., 0., 0., 0., 0., 0., 0., 0., 0.],\n",
       "       [0., 0., 1., 0., 0., 1., 0., 0., 0., 0.],\n",
       "       [0., 0., 0., 1., 0., 0., 0., 0., 0., 0.],\n",
       "       [0., 0., 0., 0., 1., 0., 0., 1., 0., 0.],\n",
       "       [0., 0., 1., 0., 0., 1., 0., 0., 0., 0.],\n",
       "       [0., 0., 0., 0., 0., 0., 1., 0., 0., 0.],\n",
       "       [0., 0., 0., 0., 1., 0., 0., 1., 0., 0.],\n",
       "       [0., 0., 0., 0., 0., 0., 0., 0., 1., 0.],\n",
       "       [0., 0., 0., 0., 0., 0., 0., 0., 0., 1.]])"
      ]
     },
     "execution_count": 22,
     "metadata": {},
     "output_type": "execute_result"
    }
   ],
   "source": [
    "gt = user_track.loc[user_track.index.isin(curation['TRACK_ID'].unique())].sort_index()\n",
    "curation = curation.drop('TRACK_ID',axis=1)\n",
    "gt_cosine_sim = cosine_similarity(gt,gt)\n",
    "cosine_sim_curation = cosine_similarity(curation, curation)\n",
    "print(cosine_sim_curation.shape)\n",
    "print(cosine_sim_curation[(cosine_sim_curation>=0.999) & (cosine_sim_curation<=1.001)].sum()//2 + 1)\n",
    "print(r2_score(gt_cosine_sim.flatten(),cosine_sim_curation.flatten()))\n",
    "print(mean_squared_error(gt_cosine_sim.flatten(),cosine_sim_curation.flatten()))\n",
    "cosine_sim_curation[:10,:10]"
   ]
  },
  {
   "cell_type": "code",
   "execution_count": 23,
   "metadata": {},
   "outputs": [
    {
     "name": "stdout",
     "output_type": "stream",
     "text": [
      "(13, 13)\n",
      "125.0\n",
      "-1.9163741354070911\n",
      "0.374324894729173\n"
     ]
    },
    {
     "data": {
      "text/plain": [
       "array([[1., 1., 1., 1., 1., 1., 1., 0., 1., 1.],\n",
       "       [1., 1., 1., 1., 1., 1., 1., 0., 1., 1.],\n",
       "       [1., 1., 1., 1., 1., 1., 1., 0., 1., 1.],\n",
       "       [1., 1., 1., 1., 1., 1., 1., 0., 1., 1.],\n",
       "       [1., 1., 1., 1., 1., 1., 1., 0., 1., 1.],\n",
       "       [1., 1., 1., 1., 1., 1., 1., 0., 1., 1.],\n",
       "       [1., 1., 1., 1., 1., 1., 1., 0., 1., 1.],\n",
       "       [0., 0., 0., 0., 0., 0., 0., 1., 0., 0.],\n",
       "       [1., 1., 1., 1., 1., 1., 1., 0., 1., 1.],\n",
       "       [1., 1., 1., 1., 1., 1., 1., 0., 1., 1.]])"
      ]
     },
     "execution_count": 23,
     "metadata": {},
     "output_type": "execute_result"
    }
   ],
   "source": [
    "gt = user_track.loc[user_track.index.isin(form['TRACK_ID'].unique())].sort_index()\n",
    "form = form.drop('TRACK_ID',axis=1)\n",
    "gt_cosine_sim = cosine_similarity(gt,gt)\n",
    "cosine_sim_form = cosine_similarity(form, form)\n",
    "print(cosine_sim_form.shape)\n",
    "print(cosine_sim_form[cosine_sim_form==1].sum())\n",
    "print(r2_score(gt_cosine_sim.flatten(),cosine_sim_form.flatten()))\n",
    "print(mean_squared_error(gt_cosine_sim.flatten(),cosine_sim_form.flatten()))\n",
    "cosine_sim_form[:10,:10]"
   ]
  }
 ],
 "metadata": {
  "kernelspec": {
   "display_name": "Python 3",
   "language": "python",
   "name": "python3"
  },
  "language_info": {
   "codemirror_mode": {
    "name": "ipython",
    "version": 3
   },
   "file_extension": ".py",
   "mimetype": "text/x-python",
   "name": "python",
   "nbconvert_exporter": "python",
   "pygments_lexer": "ipython3",
   "version": "3.7.4"
  }
 },
 "nbformat": 4,
 "nbformat_minor": 4
}
