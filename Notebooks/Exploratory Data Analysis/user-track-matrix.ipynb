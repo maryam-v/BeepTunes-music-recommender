{
 "cells": [
  {
   "cell_type": "code",
   "execution_count": 1,
   "metadata": {},
   "outputs": [],
   "source": [
    "import numpy as np\n",
    "import pandas as pd\n",
    "from pathlib import Path\n",
    "from numpy import save\n",
    "# import sparse module from SciPy package \n",
    "from scipy import sparse\n",
    "# import uniform module to create random numbers\n",
    "from scipy.stats import uniform"
   ]
  },
  {
   "cell_type": "code",
   "execution_count": 2,
   "metadata": {},
   "outputs": [],
   "source": [
    "track_like_coeff = 1\n",
    "track_download_coeff = 0.5\n",
    "track_purchase_coeff = 1\n",
    "album_like_coeff = 0.5\n",
    "album_download_coeff = 0.5\n",
    "album_purchase_coeff = 1"
   ]
  },
  {
   "cell_type": "code",
   "execution_count": 3,
   "metadata": {},
   "outputs": [],
   "source": [
    "data_path = Path('../../raw_data/')\n",
    "track_like = pd.read_csv(data_path/'track_like.csv')"
   ]
  },
  {
   "cell_type": "code",
   "execution_count": 4,
   "metadata": {},
   "outputs": [],
   "source": [
    "track_info = pd.read_csv(data_path/'track_info.csv')"
   ]
  },
  {
   "cell_type": "code",
   "execution_count": 5,
   "metadata": {},
   "outputs": [],
   "source": [
    "track_info=track_info.drop_duplicates()"
   ]
  },
  {
   "cell_type": "code",
   "execution_count": 6,
   "metadata": {},
   "outputs": [],
   "source": [
    "track_download = pd.read_csv(data_path/'track_download.csv')"
   ]
  },
  {
   "cell_type": "code",
   "execution_count": 7,
   "metadata": {},
   "outputs": [],
   "source": [
    "album_track_purchase =  pd.read_csv(data_path/'album_track_purchase.csv')"
   ]
  },
  {
   "cell_type": "code",
   "execution_count": 9,
   "metadata": {},
   "outputs": [],
   "source": [
    "album_like = pd.read_csv(data_path/'album_like.csv')"
   ]
  },
  {
   "cell_type": "code",
   "execution_count": 11,
   "metadata": {},
   "outputs": [],
   "source": [
    "album_download = pd.read_csv(data_path/'download_album.csv')"
   ]
  },
  {
   "cell_type": "code",
   "execution_count": 12,
   "metadata": {},
   "outputs": [],
   "source": [
    "artist_like = pd.read_csv(data_path/'artist_like.csv')"
   ]
  },
  {
   "cell_type": "code",
   "execution_count": 13,
   "metadata": {},
   "outputs": [],
   "source": [
    "track_like_users = track_like['USER_ID'].unique()\n",
    "track_download_users = track_download['USER_ID'].unique()\n",
    "track_album_purchase_users = album_track_purchase['USER_ID'].unique()\n",
    "album_like_users = album_like['USER_ID'].unique()\n",
    "album_download_users = album_download['USER_ID'].unique()\n",
    "artist_like_users = artist_like['USER_ID'].unique()"
   ]
  },
  {
   "cell_type": "code",
   "execution_count": 14,
   "metadata": {},
   "outputs": [],
   "source": [
    "all_users = np.concatenate((track_like_users, track_download_users, track_album_purchase_users,album_like_users,album_download_users, artist_like_users))"
   ]
  },
  {
   "cell_type": "code",
   "execution_count": 15,
   "metadata": {},
   "outputs": [],
   "source": [
    "all_users_unique = np.unique(all_users)"
   ]
  },
  {
   "cell_type": "code",
   "execution_count": 16,
   "metadata": {},
   "outputs": [],
   "source": [
    "all_tracks_unique = track_info['TRACK_ID'].unique()"
   ]
  },
  {
   "cell_type": "code",
   "execution_count": 14,
   "metadata": {},
   "outputs": [],
   "source": [
    "# track like"
   ]
  },
  {
   "cell_type": "code",
   "execution_count": 17,
   "metadata": {},
   "outputs": [],
   "source": [
    "index_track_like_users = np.where(np.isin(all_users_unique,track_like_users))[0]"
   ]
  },
  {
   "cell_type": "code",
   "execution_count": 23,
   "metadata": {},
   "outputs": [],
   "source": [
    "user_track_like_groupby = track_like.groupby('USER_ID')"
   ]
  },
  {
   "cell_type": "code",
   "execution_count": 24,
   "metadata": {},
   "outputs": [],
   "source": [
    "row_ind_track_like = np.empty([],dtype=int)\n",
    "col_ind_track_like = np.empty([],dtype=int)"
   ]
  },
  {
   "cell_type": "code",
   "execution_count": 25,
   "metadata": {},
   "outputs": [],
   "source": [
    "for i in range(len(track_like_users)):\n",
    "    tracks_liked_by_spec_user = user_track_like_groupby.get_group(track_like_users[i])['TRACK_ID']\n",
    "    index_track_like_tracks = np.where(np.isin(all_tracks_unique,tracks_liked_by_spec_user))[0]\n",
    "    row = np.full((len(index_track_like_tracks),), index_track_like_users[i])\n",
    "    col = index_track_like_tracks\n",
    "    row_ind_track_like = np.append(row_ind_track_like, row)\n",
    "    col_ind_track_like = np.append(col_ind_track_like, col)"
   ]
  },
  {
   "cell_type": "code",
   "execution_count": 20,
   "metadata": {},
   "outputs": [],
   "source": [
    "row_ind_track_like = np.delete(row_ind_track_like, 0)\n",
    "col_ind_track_like = np.delete(col_ind_track_like, 0)"
   ]
  },
  {
   "cell_type": "code",
   "execution_count": 21,
   "metadata": {},
   "outputs": [],
   "source": [
    "user_track_like_coeffs = np.full((row_ind_track_like.shape[0], ), track_like_coeff)"
   ]
  },
  {
   "cell_type": "code",
   "execution_count": 49,
   "metadata": {},
   "outputs": [],
   "source": [
    "save('row_ind_track_like.npy', row_ind_track_like)\n",
    "save('col_ind_track_like.npy', col_ind_track_like)\n",
    "save('user_track_like_coeffs.npy', user_track_like_coeffs)"
   ]
  },
  {
   "cell_type": "code",
   "execution_count": 190,
   "metadata": {},
   "outputs": [],
   "source": [
    "# track download"
   ]
  },
  {
   "cell_type": "code",
   "execution_count": 195,
   "metadata": {},
   "outputs": [],
   "source": [
    "user_track_download_groupby = track_download.groupby('USER_ID')"
   ]
  },
  {
   "cell_type": "code",
   "execution_count": 196,
   "metadata": {},
   "outputs": [],
   "source": [
    "index_track_download_users = np.where(np.isin(all_users_unique,track_like_users))[0]"
   ]
  },
  {
   "cell_type": "code",
   "execution_count": 159,
   "metadata": {},
   "outputs": [],
   "source": [
    "row_ind_track_download = np.empty([],dtype=int)\n",
    "col_ind_track_download = np.empty([],dtype=int)"
   ]
  },
  {
   "cell_type": "code",
   "execution_count": null,
   "metadata": {},
   "outputs": [],
   "source": [
    "for i in range(len(track_download_users)):\n",
    "    tracks_downloaded_by_spec_user = user_track_download_groupby.get_group(track_download_users[i])['TRACK_ID']\n",
    "    index_track_download_tracks = np.where(np.isin(all_tracks_unique,tracks_downloaded_by_spec_user))[0]\n",
    "    row = np.full((len(index_track_download_tracks),), index_track_download_users[i])\n",
    "    col = index_track_download_tracks\n",
    "    row_ind_track_download = np.append(row_ind_track_download, row)\n",
    "    col_ind_track_download = np.append(col_ind_track_download, col)"
   ]
  },
  {
   "cell_type": "code",
   "execution_count": null,
   "metadata": {},
   "outputs": [],
   "source": [
    "row_ind_track_download = np.delete(row_ind_track_download, 0)\n",
    "col_ind_track_download = np.delete(col_ind_track_download, 0)"
   ]
  },
  {
   "cell_type": "code",
   "execution_count": null,
   "metadata": {},
   "outputs": [],
   "source": [
    "user_track_download_coeffs = np.full((row_ind_track_download.shape[0], ), track_download_coeff)"
   ]
  },
  {
   "cell_type": "code",
   "execution_count": null,
   "metadata": {},
   "outputs": [],
   "source": [
    "save('row_ind_track_download.npy', row_ind_track_download)\n",
    "save('col_ind_track_download.npy', col_ind_track_download)\n",
    "save('user_track_download_coeffs.npy', user_track_download_coeffs)"
   ]
  },
  {
   "cell_type": "code",
   "execution_count": null,
   "metadata": {},
   "outputs": [],
   "source": [
    "# track_purchase "
   ]
  },
  {
   "cell_type": "code",
   "execution_count": 44,
   "metadata": {},
   "outputs": [],
   "source": [
    "user_track_purchase_groupby = album_track_purchase.groupby('USER_ID')"
   ]
  },
  {
   "cell_type": "code",
   "execution_count": 45,
   "metadata": {},
   "outputs": [],
   "source": [
    "index_track_purchase_users = np.where(np.isin(all_users_unique,track_album_purchase_users))[0]"
   ]
  },
  {
   "cell_type": "code",
   "execution_count": 46,
   "metadata": {},
   "outputs": [],
   "source": [
    "row_ind_track_purchase = np.empty([],dtype=int)\n",
    "col_ind_track_purchase = np.empty([],dtype=int)"
   ]
  },
  {
   "cell_type": "code",
   "execution_count": 1,
   "metadata": {},
   "outputs": [],
   "source": [
    "for i in range(len(track_album_purchase_users)):\n",
    "    tracks_purchased_by_spec_user = user_track_purchase_groupby.get_group(track_album_purchase_users[i])['TRACK_ID'].dropna(axis='rows')\n",
    "    index_track_purchase_tracks = np.where(np.isin(all_tracks_unique,tracks_purchased_by_spec_user))[0]\n",
    "    row = np.full((len(index_track_purchase_tracks),), index_track_purchase_users[i])\n",
    "    col = index_track_purchase_tracks\n",
    "    row_ind_track_purchase = np.append(row_ind_track_purchase, row)\n",
    "    col_ind_track_purchase = np.append(col_ind_track_purchase, col)"
   ]
  },
  {
   "cell_type": "code",
   "execution_count": null,
   "metadata": {},
   "outputs": [],
   "source": [
    "row_ind_track_purchase = np.delete(row_ind_track_purchase, 0)\n",
    "col_ind_track_purchase = np.delete(col_ind_track_purchase, 0)"
   ]
  },
  {
   "cell_type": "code",
   "execution_count": null,
   "metadata": {},
   "outputs": [],
   "source": [
    "user_track_purchase_coeffs = np.full((row_ind_track_purchase.shape[0], ), track_purchase_coeff)"
   ]
  },
  {
   "cell_type": "code",
   "execution_count": null,
   "metadata": {},
   "outputs": [],
   "source": [
    "save('row_ind_track_purchase.npy', row_ind_track_purchase)\n",
    "save('col_ind_track_purchase.npy', col_ind_track_purchase)\n",
    "save('user_track_purchase_coeffs.npy', user_track_purchase_coeffs)"
   ]
  },
  {
   "cell_type": "code",
   "execution_count": null,
   "metadata": {},
   "outputs": [],
   "source": [
    "# album like"
   ]
  },
  {
   "cell_type": "code",
   "execution_count": 112,
   "metadata": {},
   "outputs": [],
   "source": [
    "index_album_like_users = np.where(np.isin(all_users_unique,album_like_users))[0]"
   ]
  },
  {
   "cell_type": "code",
   "execution_count": 113,
   "metadata": {},
   "outputs": [],
   "source": [
    "user_album_like_groupby = album_like.groupby('USER_ID')"
   ]
  },
  {
   "cell_type": "code",
   "execution_count": 114,
   "metadata": {},
   "outputs": [],
   "source": [
    "track_info_album_groupby = track_info.groupby('ALBUM_ID')"
   ]
  },
  {
   "cell_type": "code",
   "execution_count": 115,
   "metadata": {},
   "outputs": [],
   "source": [
    "row_ind_album_like = np.empty([],dtype=int)\n",
    "col_ind_album_like = np.empty([],dtype=int)"
   ]
  },
  {
   "cell_type": "code",
   "execution_count": 2,
   "metadata": {},
   "outputs": [],
   "source": [
    "for i in range(len(album_like_users)):\n",
    "    albums_liked_by_spec_user = user_album_like_groupby.get_group(album_like_users[i])['ALBUM_ID']\n",
    "    list_tracks_liked = []\n",
    "    try:\n",
    "        for j in range(len(albums_liked_by_spec_user)):\n",
    "            album_like_tracks = track_info_album_groupby.get_group(list(albums_liked_by_spec_user)[j])['TRACK_ID']\n",
    "            list_tracks_liked.append(list(album_like_tracks))\n",
    "    except KeyError:\n",
    "        pass\n",
    "\n",
    "    index_track_like_tracks = np.where(np.isin(all_tracks_unique,list_tracks_liked))[0]\n",
    "    row = np.full((len(index_track_like_tracks),), index_album_like_users[i])\n",
    "    col = index_track_like_tracks\n",
    "    row_ind_album_like = np.append(row_ind_album_like, row)\n",
    "    col_ind_album_like = np.append(col_ind_album_like, col)"
   ]
  },
  {
   "cell_type": "code",
   "execution_count": null,
   "metadata": {},
   "outputs": [],
   "source": [
    "row_ind_album_like = np.delete(row_ind_album_like, 0)\n",
    "col_ind_album_like = np.delete(col_ind_album_like, 0)"
   ]
  },
  {
   "cell_type": "code",
   "execution_count": null,
   "metadata": {},
   "outputs": [],
   "source": [
    "user_album_like_coeffs = np.full((row_ind_album_like.shape[0], ), album_like_coeff)"
   ]
  },
  {
   "cell_type": "code",
   "execution_count": null,
   "metadata": {},
   "outputs": [],
   "source": [
    "save('row_ind_album_like.npy', row_ind_album_like)\n",
    "save('col_ind_album_like.npy', col_ind_album_like)\n",
    "save('user_album_like_coeffs.npy', user_album_like_coeffs)"
   ]
  },
  {
   "cell_type": "code",
   "execution_count": null,
   "metadata": {},
   "outputs": [],
   "source": [
    "# album download"
   ]
  },
  {
   "cell_type": "code",
   "execution_count": null,
   "metadata": {},
   "outputs": [],
   "source": [
    "index_album_download_users = np.where(np.isin(all_users_unique,album_downlaod_users))[0]"
   ]
  },
  {
   "cell_type": "code",
   "execution_count": null,
   "metadata": {},
   "outputs": [],
   "source": [
    "user_album_downlaod_groupby = album_like.groupby('USER_ID')"
   ]
  },
  {
   "cell_type": "code",
   "execution_count": null,
   "metadata": {},
   "outputs": [],
   "source": [
    "track_info_album_groupby = track_info.groupby('ALBUM_ID')"
   ]
  },
  {
   "cell_type": "code",
   "execution_count": 161,
   "metadata": {},
   "outputs": [],
   "source": [
    "row_ind_album_download = np.empty([],dtype=int)\n",
    "col_ind_album_download = np.empty([],dtype=int)"
   ]
  },
  {
   "cell_type": "code",
   "execution_count": null,
   "metadata": {},
   "outputs": [],
   "source": [
    "for i in range(len(album_like_users)):\n",
    "    albums_liked_by_spec_user = user_album_like_groupby.get_group(album_like_users[i])['ALBUM_ID']\n",
    "    list_tracks_liked = []\n",
    "    try:\n",
    "        for j in range(len(albums_liked_by_spec_user)):\n",
    "            album_like_tracks = track_info_album_groupby.get_group(list(albums_liked_by_spec_user)[j])['TRACK_ID']\n",
    "            list_tracks_liked.append(list(album_like_tracks))\n",
    "    except KeyError:\n",
    "        pass\n",
    "\n",
    "    index_track_like_tracks = np.where(np.isin(all_tracks_unique,list_tracks_liked))[0]\n",
    "    row = np.full((len(index_track_like_tracks),), index_album_like_users[i])\n",
    "    col = index_track_like_tracks\n",
    "    row_ind_album_download = np.append(row_ind_album_download, row)\n",
    "    col_ind_album_download = np.append(col_ind_album_download, col)"
   ]
  },
  {
   "cell_type": "code",
   "execution_count": null,
   "metadata": {},
   "outputs": [],
   "source": [
    "row_ind_album_download = np.delete(row_ind_album_download, 0)\n",
    "col_ind_album_download = np.delete(col_ind_album_download, 0)"
   ]
  },
  {
   "cell_type": "code",
   "execution_count": null,
   "metadata": {},
   "outputs": [],
   "source": [
    "user_album_download_coeffs = np.full((row_ind_album_download.shape[0], ), album_download_coeff)"
   ]
  },
  {
   "cell_type": "code",
   "execution_count": null,
   "metadata": {},
   "outputs": [],
   "source": [
    "save('row_ind_album_download.npy', row_ind_album_download)\n",
    "save('col_ind_album_download.npy', col_ind_album_download)\n",
    "save('user_album_download_coeffs.npy', user_album_download_coeffs)"
   ]
  },
  {
   "cell_type": "code",
   "execution_count": null,
   "metadata": {},
   "outputs": [],
   "source": [
    "# album purchase"
   ]
  },
  {
   "cell_type": "code",
   "execution_count": 145,
   "metadata": {},
   "outputs": [],
   "source": [
    "index_album_purchase_users = np.where(np.isin(all_users_unique,track_album_purchase_users))[0]"
   ]
  },
  {
   "cell_type": "code",
   "execution_count": 146,
   "metadata": {},
   "outputs": [],
   "source": [
    "user_album_purchase_groupby = album_track_purchase.groupby('USER_ID')"
   ]
  },
  {
   "cell_type": "code",
   "execution_count": 147,
   "metadata": {},
   "outputs": [],
   "source": [
    "track_info_album_groupby = track_info.groupby('ALBUM_ID')"
   ]
  },
  {
   "cell_type": "code",
   "execution_count": 149,
   "metadata": {},
   "outputs": [],
   "source": [
    "row_ind_album_purchase = np.empty([],dtype=int)\n",
    "col_ind_album_purchase = np.empty([],dtype=int)"
   ]
  },
  {
   "cell_type": "code",
   "execution_count": 3,
   "metadata": {},
   "outputs": [],
   "source": [
    "for i in range(len(album_like_users)):\n",
    "    albums_liked_by_spec_user = user_album_like_groupby.get_group(album_like_users[i])['ALBUM_ID'].dropna(axis='rows')\n",
    "    list_tracks_liked = []\n",
    "    try:\n",
    "        for j in range(len(albums_liked_by_spec_user)):\n",
    "            album_like_tracks = track_info_album_groupby.get_group(list(albums_liked_by_spec_user)[j])['TRACK_ID']\n",
    "            list_tracks_liked.append(list(album_like_tracks))\n",
    "    except KeyError:\n",
    "        pass\n",
    "\n",
    "    index_track_like_tracks = np.where(np.isin(all_tracks_unique,list_tracks_liked))[0]\n",
    "    row = np.full((len(index_track_like_tracks),), index_album_like_users[i])\n",
    "    col = index_track_like_tracks\n",
    "    row_ind_album_purchase = np.append(row_ind_album_purchase, row)\n",
    "    col_ind_album_purchase = np.append(col_ind_album_purchase, col)"
   ]
  },
  {
   "cell_type": "code",
   "execution_count": null,
   "metadata": {},
   "outputs": [],
   "source": [
    "row_ind_album_purchase = np.delete(row_ind_album_purchase, 0)\n",
    "col_ind_album_purchase = np.delete(col_ind_album_purchase, 0)"
   ]
  },
  {
   "cell_type": "code",
   "execution_count": null,
   "metadata": {},
   "outputs": [],
   "source": [
    "user_album_purchase_coeffs = np.full((row_ind_album_purchase.shape[0], ), album_purchase_coeff)"
   ]
  },
  {
   "cell_type": "code",
   "execution_count": null,
   "metadata": {},
   "outputs": [],
   "source": [
    "save('row_ind_album_purchase.npy', row_ind_album_purchase)\n",
    "save('col_ind_album_purchase.npy', col_ind_album_purchase)\n",
    "save('user_album_purchase_coeffs.npy', user_album_purchase_coeffs)"
   ]
  },
  {
   "cell_type": "code",
   "execution_count": null,
   "metadata": {},
   "outputs": [],
   "source": [
    "# APPEND ALL"
   ]
  },
  {
   "cell_type": "code",
   "execution_count": 5,
   "metadata": {},
   "outputs": [],
   "source": [
    "row_ind = np.concatenate((row_ind_track_like, row_ind_track_download, row_ind_track_purchase, row_ind_album_like, row_ind_album_download, row_ind_album_purchase))\n",
    "co_ind = np.concatenate((col_ind_track_like, col_ind_track_download, col_ind_track_purchase, col_ind_album_like, col_ind_album_download, col_ind_album_purchase))\n",
    "coeffs = np.concatenate((user_track_like_coeffs, user_track_download_coeffs, user_track_purchase_coeffs, user_album_like_coeffs, user_album_download_coeffs, user_album_purchase_coeffs))"
   ]
  },
  {
   "cell_type": "code",
   "execution_count": null,
   "metadata": {},
   "outputs": [],
   "source": [
    "# create COO sparse matrix from three arrays\n",
    "mat_coo = sparse.coo_matrix((coeffs, (row_ind, col_ind)))\n",
    "print(mat_coo)"
   ]
  },
  {
   "cell_type": "code",
   "execution_count": 156,
   "metadata": {},
   "outputs": [
    {
     "data": {
      "text/plain": [
       "array([1, 2, 3, 2, 4, 3, 2, 3, 4])"
      ]
     },
     "execution_count": 156,
     "metadata": {},
     "output_type": "execute_result"
    }
   ],
   "source": [
    "a = np.array([1,2,3])\n",
    "b = np.array([2,4,3])\n",
    "c = np.array([2,3,4])\n",
    "np.concatenate((a, b, c))"
   ]
  },
  {
   "cell_type": "code",
   "execution_count": null,
   "metadata": {},
   "outputs": [],
   "source": []
  }
 ],
 "metadata": {
  "kernelspec": {
   "display_name": "Python 3",
   "language": "python",
   "name": "python3"
  },
  "language_info": {
   "codemirror_mode": {
    "name": "ipython",
    "version": 3
   },
   "file_extension": ".py",
   "mimetype": "text/x-python",
   "name": "python",
   "nbconvert_exporter": "python",
   "pygments_lexer": "ipython3",
   "version": "3.7.4"
  }
 },
 "nbformat": 4,
 "nbformat_minor": 4
}
