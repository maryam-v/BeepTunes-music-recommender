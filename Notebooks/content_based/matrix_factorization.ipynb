{
 "cells": [
  {
   "cell_type": "code",
   "execution_count": 1,
   "metadata": {},
   "outputs": [],
   "source": [
    "import numpy as np\n",
    "import pandas as pd\n",
    "from pathlib import Path\n",
    "from sklearn.metrics.pairwise import cosine_similarity\n",
    "from scipy import sparse\n",
    "from sklearn.preprocessing import LabelEncoder  \n",
    "from sklearn.metrics import r2_score\n",
    "from sklearn.metrics import mean_squared_error\n",
    "from datetime import datetime\n",
    "from sklearn.preprocessing import MinMaxScaler,StandardScaler\n",
    "import pymongo\n",
    "from scipy.optimize import minimize\n",
    "import tensorflow as tf\n",
    "import matplotlib.pyplot as plt"
   ]
  },
  {
   "cell_type": "code",
   "execution_count": 2,
   "metadata": {},
   "outputs": [],
   "source": [
    "data_path = Path('../../EDA/outputs/')"
   ]
  },
  {
   "cell_type": "code",
   "execution_count": 3,
   "metadata": {},
   "outputs": [
    {
     "name": "stderr",
     "output_type": "stream",
     "text": [
      "/Users/macbookpro/anaconda3/lib/python3.6/site-packages/IPython/core/interactiveshell.py:3063: DtypeWarning: Columns (1) have mixed types. Specify dtype option on import or set low_memory=False.\n",
      "  interactivity=interactivity, compiler=compiler, result=result)\n"
     ]
    }
   ],
   "source": [
    "track_like_df = pd.read_csv(data_path/'track_like_expanded.csv')\n",
    "track_like_df = track_like_df[['USER_ID', 'TRACK_ID']].assign(r=3)\n",
    "track_like_df.columns = ['user', 'track', 'score']"
   ]
  },
  {
   "cell_type": "code",
   "execution_count": 4,
   "metadata": {},
   "outputs": [],
   "source": [
    "track_download_df = pd.read_csv(data_path/'track_download_expanded.csv')\n",
    "track_download_df = track_download_df[['USER_ID', 'TRACK_ID']].assign(r=1)\n",
    "track_download_df.columns = ['user', 'track', 'score']"
   ]
  },
  {
   "cell_type": "code",
   "execution_count": 5,
   "metadata": {},
   "outputs": [],
   "source": [
    "track_purchase_df = pd.read_csv(data_path/'track_purchase_expanded.csv')\n",
    "track_purchase_df = track_purchase_df[['USER_ID','TRACK_ID']].assign(r=2)\n",
    "track_purchase_df.columns = ['user','track','score']"
   ]
  },
  {
   "cell_type": "code",
   "execution_count": 6,
   "metadata": {},
   "outputs": [],
   "source": [
    "track_info = pd.read_csv(data_path/'track_infov2_df.csv',index_col=0)\n",
    "track_tag = pd.read_csv(data_path/'track_tag_df.csv',index_col=0)\n",
    "user_info_df = pd.read_csv(data_path/'user_info.csv')\n",
    "user_info_df = user_info_df.sort_values('total_interactions',ascending=False)\n",
    "track_interaction_info = pd.read_csv(data_path/'track_info.csv',index_col=0)"
   ]
  },
  {
   "cell_type": "code",
   "execution_count": 7,
   "metadata": {},
   "outputs": [],
   "source": [
    "track_interaction_info['total_interactions'] = track_interaction_info.noDownloads+track_interaction_info.noPurchases + track_interaction_info.noLikes\n",
    "user_info_df.fillna(0,inplace=True)\n",
    "user_info_df['total_interactions'] = user_info_df['noAlbum_downloads']+user_info_df['noAlbum_likes']+user_info_df['noAlbum_purchases']+user_info_df['noTrack_downloads']+user_info_df['noTrack_likes']+user_info_df['noTrack_purchases']"
   ]
  },
  {
   "cell_type": "code",
   "execution_count": 8,
   "metadata": {},
   "outputs": [],
   "source": [
    "target_orch = track_tag.groupby('TYPE_KEY').get_group(\"ORCHESTRATION\").TAG_ID.value_counts().index[:50].values\n",
    "target_tag = track_tag.groupby('TYPE_KEY').get_group(\"GENRE\").TAG_ID.value_counts().index[:35].values"
   ]
  },
  {
   "cell_type": "code",
   "execution_count": 9,
   "metadata": {},
   "outputs": [],
   "source": [
    "track_tag = track_tag.loc[track_tag.TAG_ID.isin(np.concatenate([target_tag,target_orch]))]"
   ]
  },
  {
   "cell_type": "code",
   "execution_count": 10,
   "metadata": {},
   "outputs": [
    {
     "data": {
      "text/html": [
       "<div>\n",
       "<style scoped>\n",
       "    .dataframe tbody tr th:only-of-type {\n",
       "        vertical-align: middle;\n",
       "    }\n",
       "\n",
       "    .dataframe tbody tr th {\n",
       "        vertical-align: top;\n",
       "    }\n",
       "\n",
       "    .dataframe thead th {\n",
       "        text-align: right;\n",
       "    }\n",
       "</style>\n",
       "<table border=\"1\" class=\"dataframe\">\n",
       "  <thead>\n",
       "    <tr style=\"text-align: right;\">\n",
       "      <th></th>\n",
       "      <th>USER_ID</th>\n",
       "      <th>noTrack_purchases</th>\n",
       "      <th>noAlbum_purchases</th>\n",
       "      <th>noTrack_likes</th>\n",
       "      <th>noAlbum_likes</th>\n",
       "      <th>noArtist_likes</th>\n",
       "      <th>noTrack_downloads</th>\n",
       "      <th>noAlbum_downloads</th>\n",
       "      <th>total_interactions</th>\n",
       "    </tr>\n",
       "  </thead>\n",
       "  <tbody>\n",
       "    <tr>\n",
       "      <th>10812</th>\n",
       "      <td>3606398</td>\n",
       "      <td>1007.0</td>\n",
       "      <td>1110.0</td>\n",
       "      <td>0.0</td>\n",
       "      <td>7.0</td>\n",
       "      <td>20.0</td>\n",
       "      <td>14642.0</td>\n",
       "      <td>1561.0</td>\n",
       "      <td>18327.0</td>\n",
       "    </tr>\n",
       "    <tr>\n",
       "      <th>9623</th>\n",
       "      <td>3603424</td>\n",
       "      <td>2627.0</td>\n",
       "      <td>863.0</td>\n",
       "      <td>0.0</td>\n",
       "      <td>0.0</td>\n",
       "      <td>8.0</td>\n",
       "      <td>12415.0</td>\n",
       "      <td>1626.0</td>\n",
       "      <td>17531.0</td>\n",
       "    </tr>\n",
       "    <tr>\n",
       "      <th>16</th>\n",
       "      <td>3568922</td>\n",
       "      <td>5.0</td>\n",
       "      <td>4.0</td>\n",
       "      <td>24.0</td>\n",
       "      <td>3827.0</td>\n",
       "      <td>2147.0</td>\n",
       "      <td>9019.0</td>\n",
       "      <td>1550.0</td>\n",
       "      <td>14429.0</td>\n",
       "    </tr>\n",
       "    <tr>\n",
       "      <th>5780</th>\n",
       "      <td>3593600</td>\n",
       "      <td>243.0</td>\n",
       "      <td>980.0</td>\n",
       "      <td>0.0</td>\n",
       "      <td>11.0</td>\n",
       "      <td>18.0</td>\n",
       "      <td>12388.0</td>\n",
       "      <td>1315.0</td>\n",
       "      <td>14937.0</td>\n",
       "    </tr>\n",
       "    <tr>\n",
       "      <th>179077</th>\n",
       "      <td>64359968</td>\n",
       "      <td>6747.0</td>\n",
       "      <td>0.0</td>\n",
       "      <td>0.0</td>\n",
       "      <td>1.0</td>\n",
       "      <td>2.0</td>\n",
       "      <td>6747.0</td>\n",
       "      <td>988.0</td>\n",
       "      <td>14483.0</td>\n",
       "    </tr>\n",
       "    <tr>\n",
       "      <th>...</th>\n",
       "      <td>...</td>\n",
       "      <td>...</td>\n",
       "      <td>...</td>\n",
       "      <td>...</td>\n",
       "      <td>...</td>\n",
       "      <td>...</td>\n",
       "      <td>...</td>\n",
       "      <td>...</td>\n",
       "      <td>...</td>\n",
       "    </tr>\n",
       "    <tr>\n",
       "      <th>277887</th>\n",
       "      <td>321749603</td>\n",
       "      <td>0.0</td>\n",
       "      <td>0.0</td>\n",
       "      <td>1.0</td>\n",
       "      <td>0.0</td>\n",
       "      <td>0.0</td>\n",
       "      <td>0.0</td>\n",
       "      <td>0.0</td>\n",
       "      <td>1.0</td>\n",
       "    </tr>\n",
       "    <tr>\n",
       "      <th>277914</th>\n",
       "      <td>321860997</td>\n",
       "      <td>0.0</td>\n",
       "      <td>0.0</td>\n",
       "      <td>1.0</td>\n",
       "      <td>0.0</td>\n",
       "      <td>0.0</td>\n",
       "      <td>0.0</td>\n",
       "      <td>0.0</td>\n",
       "      <td>1.0</td>\n",
       "    </tr>\n",
       "    <tr>\n",
       "      <th>277922</th>\n",
       "      <td>321886366</td>\n",
       "      <td>0.0</td>\n",
       "      <td>0.0</td>\n",
       "      <td>1.0</td>\n",
       "      <td>0.0</td>\n",
       "      <td>0.0</td>\n",
       "      <td>0.0</td>\n",
       "      <td>0.0</td>\n",
       "      <td>1.0</td>\n",
       "    </tr>\n",
       "    <tr>\n",
       "      <th>277924</th>\n",
       "      <td>321892524</td>\n",
       "      <td>0.0</td>\n",
       "      <td>0.0</td>\n",
       "      <td>1.0</td>\n",
       "      <td>0.0</td>\n",
       "      <td>0.0</td>\n",
       "      <td>0.0</td>\n",
       "      <td>0.0</td>\n",
       "      <td>1.0</td>\n",
       "    </tr>\n",
       "    <tr>\n",
       "      <th>586784</th>\n",
       "      <td>557797412</td>\n",
       "      <td>0.0</td>\n",
       "      <td>1.0</td>\n",
       "      <td>0.0</td>\n",
       "      <td>0.0</td>\n",
       "      <td>0.0</td>\n",
       "      <td>0.0</td>\n",
       "      <td>0.0</td>\n",
       "      <td>1.0</td>\n",
       "    </tr>\n",
       "  </tbody>\n",
       "</table>\n",
       "<p>586785 rows × 9 columns</p>\n",
       "</div>"
      ],
      "text/plain": [
       "          USER_ID  noTrack_purchases  noAlbum_purchases  noTrack_likes  \\\n",
       "10812     3606398             1007.0             1110.0            0.0   \n",
       "9623      3603424             2627.0              863.0            0.0   \n",
       "16        3568922                5.0                4.0           24.0   \n",
       "5780      3593600              243.0              980.0            0.0   \n",
       "179077   64359968             6747.0                0.0            0.0   \n",
       "...           ...                ...                ...            ...   \n",
       "277887  321749603                0.0                0.0            1.0   \n",
       "277914  321860997                0.0                0.0            1.0   \n",
       "277922  321886366                0.0                0.0            1.0   \n",
       "277924  321892524                0.0                0.0            1.0   \n",
       "586784  557797412                0.0                1.0            0.0   \n",
       "\n",
       "        noAlbum_likes  noArtist_likes  noTrack_downloads  noAlbum_downloads  \\\n",
       "10812             7.0            20.0            14642.0             1561.0   \n",
       "9623              0.0             8.0            12415.0             1626.0   \n",
       "16             3827.0          2147.0             9019.0             1550.0   \n",
       "5780             11.0            18.0            12388.0             1315.0   \n",
       "179077            1.0             2.0             6747.0              988.0   \n",
       "...               ...             ...                ...                ...   \n",
       "277887            0.0             0.0                0.0                0.0   \n",
       "277914            0.0             0.0                0.0                0.0   \n",
       "277922            0.0             0.0                0.0                0.0   \n",
       "277924            0.0             0.0                0.0                0.0   \n",
       "586784            0.0             0.0                0.0                0.0   \n",
       "\n",
       "        total_interactions  \n",
       "10812              18327.0  \n",
       "9623               17531.0  \n",
       "16                 14429.0  \n",
       "5780               14937.0  \n",
       "179077             14483.0  \n",
       "...                    ...  \n",
       "277887                 1.0  \n",
       "277914                 1.0  \n",
       "277922                 1.0  \n",
       "277924                 1.0  \n",
       "586784                 1.0  \n",
       "\n",
       "[586785 rows x 9 columns]"
      ]
     },
     "execution_count": 10,
     "metadata": {},
     "output_type": "execute_result"
    }
   ],
   "source": [
    "user_info_df"
   ]
  },
  {
   "cell_type": "code",
   "execution_count": 57,
   "metadata": {},
   "outputs": [],
   "source": [
    "sample = pd.read_csv(data_path/'total_sample.csv',index_col=0)\n",
    "track_tag_sample = track_tag.loc[track_tag['TRACK_ID'].isin(sample['track'].unique())]\n",
    "track_tag_sample = track_tag_sample.sort_values(by=['TRACK_ID'])\n",
    "track_info_sample = track_info.loc[track_info['TRACK_ID'].isin(sample['track'].unique())]\n",
    "track_info_sample = track_info_sample.sort_values(by=['TRACK_ID'])\n",
    "groupby_typekey_sample=track_tag_sample.groupby(['TYPE_KEY'])\n",
    "sample = sample.sort_values(\"track\")"
   ]
  },
  {
   "cell_type": "code",
   "execution_count": 12,
   "metadata": {},
   "outputs": [
    {
     "data": {
      "text/plain": [
       "(38402540, 3)"
      ]
     },
     "execution_count": 12,
     "metadata": {},
     "output_type": "execute_result"
    }
   ],
   "source": [
    "total = pd.concat([track_download_df, track_like_df, track_purchase_df])\n",
    "total = total.groupby(['user', 'track']).score.sum().reset_index()\n",
    "total.shape"
   ]
  },
  {
   "cell_type": "code",
   "execution_count": 13,
   "metadata": {},
   "outputs": [
    {
     "data": {
      "text/plain": [
       "(38288211, 3)"
      ]
     },
     "execution_count": 13,
     "metadata": {},
     "output_type": "execute_result"
    }
   ],
   "source": [
    "total = total.loc[total['track'].isin(track_tag['TRACK_ID'].unique())]\n",
    "total = total.loc[total['track'].isin(track_info['TRACK_ID'].unique())]\n",
    "total.shape"
   ]
  },
  {
   "cell_type": "code",
   "execution_count": 14,
   "metadata": {},
   "outputs": [
    {
     "data": {
      "text/plain": [
       "(91880, 65704)"
      ]
     },
     "execution_count": 14,
     "metadata": {},
     "output_type": "execute_result"
    }
   ],
   "source": [
    "min_interactions = 50\n",
    "target_users = user_info_df.loc[user_info_df['total_interactions']>=min_interactions]['USER_ID'].values\n",
    "target_tracks = track_interaction_info.loc[track_interaction_info['total_interactions']>=min_interactions]['TRACK_ID'].values\n",
    "len(target_users),len(target_tracks)"
   ]
  },
  {
   "cell_type": "code",
   "execution_count": 15,
   "metadata": {},
   "outputs": [
    {
     "data": {
      "text/plain": [
       "(26279467, 3)"
      ]
     },
     "execution_count": 15,
     "metadata": {},
     "output_type": "execute_result"
    }
   ],
   "source": [
    "total = total.loc[total['user'].isin(target_users)]\n",
    "total = total.loc[total['track'].isin(target_tracks)]\n",
    "total = total.sort_values(\"track\")\n",
    "total.shape"
   ]
  },
  {
   "cell_type": "code",
   "execution_count": 16,
   "metadata": {},
   "outputs": [
    {
     "data": {
      "text/plain": [
       "(65489, 91830)"
      ]
     },
     "execution_count": 16,
     "metadata": {},
     "output_type": "execute_result"
    }
   ],
   "source": [
    "total.track.nunique(),total.user.nunique()"
   ]
  },
  {
   "cell_type": "code",
   "execution_count": 17,
   "metadata": {},
   "outputs": [
    {
     "data": {
      "text/plain": [
       "((68700, 3), 1000, 85)"
      ]
     },
     "execution_count": 17,
     "metadata": {},
     "output_type": "execute_result"
    }
   ],
   "source": [
    "sample.shape,sample.track.nunique(),sample.user.nunique()"
   ]
  },
  {
   "cell_type": "code",
   "execution_count": 19,
   "metadata": {},
   "outputs": [],
   "source": [
    "def train_valid_split(rating_df, no_users, no_items_per_user):\n",
    "    gb = rating_df.groupby('user')\n",
    "    test_df = pd.concat([gb.get_group(group)[:no_items_per_user] for i,group in enumerate(gb.groups) if i < no_users])\n",
    "    train_df = pd.concat([rating_df,test_df]).drop_duplicates(keep=False)\n",
    "    test_df =  test_df.loc[(test_df['user'].isin(train_df['user']) & (test_df['track'].isin(train_df['track'])))]\n",
    "    return train_df,test_df"
   ]
  },
  {
   "cell_type": "code",
   "execution_count": 25,
   "metadata": {},
   "outputs": [
    {
     "data": {
      "text/plain": [
       "((67700, 3), (1000, 3))"
      ]
     },
     "execution_count": 25,
     "metadata": {},
     "output_type": "execute_result"
    }
   ],
   "source": [
    "train_df,test_df = train_valid_split(sample, 50, 20)\n",
    "train_df.shape,test_df.shape"
   ]
  },
  {
   "cell_type": "code",
   "execution_count": 51,
   "metadata": {},
   "outputs": [
    {
     "data": {
      "text/plain": [
       "(85, 50, 1000, 42)"
      ]
     },
     "execution_count": 51,
     "metadata": {},
     "output_type": "execute_result"
    }
   ],
   "source": [
    "# tedad track ha va user ha dar train va total yeksan nist??\n",
    "train_df['user'].nunique(),test_df['user'].nunique(),train_df['track'].nunique(),test_df['track'].nunique()"
   ]
  },
  {
   "cell_type": "code",
   "execution_count": 27,
   "metadata": {},
   "outputs": [],
   "source": [
    "train_df = train_df.assign(user=train_df.user.astype('category'), track=train_df.track.astype('category'))\n",
    "test_df = test_df.assign(user=test_df.user.astype('category'), track=test_df.track.astype('category'))\n",
    "\n",
    "train_mat = sparse.coo_matrix((\n",
    "            train_df.score.values.astype('float32'),\n",
    "            (train_df.user.cat.codes.values,\n",
    "             train_df.track.cat.codes.values)))\n",
    "\n",
    "test_mat = sparse.coo_matrix((\n",
    "            test_df.score.values.astype('float32'),\n",
    "            (test_df.user.cat.codes.values,\n",
    "             test_df.track.cat.codes.values)))"
   ]
  },
  {
   "cell_type": "code",
   "execution_count": 28,
   "metadata": {},
   "outputs": [],
   "source": [
    "def feature_build(groupby_typekey,col):\n",
    "    feature = groupby_typekey.get_group(col)\n",
    "    le = LabelEncoder()\n",
    "    feature['TAG_ID'] = le.fit_transform(feature['TAG_ID'])\n",
    "    feature.drop(['TYPE_KEY'], axis = 1, inplace = True)\n",
    "\n",
    "    feature = pd.get_dummies(feature, columns=['TAG_ID'])\n",
    "    feature_cols = feature.columns.drop(['TRACK_ID'])\n",
    "    feature = feature.groupby(['TRACK_ID'])[feature_cols].sum().reset_index()\n",
    "    return feature"
   ]
  },
  {
   "cell_type": "code",
   "execution_count": 29,
   "metadata": {},
   "outputs": [],
   "source": [
    "track_tag_total = track_tag.loc[track_tag['TRACK_ID'].isin(train_df['track'].unique())]\n",
    "track_tag_total = track_tag_total.sort_values(by=['TRACK_ID'])\n",
    "track_info_total = track_info.loc[track_info['TRACK_ID'].isin(train_df['track'].unique())]\n",
    "track_info_total = track_info_total.sort_values(by=['TRACK_ID'])\n",
    "groupby_typekey_total=track_tag_total.groupby(['TYPE_KEY'])\n",
    "train_df = train_df.sort_values('track')\n",
    "test_df = test_df.sort_values('track')"
   ]
  },
  {
   "cell_type": "code",
   "execution_count": 58,
   "metadata": {},
   "outputs": [
    {
     "name": "stdout",
     "output_type": "stream",
     "text": [
      "(994, 18)\n",
      "(1000, 43)\n"
     ]
    },
    {
     "name": "stderr",
     "output_type": "stream",
     "text": [
      "/Users/macbookpro/anaconda3/lib/python3.6/site-packages/ipykernel_launcher.py:4: SettingWithCopyWarning: \n",
      "A value is trying to be set on a copy of a slice from a DataFrame.\n",
      "Try using .loc[row_indexer,col_indexer] = value instead\n",
      "\n",
      "See the caveats in the documentation: http://pandas.pydata.org/pandas-docs/stable/user_guide/indexing.html#returning-a-view-versus-a-copy\n",
      "  after removing the cwd from sys.path.\n",
      "/Users/macbookpro/anaconda3/lib/python3.6/site-packages/pandas/core/frame.py:4117: SettingWithCopyWarning: \n",
      "A value is trying to be set on a copy of a slice from a DataFrame\n",
      "\n",
      "See the caveats in the documentation: http://pandas.pydata.org/pandas-docs/stable/user_guide/indexing.html#returning-a-view-versus-a-copy\n",
      "  errors=errors,\n"
     ]
    }
   ],
   "source": [
    "genre = feature_build(groupby_typekey_sample,'GENRE').sort_values('TRACK_ID')\n",
    "orchestration = feature_build(groupby_typekey_sample,'ORCHESTRATION').sort_values('TRACK_ID')\n",
    "print(genre.shape)\n",
    "print(orchestration.shape)"
   ]
  },
  {
   "cell_type": "code",
   "execution_count": 59,
   "metadata": {},
   "outputs": [],
   "source": [
    "item_features = pd.merge(genre,orchestration,how='outer',on='TRACK_ID',suffixes=['_genre','_orch'])\n",
    "# item_features = orchestration"
   ]
  },
  {
   "cell_type": "code",
   "execution_count": 60,
   "metadata": {},
   "outputs": [
    {
     "data": {
      "text/plain": [
       "(1000, 60)"
      ]
     },
     "execution_count": 60,
     "metadata": {},
     "output_type": "execute_result"
    }
   ],
   "source": [
    "item_features.shape"
   ]
  },
  {
   "cell_type": "code",
   "execution_count": 61,
   "metadata": {},
   "outputs": [],
   "source": [
    "item_features.fillna(0,inplace=True)"
   ]
  },
  {
   "cell_type": "code",
   "execution_count": 62,
   "metadata": {},
   "outputs": [],
   "source": [
    "track_info_sample.TIME_CREATED = pd.to_datetime(track_info_sample.TIME_CREATED)\n",
    "track_info_sample[['year_created','month_created','day_created']] = track_info_sample[\"TIME_CREATED\"].apply(lambda x: pd.Series([x.year,x.month,x.day]))"
   ]
  },
  {
   "cell_type": "code",
   "execution_count": 63,
   "metadata": {},
   "outputs": [],
   "source": [
    "track_info_sample['duration'] = track_info_sample.C_DURATION_MIN*60+track_info_sample.C_DURATION_SEC"
   ]
  },
  {
   "cell_type": "code",
   "execution_count": 64,
   "metadata": {},
   "outputs": [],
   "source": [
    "track_info_sample.drop([\"TIME_CREATED\",\"PUBLISH_DATE\",\"C_DURATION_MIN\",\"C_DURATION_SEC\",\"ALBUM_ID\"],axis=1,inplace=True)"
   ]
  },
  {
   "cell_type": "code",
   "execution_count": 65,
   "metadata": {},
   "outputs": [
    {
     "data": {
      "text/html": [
       "<div>\n",
       "<style scoped>\n",
       "    .dataframe tbody tr th:only-of-type {\n",
       "        vertical-align: middle;\n",
       "    }\n",
       "\n",
       "    .dataframe tbody tr th {\n",
       "        vertical-align: top;\n",
       "    }\n",
       "\n",
       "    .dataframe thead th {\n",
       "        text-align: right;\n",
       "    }\n",
       "</style>\n",
       "<table border=\"1\" class=\"dataframe\">\n",
       "  <thead>\n",
       "    <tr style=\"text-align: right;\">\n",
       "      <th></th>\n",
       "      <th>TRACK_ID</th>\n",
       "      <th>PRICE</th>\n",
       "      <th>year_created</th>\n",
       "      <th>month_created</th>\n",
       "      <th>day_created</th>\n",
       "      <th>duration</th>\n",
       "    </tr>\n",
       "  </thead>\n",
       "  <tbody>\n",
       "    <tr>\n",
       "      <th>count</th>\n",
       "      <td>1.000000e+03</td>\n",
       "      <td>1000.000000</td>\n",
       "      <td>1000.000000</td>\n",
       "      <td>1000.000000</td>\n",
       "      <td>1000.000000</td>\n",
       "      <td>1000.000000</td>\n",
       "    </tr>\n",
       "    <tr>\n",
       "      <th>mean</th>\n",
       "      <td>1.581229e+08</td>\n",
       "      <td>1345.330000</td>\n",
       "      <td>2015.123000</td>\n",
       "      <td>6.169000</td>\n",
       "      <td>17.283000</td>\n",
       "      <td>272.305000</td>\n",
       "    </tr>\n",
       "    <tr>\n",
       "      <th>std</th>\n",
       "      <td>2.008194e+08</td>\n",
       "      <td>3028.678224</td>\n",
       "      <td>1.586943</td>\n",
       "      <td>4.020025</td>\n",
       "      <td>8.855582</td>\n",
       "      <td>240.976509</td>\n",
       "    </tr>\n",
       "    <tr>\n",
       "      <th>min</th>\n",
       "      <td>2.832434e+06</td>\n",
       "      <td>0.000000</td>\n",
       "      <td>2012.000000</td>\n",
       "      <td>1.000000</td>\n",
       "      <td>1.000000</td>\n",
       "      <td>55.000000</td>\n",
       "    </tr>\n",
       "    <tr>\n",
       "      <th>25%</th>\n",
       "      <td>6.854058e+06</td>\n",
       "      <td>0.000000</td>\n",
       "      <td>2014.000000</td>\n",
       "      <td>2.000000</td>\n",
       "      <td>9.000000</td>\n",
       "      <td>198.000000</td>\n",
       "    </tr>\n",
       "    <tr>\n",
       "      <th>50%</th>\n",
       "      <td>3.779853e+07</td>\n",
       "      <td>0.000000</td>\n",
       "      <td>2015.000000</td>\n",
       "      <td>6.000000</td>\n",
       "      <td>18.000000</td>\n",
       "      <td>227.000000</td>\n",
       "    </tr>\n",
       "    <tr>\n",
       "      <th>75%</th>\n",
       "      <td>3.478342e+08</td>\n",
       "      <td>0.000000</td>\n",
       "      <td>2016.000000</td>\n",
       "      <td>10.000000</td>\n",
       "      <td>25.000000</td>\n",
       "      <td>265.000000</td>\n",
       "    </tr>\n",
       "    <tr>\n",
       "      <th>max</th>\n",
       "      <td>5.553617e+08</td>\n",
       "      <td>13990.000000</td>\n",
       "      <td>2019.000000</td>\n",
       "      <td>12.000000</td>\n",
       "      <td>31.000000</td>\n",
       "      <td>2360.000000</td>\n",
       "    </tr>\n",
       "  </tbody>\n",
       "</table>\n",
       "</div>"
      ],
      "text/plain": [
       "           TRACK_ID         PRICE  year_created  month_created  day_created  \\\n",
       "count  1.000000e+03   1000.000000   1000.000000    1000.000000  1000.000000   \n",
       "mean   1.581229e+08   1345.330000   2015.123000       6.169000    17.283000   \n",
       "std    2.008194e+08   3028.678224      1.586943       4.020025     8.855582   \n",
       "min    2.832434e+06      0.000000   2012.000000       1.000000     1.000000   \n",
       "25%    6.854058e+06      0.000000   2014.000000       2.000000     9.000000   \n",
       "50%    3.779853e+07      0.000000   2015.000000       6.000000    18.000000   \n",
       "75%    3.478342e+08      0.000000   2016.000000      10.000000    25.000000   \n",
       "max    5.553617e+08  13990.000000   2019.000000      12.000000    31.000000   \n",
       "\n",
       "          duration  \n",
       "count  1000.000000  \n",
       "mean    272.305000  \n",
       "std     240.976509  \n",
       "min      55.000000  \n",
       "25%     198.000000  \n",
       "50%     227.000000  \n",
       "75%     265.000000  \n",
       "max    2360.000000  "
      ]
     },
     "execution_count": 65,
     "metadata": {},
     "output_type": "execute_result"
    }
   ],
   "source": [
    "track_info_sample.describe()"
   ]
  },
  {
   "cell_type": "code",
   "execution_count": 66,
   "metadata": {},
   "outputs": [
    {
     "data": {
      "text/plain": [
       "(1000, 65)"
      ]
     },
     "execution_count": 66,
     "metadata": {},
     "output_type": "execute_result"
    }
   ],
   "source": [
    "item_features = pd.merge(item_features,track_info_sample,how='outer',on='TRACK_ID')\n",
    "item_features.shape"
   ]
  },
  {
   "cell_type": "code",
   "execution_count": 67,
   "metadata": {},
   "outputs": [],
   "source": [
    "ss = StandardScaler()\n",
    "for col in item_features.columns.drop('TRACK_ID'):\n",
    "    item_features[col] = ss.fit_transform(item_features[col].to_numpy().reshape(-1,1))"
   ]
  },
  {
   "cell_type": "code",
   "execution_count": 68,
   "metadata": {},
   "outputs": [],
   "source": [
    "train_df.track = train_df.track.astype('int64')\n",
    "train_df.user = train_df.user.astype('int64')\n",
    "test_df.track = test_df.track.astype('int64')\n",
    "test_df.user = test_df.user.astype('int64')\n",
    "\n",
    "item_le = LabelEncoder()\n",
    "user_le = LabelEncoder()\n",
    "\n",
    "item_features.TRACK_ID = item_le.fit_transform(item_features.TRACK_ID)\n",
    "\n",
    "train_df.track = item_le.transform(train_df.track)\n",
    "test_df.track = item_le.transform(test_df.track)\n",
    "train_df.user = user_le.fit_transform(train_df.user)\n",
    "test_df.user = user_le.transform(test_df.user)"
   ]
  },
  {
   "cell_type": "code",
   "execution_count": 69,
   "metadata": {},
   "outputs": [],
   "source": [
    "def precision_recall_at_k(predictions, k=10, threshold=3.5):\n",
    "    '''Return precision and recall at k metrics for each user.'''\n",
    "    c = 0\n",
    "    # First map the predictions to each user.\n",
    "    user_est_true = defaultdict(list)\n",
    "    for uid, _, true_r, est, _ in predictions:\n",
    "        user_est_true[uid].append((est, true_r))\n",
    "\n",
    "    precisions = dict()\n",
    "    recalls = dict()\n",
    "    for uid, user_ratings in user_est_true.items():\n",
    "\n",
    "        # Sort user ratings by estimated value\n",
    "        user_ratings.sort(key=lambda x: x[0], reverse=True)\n",
    "\n",
    "        # Number of relevant items\n",
    "        n_rel = sum((true_r >= threshold) for (_, true_r) in user_ratings)\n",
    "        \n",
    "        if n_rel == 0:\n",
    "            c += 1\n",
    "            continue\n",
    "\n",
    "        # Number of recommended items in top k\n",
    "        n_rec_k = sum((est >= threshold) for (est, _) in user_ratings[:k])\n",
    "\n",
    "        # Number of relevant and recommended items in top k\n",
    "        n_rel_and_rec_k = sum(((true_r >= threshold) and (est >= threshold))\n",
    "                              for (est, true_r) in user_ratings[:k])\n",
    "\n",
    "        # Precision@K: Proportion of recommended items that are relevant\n",
    "        precisions[uid] = n_rel_and_rec_k / n_rec_k if n_rec_k != 0 else 0\n",
    "\n",
    "        # Recall@K: Proportion of relevant items that are recommended\n",
    "        recalls[uid] = n_rel_and_rec_k / n_rel\n",
    "        \n",
    "#         print(n_rel,n_rec_k,n_rel_and_rec_k)\n",
    "        \n",
    "    print(c)\n",
    "\n",
    "    return precisions, recalls\n",
    "\n"
   ]
  },
  {
   "cell_type": "code",
   "execution_count": 70,
   "metadata": {},
   "outputs": [],
   "source": [
    "# # train,valid = train_valid_split(sample,50,10)\n",
    "# train = sample.pivot_table('score','user','track',dropna=False,fill_value=0)"
   ]
  },
  {
   "cell_type": "code",
   "execution_count": 100,
   "metadata": {},
   "outputs": [],
   "source": [
    "train = train_df.pivot_table('score','user','track',dropna=False,fill_value=0)\n",
    "# valid = valid.pivot_table('score','user','track',dropna=False,fill_value=0)"
   ]
  },
  {
   "cell_type": "code",
   "execution_count": 72,
   "metadata": {},
   "outputs": [],
   "source": [
    "# train.shape,valid.shape"
   ]
  },
  {
   "cell_type": "code",
   "execution_count": 73,
   "metadata": {},
   "outputs": [],
   "source": [
    "def convert_sparse_matrix_to_sparse_tensor(X):\n",
    "    indices = np.mat([X.row, X.col]).transpose()\n",
    "    return tf.SparseTensor(indices, X.data, X.shape)"
   ]
  },
  {
   "cell_type": "code",
   "execution_count": 74,
   "metadata": {},
   "outputs": [],
   "source": [
    "train_tf_sparse = convert_sparse_matrix_to_sparse_tensor(train_mat)\n",
    "test_tf_sparse = convert_sparse_matrix_to_sparse_tensor(test_mat)"
   ]
  },
  {
   "cell_type": "code",
   "execution_count": 94,
   "metadata": {},
   "outputs": [],
   "source": [
    "class MatrixFactorization(tf.keras.layers.Layer):\n",
    "    def __init__(self, emb_sz,Mnp, **kwargs):\n",
    "        super(MatrixFactorization, self).__init__(**kwargs)\n",
    "        self.emb_sz = emb_sz\n",
    "        self.Mnp = Mnp\n",
    "\n",
    "    def build(self, input_shape):\n",
    "        num_users, num_tracks = input_shape\n",
    "        \n",
    "        self.U = self.add_variable(\"U\", \n",
    "            shape=[num_users, self.emb_sz], \n",
    "            dtype=tf.float32,\n",
    "            initializer=tf.initializers.GlorotUniform)\n",
    "    \n",
    "        self.M = tf.Variable(initial_value=self.Mnp,trainable=False,name='M',dtype=tf.float32)\n",
    "        \n",
    "        self.bu = self.add_variable(\"bu\",\n",
    "            shape=[num_users],\n",
    "            dtype=tf.float32, \n",
    "            initializer=tf.initializers.Ones)\n",
    "        \n",
    "        self.bm = self.add_variable(\"bm\",\n",
    "            shape=[num_tracks],\n",
    "            dtype=tf.float32, \n",
    "            initializer=tf.initializers.Ones)\n",
    "        \n",
    "        self.bg = self.add_variable(\"bg\", \n",
    "            shape=[],\n",
    "            dtype=tf.float32,\n",
    "            initializer=tf.initializers.Ones)\n",
    "\n",
    "    def call(self,input):\n",
    "        out = tf.matmul(self.U,tf.transpose(self.M))\n",
    "        out = tf.add(out,tf.expand_dims(self.bu, axis=1))\n",
    "        out = tf.add(out,tf.expand_dims(self.bm, axis=0))\n",
    "        out = out + self.bg\n",
    "        return out\n",
    "\n",
    "\n",
    "class MatrixFactorizer(tf.keras.Model):\n",
    "    def __init__(self, embedding_size,Mnp):\n",
    "        super(MatrixFactorizer, self).__init__()\n",
    "        self.matrixFactorization = MatrixFactorization(embedding_size,Mnp)\n",
    "        self.sigmoid = tf.keras.layers.Activation(\"sigmoid\")\n",
    "\n",
    "    def call(self, input):\n",
    "        output = self.matrixFactorization(input)\n",
    "        output = self.sigmoid(output) * (6-0+1) + 0-0.5\n",
    "        return output\n",
    "\n",
    "\n",
    "def loss_fn(source, target):\n",
    "    mse = tf.keras.losses.MeanSquaredError()\n",
    "    loss = mse(source, target)\n",
    "    return loss\n"
   ]
  },
  {
   "cell_type": "code",
   "execution_count": 111,
   "metadata": {},
   "outputs": [
    {
     "name": "stdout",
     "output_type": "stream",
     "text": [
      "Model: \"matrix_factorizer_23\"\n",
      "_________________________________________________________________\n",
      "Layer (type)                 Output Shape              Param #   \n",
      "=================================================================\n",
      "matrix_factorization_23 (Mat multiple                  70526     \n",
      "_________________________________________________________________\n",
      "activation_23 (Activation)   multiple                  0         \n",
      "=================================================================\n",
      "Total params: 70,526\n",
      "Trainable params: 6,526\n",
      "Non-trainable params: 64,000\n",
      "_________________________________________________________________\n",
      "None\n",
      "step: 0, loss: 20.682\n",
      "step: 1000, loss: 5.618\n",
      "step: 2000, loss: 4.422\n",
      "step: 3000, loss: 3.737\n",
      "step: 4000, loss: 3.277\n",
      "step: 5000, loss: 2.965\n",
      "step: 6000, loss: 2.761\n",
      "step: 7000, loss: 2.512\n",
      "step: 8000, loss: 2.386\n",
      "step: 9000, loss: 2.238\n"
     ]
    },
    {
     "data": {
      "image/png": "[encoded data removed]",
      "text/plain": [
       "<Figure size 432x288 with 1 Axes>"
      ]
     },
     "metadata": {
      "needs_background": "light"
     },
     "output_type": "display_data"
    }
   ],
   "source": [
    "EMBEDDING_SIZE = item_features.shape[1] - 1\n",
    "num_users = train_df.user.nunique()\n",
    "num_tracks = train_df.track.nunique()\n",
    "\n",
    "model = MatrixFactorizer(EMBEDDING_SIZE,item_features.drop('TRACK_ID',axis=1).to_numpy())\n",
    "model.build(input_shape=(num_users,num_tracks))\n",
    "print(model.summary())\n",
    "\n",
    "optimizer = tf.optimizers.Adam()\n",
    "\n",
    "losses, steps = [], []\n",
    "for i in range(10000):\n",
    "    with tf.GradientTape() as tape:\n",
    "        Xhat = model(inputs=None)\n",
    "#         loss between sparse and dense?\n",
    "        loss = loss_fn(train.to_numpy(),Xhat)\n",
    "        if i % 1000 == 0:\n",
    "            loss_value = loss.numpy()\n",
    "            losses.append(loss_value)\n",
    "            steps.append(i)\n",
    "            print(\"step: {:d}, loss: {:.3f}\".format(i, loss_value))\n",
    "    variables = model.trainable_variables\n",
    "    gradients = tape.gradient(loss, variables)\n",
    "    optimizer.apply_gradients(zip(gradients, variables))\n",
    "\n",
    "# plot training loss\n",
    "plt.plot(steps, losses, marker=\"o\")\n",
    "plt.xlabel(\"steps\")\n",
    "plt.ylabel(\"loss\")\n",
    "plt.show()"
   ]
  },
  {
   "cell_type": "code",
   "execution_count": 112,
   "metadata": {},
   "outputs": [
    {
     "data": {
      "text/plain": [
       "-0.22862307038385193"
      ]
     },
     "execution_count": 112,
     "metadata": {},
     "output_type": "execute_result"
    }
   ],
   "source": [
    "preds = model(inputs=None)\n",
    "r2_score(train.to_numpy(),preds)"
   ]
  }
 ],
 "metadata": {
  "kernelspec": {
   "display_name": "Python 3",
   "language": "python",
   "name": "python3"
  },
  "language_info": {
   "codemirror_mode": {
    "name": "ipython",
    "version": 3
   },
   "file_extension": ".py",
   "mimetype": "text/x-python",
   "name": "python",
   "nbconvert_exporter": "python",
   "pygments_lexer": "ipython3",
   "version": "3.6.10"
  }
 },
 "nbformat": 4,
 "nbformat_minor": 4
}
