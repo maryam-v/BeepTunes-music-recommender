{
 "cells": [
  {
   "cell_type": "code",
   "execution_count": 100,
   "metadata": {},
   "outputs": [],
   "source": [
    "import numpy as np\n",
    "import pandas as pd\n",
    "import scipy.sparse as sparse\n",
    "from sklearn.decomposition import NMF\n",
    "from numpy import save\n",
    "from pathlib import Path\n",
    "from sklearn import preprocessing\n",
    "from scipy.sparse import coo_matrix\n",
    "import ml_metrics\n",
    "import sklearn.metrics as metrics\n",
    "import time\n",
    "from collections import defaultdict"
   ]
  },
  {
   "cell_type": "code",
   "execution_count": 2,
   "metadata": {},
   "outputs": [],
   "source": [
    "path = Path('../../../../')"
   ]
  },
  {
   "cell_type": "code",
   "execution_count": 3,
   "metadata": {},
   "outputs": [],
   "source": [
    "track_like_df = pd.read_csv(path/'ml/EDA/outputs/track_like_df.csv')\n",
    "track_like_df = track_like_df[['USER_ID', 'TRACK_ID']].assign(r=3)\n",
    "track_like_df.columns = ['user', 'track', 'score']"
   ]
  },
  {
   "cell_type": "code",
   "execution_count": 4,
   "metadata": {},
   "outputs": [],
   "source": [
    "track_download_df = pd.read_csv(path/'ml/EDA/outputs/track_download_df.csv')\n",
    "track_download_df = track_download_df[['USER_ID', 'TRACK_ID']].assign(r=1)\n",
    "track_download_df.columns = ['user', 'track', 'score']"
   ]
  },
  {
   "cell_type": "code",
   "execution_count": 5,
   "metadata": {},
   "outputs": [],
   "source": [
    "track_purchase_df = pd.read_csv(path/'ml/EDA/outputs/track_purchase_df.csv')\n",
    "track_purchase_df = track_purchase_df[['USER_ID','TRACK_ID']].assign(r=2)\n",
    "track_purchase_df.columns = ['user','track','score']"
   ]
  },
  {
   "cell_type": "code",
   "execution_count": 6,
   "metadata": {},
   "outputs": [],
   "source": [
    "user_info_df = pd.read_csv(path/'ml/EDA/outputs/user_info.csv')"
   ]
  },
  {
   "cell_type": "code",
   "execution_count": 7,
   "metadata": {},
   "outputs": [
    {
     "data": {
      "text/html": [
       "<div>\n",
       "<style scoped>\n",
       "    .dataframe tbody tr th:only-of-type {\n",
       "        vertical-align: middle;\n",
       "    }\n",
       "\n",
       "    .dataframe tbody tr th {\n",
       "        vertical-align: top;\n",
       "    }\n",
       "\n",
       "    .dataframe thead th {\n",
       "        text-align: right;\n",
       "    }\n",
       "</style>\n",
       "<table border=\"1\" class=\"dataframe\">\n",
       "  <thead>\n",
       "    <tr style=\"text-align: right;\">\n",
       "      <th></th>\n",
       "      <th>USER_ID</th>\n",
       "      <th>noTrack_purchases</th>\n",
       "      <th>noAlbum_purchases</th>\n",
       "      <th>noTrack_likes</th>\n",
       "      <th>noAlbum_likes</th>\n",
       "      <th>noArtist_likes</th>\n",
       "      <th>noTrack_downloads</th>\n",
       "      <th>noAlbum_downloads</th>\n",
       "      <th>total_interactions</th>\n",
       "    </tr>\n",
       "  </thead>\n",
       "  <tbody>\n",
       "    <tr>\n",
       "      <th>10812</th>\n",
       "      <td>3606398</td>\n",
       "      <td>1007.0</td>\n",
       "      <td>1110.0</td>\n",
       "      <td>NaN</td>\n",
       "      <td>7.0</td>\n",
       "      <td>20.0</td>\n",
       "      <td>14642.0</td>\n",
       "      <td>1561.0</td>\n",
       "      <td>18347.0</td>\n",
       "    </tr>\n",
       "    <tr>\n",
       "      <th>9623</th>\n",
       "      <td>3603424</td>\n",
       "      <td>2627.0</td>\n",
       "      <td>863.0</td>\n",
       "      <td>NaN</td>\n",
       "      <td>NaN</td>\n",
       "      <td>8.0</td>\n",
       "      <td>12415.0</td>\n",
       "      <td>1626.0</td>\n",
       "      <td>17539.0</td>\n",
       "    </tr>\n",
       "    <tr>\n",
       "      <th>16</th>\n",
       "      <td>3568922</td>\n",
       "      <td>5.0</td>\n",
       "      <td>4.0</td>\n",
       "      <td>24.0</td>\n",
       "      <td>3827.0</td>\n",
       "      <td>2147.0</td>\n",
       "      <td>9019.0</td>\n",
       "      <td>1550.0</td>\n",
       "      <td>16576.0</td>\n",
       "    </tr>\n",
       "    <tr>\n",
       "      <th>5780</th>\n",
       "      <td>3593600</td>\n",
       "      <td>243.0</td>\n",
       "      <td>980.0</td>\n",
       "      <td>NaN</td>\n",
       "      <td>11.0</td>\n",
       "      <td>18.0</td>\n",
       "      <td>12388.0</td>\n",
       "      <td>1315.0</td>\n",
       "      <td>14955.0</td>\n",
       "    </tr>\n",
       "    <tr>\n",
       "      <th>179077</th>\n",
       "      <td>64359968</td>\n",
       "      <td>6747.0</td>\n",
       "      <td>NaN</td>\n",
       "      <td>NaN</td>\n",
       "      <td>1.0</td>\n",
       "      <td>2.0</td>\n",
       "      <td>6747.0</td>\n",
       "      <td>988.0</td>\n",
       "      <td>14485.0</td>\n",
       "    </tr>\n",
       "    <tr>\n",
       "      <th>...</th>\n",
       "      <td>...</td>\n",
       "      <td>...</td>\n",
       "      <td>...</td>\n",
       "      <td>...</td>\n",
       "      <td>...</td>\n",
       "      <td>...</td>\n",
       "      <td>...</td>\n",
       "      <td>...</td>\n",
       "      <td>...</td>\n",
       "    </tr>\n",
       "    <tr>\n",
       "      <th>277887</th>\n",
       "      <td>321749603</td>\n",
       "      <td>NaN</td>\n",
       "      <td>NaN</td>\n",
       "      <td>1.0</td>\n",
       "      <td>NaN</td>\n",
       "      <td>NaN</td>\n",
       "      <td>NaN</td>\n",
       "      <td>NaN</td>\n",
       "      <td>1.0</td>\n",
       "    </tr>\n",
       "    <tr>\n",
       "      <th>277914</th>\n",
       "      <td>321860997</td>\n",
       "      <td>NaN</td>\n",
       "      <td>NaN</td>\n",
       "      <td>1.0</td>\n",
       "      <td>NaN</td>\n",
       "      <td>NaN</td>\n",
       "      <td>NaN</td>\n",
       "      <td>NaN</td>\n",
       "      <td>1.0</td>\n",
       "    </tr>\n",
       "    <tr>\n",
       "      <th>277922</th>\n",
       "      <td>321886366</td>\n",
       "      <td>NaN</td>\n",
       "      <td>NaN</td>\n",
       "      <td>1.0</td>\n",
       "      <td>NaN</td>\n",
       "      <td>NaN</td>\n",
       "      <td>NaN</td>\n",
       "      <td>NaN</td>\n",
       "      <td>1.0</td>\n",
       "    </tr>\n",
       "    <tr>\n",
       "      <th>277924</th>\n",
       "      <td>321892524</td>\n",
       "      <td>NaN</td>\n",
       "      <td>NaN</td>\n",
       "      <td>1.0</td>\n",
       "      <td>NaN</td>\n",
       "      <td>NaN</td>\n",
       "      <td>NaN</td>\n",
       "      <td>NaN</td>\n",
       "      <td>1.0</td>\n",
       "    </tr>\n",
       "    <tr>\n",
       "      <th>586784</th>\n",
       "      <td>557797412</td>\n",
       "      <td>NaN</td>\n",
       "      <td>1.0</td>\n",
       "      <td>NaN</td>\n",
       "      <td>NaN</td>\n",
       "      <td>NaN</td>\n",
       "      <td>NaN</td>\n",
       "      <td>NaN</td>\n",
       "      <td>1.0</td>\n",
       "    </tr>\n",
       "  </tbody>\n",
       "</table>\n",
       "<p>586785 rows × 9 columns</p>\n",
       "</div>"
      ],
      "text/plain": [
       "          USER_ID  noTrack_purchases  noAlbum_purchases  noTrack_likes  \\\n",
       "10812     3606398             1007.0             1110.0            NaN   \n",
       "9623      3603424             2627.0              863.0            NaN   \n",
       "16        3568922                5.0                4.0           24.0   \n",
       "5780      3593600              243.0              980.0            NaN   \n",
       "179077   64359968             6747.0                NaN            NaN   \n",
       "...           ...                ...                ...            ...   \n",
       "277887  321749603                NaN                NaN            1.0   \n",
       "277914  321860997                NaN                NaN            1.0   \n",
       "277922  321886366                NaN                NaN            1.0   \n",
       "277924  321892524                NaN                NaN            1.0   \n",
       "586784  557797412                NaN                1.0            NaN   \n",
       "\n",
       "        noAlbum_likes  noArtist_likes  noTrack_downloads  noAlbum_downloads  \\\n",
       "10812             7.0            20.0            14642.0             1561.0   \n",
       "9623              NaN             8.0            12415.0             1626.0   \n",
       "16             3827.0          2147.0             9019.0             1550.0   \n",
       "5780             11.0            18.0            12388.0             1315.0   \n",
       "179077            1.0             2.0             6747.0              988.0   \n",
       "...               ...             ...                ...                ...   \n",
       "277887            NaN             NaN                NaN                NaN   \n",
       "277914            NaN             NaN                NaN                NaN   \n",
       "277922            NaN             NaN                NaN                NaN   \n",
       "277924            NaN             NaN                NaN                NaN   \n",
       "586784            NaN             NaN                NaN                NaN   \n",
       "\n",
       "        total_interactions  \n",
       "10812              18347.0  \n",
       "9623               17539.0  \n",
       "16                 16576.0  \n",
       "5780               14955.0  \n",
       "179077             14485.0  \n",
       "...                    ...  \n",
       "277887                 1.0  \n",
       "277914                 1.0  \n",
       "277922                 1.0  \n",
       "277924                 1.0  \n",
       "586784                 1.0  \n",
       "\n",
       "[586785 rows x 9 columns]"
      ]
     },
     "execution_count": 7,
     "metadata": {},
     "output_type": "execute_result"
    }
   ],
   "source": [
    "user_info_df.sort_values('total_interactions',ascending=False)"
   ]
  },
  {
   "cell_type": "code",
   "execution_count": 8,
   "metadata": {},
   "outputs": [
    {
     "name": "stdout",
     "output_type": "stream",
     "text": [
      "(346043, 3)\n",
      "(16266541, 3)\n",
      "(3367956, 3)\n",
      "(586785, 9)\n"
     ]
    }
   ],
   "source": [
    "print(track_like_df.shape)\n",
    "print(track_download_df.shape)\n",
    "print(track_purchase_df.shape)\n",
    "print(user_info_df.shape)"
   ]
  },
  {
   "cell_type": "code",
   "execution_count": 9,
   "metadata": {},
   "outputs": [
    {
     "data": {
      "text/plain": [
       "(16612906, 3)"
      ]
     },
     "execution_count": 9,
     "metadata": {},
     "output_type": "execute_result"
    }
   ],
   "source": [
    "total = pd.concat([track_download_df, track_like_df, track_purchase_df])\n",
    "total = total.groupby(['user', 'track']).score.sum().reset_index()\n",
    "total.shape"
   ]
  },
  {
   "cell_type": "code",
   "execution_count": 10,
   "metadata": {},
   "outputs": [
    {
     "data": {
      "text/plain": [
       "(201779,)"
      ]
     },
     "execution_count": 10,
     "metadata": {},
     "output_type": "execute_result"
    }
   ],
   "source": [
    "min_interactions = 20\n",
    "target_users = user_info_df.loc[user_info_df['total_interactions']>=min_interactions]['USER_ID'].values\n",
    "target_users.shape"
   ]
  },
  {
   "cell_type": "code",
   "execution_count": 11,
   "metadata": {},
   "outputs": [
    {
     "data": {
      "text/plain": [
       "(14626903, 3)"
      ]
     },
     "execution_count": 11,
     "metadata": {},
     "output_type": "execute_result"
    }
   ],
   "source": [
    "total = total.loc[total['user'].isin(target_users)]\n",
    "total.shape"
   ]
  },
  {
   "cell_type": "code",
   "execution_count": 12,
   "metadata": {},
   "outputs": [
    {
     "data": {
      "text/html": [
       "<div>\n",
       "<style scoped>\n",
       "    .dataframe tbody tr th:only-of-type {\n",
       "        vertical-align: middle;\n",
       "    }\n",
       "\n",
       "    .dataframe tbody tr th {\n",
       "        vertical-align: top;\n",
       "    }\n",
       "\n",
       "    .dataframe thead th {\n",
       "        text-align: right;\n",
       "    }\n",
       "</style>\n",
       "<table border=\"1\" class=\"dataframe\">\n",
       "  <thead>\n",
       "    <tr style=\"text-align: right;\">\n",
       "      <th></th>\n",
       "      <th>user</th>\n",
       "      <th>track</th>\n",
       "      <th>score</th>\n",
       "    </tr>\n",
       "  </thead>\n",
       "  <tbody>\n",
       "    <tr>\n",
       "      <th>count</th>\n",
       "      <td>1.462690e+07</td>\n",
       "      <td>1.462690e+07</td>\n",
       "      <td>1.462690e+07</td>\n",
       "    </tr>\n",
       "    <tr>\n",
       "      <th>mean</th>\n",
       "      <td>1.635643e+08</td>\n",
       "      <td>1.748329e+08</td>\n",
       "      <td>1.422875e+00</td>\n",
       "    </tr>\n",
       "    <tr>\n",
       "      <th>std</th>\n",
       "      <td>2.077138e+08</td>\n",
       "      <td>2.212620e+08</td>\n",
       "      <td>8.177910e-01</td>\n",
       "    </tr>\n",
       "    <tr>\n",
       "      <th>min</th>\n",
       "      <td>3.568884e+06</td>\n",
       "      <td>2.828445e+06</td>\n",
       "      <td>1.000000e+00</td>\n",
       "    </tr>\n",
       "    <tr>\n",
       "      <th>25%</th>\n",
       "      <td>8.039696e+06</td>\n",
       "      <td>2.867901e+06</td>\n",
       "      <td>1.000000e+00</td>\n",
       "    </tr>\n",
       "    <tr>\n",
       "      <th>50%</th>\n",
       "      <td>3.860113e+07</td>\n",
       "      <td>2.484243e+07</td>\n",
       "      <td>1.000000e+00</td>\n",
       "    </tr>\n",
       "    <tr>\n",
       "      <th>75%</th>\n",
       "      <td>3.645557e+08</td>\n",
       "      <td>4.687258e+08</td>\n",
       "      <td>1.000000e+00</td>\n",
       "    </tr>\n",
       "    <tr>\n",
       "      <th>max</th>\n",
       "      <td>5.577695e+08</td>\n",
       "      <td>5.577667e+08</td>\n",
       "      <td>6.000000e+00</td>\n",
       "    </tr>\n",
       "  </tbody>\n",
       "</table>\n",
       "</div>"
      ],
      "text/plain": [
       "               user         track         score\n",
       "count  1.462690e+07  1.462690e+07  1.462690e+07\n",
       "mean   1.635643e+08  1.748329e+08  1.422875e+00\n",
       "std    2.077138e+08  2.212620e+08  8.177910e-01\n",
       "min    3.568884e+06  2.828445e+06  1.000000e+00\n",
       "25%    8.039696e+06  2.867901e+06  1.000000e+00\n",
       "50%    3.860113e+07  2.484243e+07  1.000000e+00\n",
       "75%    3.645557e+08  4.687258e+08  1.000000e+00\n",
       "max    5.577695e+08  5.577667e+08  6.000000e+00"
      ]
     },
     "execution_count": 12,
     "metadata": {},
     "output_type": "execute_result"
    }
   ],
   "source": [
    "total.describe()"
   ]
  },
  {
   "cell_type": "code",
   "execution_count": 13,
   "metadata": {},
   "outputs": [
    {
     "data": {
      "text/plain": [
       "(201753, 95964)"
      ]
     },
     "execution_count": 13,
     "metadata": {},
     "output_type": "execute_result"
    }
   ],
   "source": [
    "total['user'].nunique(),total['track'].nunique()"
   ]
  },
  {
   "cell_type": "code",
   "execution_count": 14,
   "metadata": {},
   "outputs": [],
   "source": [
    "def train_valid_split(rating_df, no_users, no_items_per_user):\n",
    "    gb = rating_df.groupby('user')\n",
    "    test_df = pd.concat([gb.get_group(group)[:no_items_per_user] for i,group in enumerate(gb.groups) if i < no_users])\n",
    "    train_df = pd.concat([rating_df,test_df]).drop_duplicates(keep=False)\n",
    "    test_df =  test_df.loc[(test_df['user'].isin(train_df['user']) & (test_df['track'].isin(train_df['track'])))]\n",
    "    return train_df,test_df"
   ]
  },
  {
   "cell_type": "code",
   "execution_count": 15,
   "metadata": {},
   "outputs": [
    {
     "data": {
      "text/plain": [
       "((14616958, 3), (9448, 3))"
      ]
     },
     "execution_count": 15,
     "metadata": {},
     "output_type": "execute_result"
    }
   ],
   "source": [
    "train_df,test_df = train_valid_split(total, 1000, 10)\n",
    "train_df.shape,test_df.shape"
   ]
  },
  {
   "cell_type": "code",
   "execution_count": 16,
   "metadata": {},
   "outputs": [
    {
     "data": {
      "text/plain": [
       "(201698, 945)"
      ]
     },
     "execution_count": 16,
     "metadata": {},
     "output_type": "execute_result"
    }
   ],
   "source": [
    "train_df['user'].nunique(),test_df['user'].nunique()"
   ]
  },
  {
   "cell_type": "code",
   "execution_count": 17,
   "metadata": {},
   "outputs": [],
   "source": [
    "class RandomRecommender:\n",
    "    def fit(self, scores):\n",
    "        self.tracks = np.unique(scores.track)\n",
    "        \n",
    "    def recommend(self, user_id, count=None):\n",
    "        result = self.tracks.copy()\n",
    "        np.random.shuffle(result)\n",
    "        if count is not None:\n",
    "            result = result[:count]\n",
    "        return result"
   ]
  },
  {
   "cell_type": "code",
   "execution_count": 23,
   "metadata": {},
   "outputs": [],
   "source": [
    "class PopularRecommender:\n",
    "    def fit(self, scores):\n",
    "        self.popular = scores.groupby('track').score.sum().reset_index().sort_values('score', ascending=False)['track'].values\n",
    "        \n",
    "    def recommend(self, user_id, count=None):\n",
    "        result = self.popular\n",
    "        if count is not None:\n",
    "            result = result[:count]\n",
    "        return result\n",
    "    \n",
    "    def recommend_all(self,user_ids,count=10):\n",
    "        recomms = dict()\n",
    "        result = self.popular\n",
    "        for user_id in user_ids:\n",
    "            recomms[user_id]=result[:count]\n",
    "        return  recomms"
   ]
  },
  {
   "cell_type": "code",
   "execution_count": 19,
   "metadata": {},
   "outputs": [],
   "source": [
    "class CollaborativeRecommender:\n",
    "    def __init__(self, rank = 10):\n",
    "        self.rank = rank\n",
    "        self.new_user_recommender = PopularRecommender()\n",
    "        \n",
    "    def fit(self, scores, tol=1e-8, max_iter=4000, random_state=None):\n",
    "        scores = scores.assign(user=scores.user.astype('category'), track=scores.track.astype('category'))\n",
    "        mat = sparse.coo_matrix((\n",
    "            scores.score.values.astype('float32'),\n",
    "            (scores.user.cat.codes.values,\n",
    "             scores.track.cat.codes.values))).tocsr()\n",
    "        model = NMF(n_components=self.rank,tol=tol,max_iter=max_iter,random_state=random_state)\n",
    "        model.fit(mat)\n",
    "        self.new_user_recommender.fit(scores)\n",
    "        self.model = model\n",
    "        self.user_categories = scores.user.cat.categories\n",
    "        self.track_categories = scores.track.cat.categories\n",
    "        self.mat = mat\n",
    "        self.user_index = {Id:index for index, Id in enumerate(scores.user.cat.categories)}\n",
    "        self.track_index = {Id:index for index, Id in enumerate(scores.track.cat.categories)}\n",
    "        \n",
    "    def recommend(self, user_id, count=5):\n",
    "        if user_id not in self.user_index:\n",
    "            return self.new_user_recommender.recommend(user_id, count)\n",
    "        index = self.user_index[user_id]\n",
    "        user_history = self.mat[index]\n",
    "        score_pred = self.model.inverse_transform(self.model.transform(user_history)).squeeze()       \n",
    "        \n",
    "        top_tracks = sorted(zip(score_pred, self.track_categories), reverse=True)\n",
    "        top_tracks = [x[1] for x in top_tracks]\n",
    "        \n",
    "        previously_downloaded = set(self.track_categories[self.mat[index].nonzero()[1]])\n",
    "        top_tracks = [x for x in top_tracks if x not in previously_downloaded]\n",
    "        return top_tracks[:count]\n",
    "    \n",
    "    def predict(self,test_df):\n",
    "        preds = pd.DataFrame(columns=['user','track','actual','est'])\n",
    "        preds[['user','track','actual']] = test_df[['user','track','score']].copy()\n",
    "        for i,row in preds.iterrows():\n",
    "            preds.loc[i,'est'] =  (self.model.inverse_transform(self.model.transform(self.mat[self.user_index[row['user']]]))).squeeze()[self.track_index[row['track']]]\n",
    "        return preds"
   ]
  },
  {
   "cell_type": "code",
   "execution_count": 19,
   "metadata": {
    "scrolled": true
   },
   "outputs": [
    {
     "name": "stderr",
     "output_type": "stream",
     "text": [
      "/Users/macbookpro/anaconda3/lib/python3.6/site-packages/ipykernel_launcher.py:2: FutureWarning: using a dict on a Series for aggregation\n",
      "is deprecated and will be removed in a future version. Use                 named aggregation instead.\n",
      "\n",
      "    >>> grouper.agg(name_1=func_1, name_2=func_2)\n",
      "\n",
      "  \n"
     ]
    },
    {
     "name": "stdout",
     "output_type": "stream",
     "text": [
      "ColaborativeRecommender fit done. fit time: 88.83590722084045 Seconds\n",
      "ColaborativeRecommender prediction done. prediction time: 153.4138810634613 Seconds\n",
      "PopularRecommender fit done. fit time: 0.7122011184692383 Seconds\n",
      "PopularRecommender prediction done. prediction time: 0.0008141994476318359 Seconds\n",
      "RandomRecommender fit done. fit time: 0.8274800777435303 Seconds\n",
      "RandomRecommender prediction done. prediction time: 1.8302509784698486 Seconds\n"
     ]
    },
    {
     "data": {
      "text/html": [
       "<div>\n",
       "<style scoped>\n",
       "    .dataframe tbody tr th:only-of-type {\n",
       "        vertical-align: middle;\n",
       "    }\n",
       "\n",
       "    .dataframe tbody tr th {\n",
       "        vertical-align: top;\n",
       "    }\n",
       "\n",
       "    .dataframe thead th {\n",
       "        text-align: right;\n",
       "    }\n",
       "</style>\n",
       "<table border=\"1\" class=\"dataframe\">\n",
       "  <thead>\n",
       "    <tr style=\"text-align: right;\">\n",
       "      <th></th>\n",
       "      <th>user</th>\n",
       "      <th>actual</th>\n",
       "      <th>ColaborativeRecommender</th>\n",
       "      <th>PopularRecommender</th>\n",
       "      <th>RandomRecommender</th>\n",
       "    </tr>\n",
       "  </thead>\n",
       "  <tbody>\n",
       "    <tr>\n",
       "      <th>0</th>\n",
       "      <td>3568884</td>\n",
       "      <td>[2828448.0, 2828457.0, 2828719.0, 2828721.0, 2...</td>\n",
       "      <td>[7377525.0, 219866931.0, 219866927.0, 21986695...</td>\n",
       "      <td>[6059894.0, 2867903.0, 436926390.0, 2852012.0,...</td>\n",
       "      <td>[2843372.0, 75737694.0, 2852985.0, 512371215.0...</td>\n",
       "    </tr>\n",
       "    <tr>\n",
       "      <th>1</th>\n",
       "      <td>3568886</td>\n",
       "      <td>[2828883.0, 2828468.0, 2828469.0, 2828470.0, 2...</td>\n",
       "      <td>[7377525.0, 219866931.0, 219866927.0, 21986695...</td>\n",
       "      <td>[6059894.0, 2867903.0, 436926390.0, 2852012.0,...</td>\n",
       "      <td>[2849415.0, 519234378.0, 526910560.0, 50319986...</td>\n",
       "    </tr>\n",
       "    <tr>\n",
       "      <th>2</th>\n",
       "      <td>3568888</td>\n",
       "      <td>[2842080.0, 2842081.0, 2829029.0, 2829798.0, 2...</td>\n",
       "      <td>[7377553.0, 12264925.0, 7377525.0, 219866931.0...</td>\n",
       "      <td>[6059894.0, 2867903.0, 436926390.0, 2852012.0,...</td>\n",
       "      <td>[487799530.0, 468637599.0, 482220152.0, 803346...</td>\n",
       "    </tr>\n",
       "    <tr>\n",
       "      <th>3</th>\n",
       "      <td>3568890</td>\n",
       "      <td>[2829891.0, 2829892.0, 2829101.0, 2829197.0, 2...</td>\n",
       "      <td>[7377553.0, 7377525.0, 219866931.0, 219866927....</td>\n",
       "      <td>[6059894.0, 2867903.0, 436926390.0, 2852012.0,...</td>\n",
       "      <td>[2839872.0, 2846794.0, 2857115.0, 2829855.0, 4...</td>\n",
       "    </tr>\n",
       "    <tr>\n",
       "      <th>4</th>\n",
       "      <td>3568892</td>\n",
       "      <td>[2828468.0, 2828469.0, 2828470.0, 2828471.0, 2...</td>\n",
       "      <td>[7377525.0, 219866931.0, 219866927.0, 21986695...</td>\n",
       "      <td>[6059894.0, 2867903.0, 436926390.0, 2852012.0,...</td>\n",
       "      <td>[77321424.0, 2832088.0, 2853713.0, 526283227.0...</td>\n",
       "    </tr>\n",
       "  </tbody>\n",
       "</table>\n",
       "</div>"
      ],
      "text/plain": [
       "      user                                             actual  \\\n",
       "0  3568884  [2828448.0, 2828457.0, 2828719.0, 2828721.0, 2...   \n",
       "1  3568886  [2828883.0, 2828468.0, 2828469.0, 2828470.0, 2...   \n",
       "2  3568888  [2842080.0, 2842081.0, 2829029.0, 2829798.0, 2...   \n",
       "3  3568890  [2829891.0, 2829892.0, 2829101.0, 2829197.0, 2...   \n",
       "4  3568892  [2828468.0, 2828469.0, 2828470.0, 2828471.0, 2...   \n",
       "\n",
       "                             ColaborativeRecommender  \\\n",
       "0  [7377525.0, 219866931.0, 219866927.0, 21986695...   \n",
       "1  [7377525.0, 219866931.0, 219866927.0, 21986695...   \n",
       "2  [7377553.0, 12264925.0, 7377525.0, 219866931.0...   \n",
       "3  [7377553.0, 7377525.0, 219866931.0, 219866927....   \n",
       "4  [7377525.0, 219866931.0, 219866927.0, 21986695...   \n",
       "\n",
       "                                  PopularRecommender  \\\n",
       "0  [6059894.0, 2867903.0, 436926390.0, 2852012.0,...   \n",
       "1  [6059894.0, 2867903.0, 436926390.0, 2852012.0,...   \n",
       "2  [6059894.0, 2867903.0, 436926390.0, 2852012.0,...   \n",
       "3  [6059894.0, 2867903.0, 436926390.0, 2852012.0,...   \n",
       "4  [6059894.0, 2867903.0, 436926390.0, 2852012.0,...   \n",
       "\n",
       "                                   RandomRecommender  \n",
       "0  [2843372.0, 75737694.0, 2852985.0, 512371215.0...  \n",
       "1  [2849415.0, 519234378.0, 526910560.0, 50319986...  \n",
       "2  [487799530.0, 468637599.0, 482220152.0, 803346...  \n",
       "3  [2839872.0, 2846794.0, 2857115.0, 2829855.0, 4...  \n",
       "4  [77321424.0, 2832088.0, 2853713.0, 526283227.0...  "
      ]
     },
     "execution_count": 19,
     "metadata": {},
     "output_type": "execute_result"
    }
   ],
   "source": [
    "recommenders = [ColaborativeRecommender(),PopularRecommender(),RandomRecommender()]\n",
    "test = test_df.copy().groupby('user')['track'].agg({'actual': (lambda x: list(set(x)))})\n",
    "test.reset_index(inplace=True)\n",
    "for recommender in recommenders:\n",
    "    start_time = time.time()\n",
    "    recommender.fit(train_df)\n",
    "    print(recommender.__class__.__name__,'fit done. fit time:',time.time()-start_time,'Seconds')\n",
    "    start_time = time.time()\n",
    "    recs = []\n",
    "    for user in test['user']:\n",
    "        predictions = recommender.recommend(user, 5)\n",
    "        recs.append(predictions)\n",
    "        \n",
    "    print(recommender.__class__.__name__,'prediction done. prediction time:',time.time()-start_time,'Seconds')\n",
    "    test[recommender.__class__.__name__] = recs\n",
    "\n",
    "test.head()"
   ]
  },
  {
   "cell_type": "code",
   "execution_count": 20,
   "metadata": {},
   "outputs": [
    {
     "name": "stdout",
     "output_type": "stream",
     "text": [
      "Collaborative makp score: 0.002738977072310406\n",
      "Popular makp score: 0.00035978835978835974\n",
      "Random makp score: 0.0\n"
     ]
    }
   ],
   "source": [
    "print('Collaborative map@k score:',ml_metrics.mapk(test['actual'],test['ColaborativeRecommender'],k=10))\n",
    "print('Popular map@k score:',ml_metrics.mapk(test['actual'],test['PopularRecommender'],k=10))\n",
    "print('Random map@k score:',ml_metrics.mapk(test['actual'],test['RandomRecommender'],k=10))"
   ]
  },
  {
   "cell_type": "code",
   "execution_count": 21,
   "metadata": {},
   "outputs": [],
   "source": [
    "recommender = ColaborativeRecommender(10)\n",
    "recommender.fit(train_df)"
   ]
  },
  {
   "cell_type": "code",
   "execution_count": 22,
   "metadata": {},
   "outputs": [
    {
     "data": {
      "text/html": [
       "<div>\n",
       "<style scoped>\n",
       "    .dataframe tbody tr th:only-of-type {\n",
       "        vertical-align: middle;\n",
       "    }\n",
       "\n",
       "    .dataframe tbody tr th {\n",
       "        vertical-align: top;\n",
       "    }\n",
       "\n",
       "    .dataframe thead th {\n",
       "        text-align: right;\n",
       "    }\n",
       "</style>\n",
       "<table border=\"1\" class=\"dataframe\">\n",
       "  <thead>\n",
       "    <tr style=\"text-align: right;\">\n",
       "      <th></th>\n",
       "      <th>user</th>\n",
       "      <th>track</th>\n",
       "      <th>actual</th>\n",
       "      <th>est</th>\n",
       "    </tr>\n",
       "  </thead>\n",
       "  <tbody>\n",
       "    <tr>\n",
       "      <th>0</th>\n",
       "      <td>3568884</td>\n",
       "      <td>2828448.0</td>\n",
       "      <td>11.986814</td>\n",
       "      <td>0.00149225</td>\n",
       "    </tr>\n",
       "    <tr>\n",
       "      <th>1</th>\n",
       "      <td>3568884</td>\n",
       "      <td>2828457.0</td>\n",
       "      <td>11.986814</td>\n",
       "      <td>0.00174326</td>\n",
       "    </tr>\n",
       "    <tr>\n",
       "      <th>2</th>\n",
       "      <td>3568884</td>\n",
       "      <td>2828719.0</td>\n",
       "      <td>3.227570</td>\n",
       "      <td>0.255247</td>\n",
       "    </tr>\n",
       "    <tr>\n",
       "      <th>3</th>\n",
       "      <td>3568884</td>\n",
       "      <td>2828721.0</td>\n",
       "      <td>3.227570</td>\n",
       "      <td>0.0815859</td>\n",
       "    </tr>\n",
       "    <tr>\n",
       "      <th>4</th>\n",
       "      <td>3568884</td>\n",
       "      <td>2828724.0</td>\n",
       "      <td>3.227570</td>\n",
       "      <td>0.0721323</td>\n",
       "    </tr>\n",
       "  </tbody>\n",
       "</table>\n",
       "</div>"
      ],
      "text/plain": [
       "      user      track     actual         est\n",
       "0  3568884  2828448.0  11.986814  0.00149225\n",
       "1  3568884  2828457.0  11.986814  0.00174326\n",
       "2  3568884  2828719.0   3.227570    0.255247\n",
       "3  3568884  2828721.0   3.227570   0.0815859\n",
       "4  3568884  2828724.0   3.227570   0.0721323"
      ]
     },
     "execution_count": 22,
     "metadata": {},
     "output_type": "execute_result"
    }
   ],
   "source": [
    "preds = recommender.predict(test_df=test_df)\n",
    "preds.head()"
   ]
  },
  {
   "cell_type": "code",
   "execution_count": 23,
   "metadata": {},
   "outputs": [
    {
     "data": {
      "text/plain": [
       "22756.9095884601"
      ]
     },
     "execution_count": 23,
     "metadata": {},
     "output_type": "execute_result"
    }
   ],
   "source": [
    "recommender.model.reconstruction_err_"
   ]
  },
  {
   "cell_type": "code",
   "execution_count": 35,
   "metadata": {},
   "outputs": [
    {
     "name": "stdout",
     "output_type": "stream",
     "text": [
      "-2.116506791273196\n",
      "51.65366174769558\n"
     ]
    }
   ],
   "source": [
    "print(metrics.r2_score(preds['actual'],preds['est']))\n",
    "print(metrics.mean_squared_error(preds['actual'],preds['est']))"
   ]
  },
  {
   "cell_type": "code",
   "execution_count": 25,
   "metadata": {},
   "outputs": [
    {
     "name": "stdout",
     "output_type": "stream",
     "text": [
      "167 ms ± 1.76 ms per loop (mean ± std. dev. of 7 runs, 10 loops each)\n"
     ]
    }
   ],
   "source": [
    "%%timeit\n",
    "recommender.recommend(user_id=train_df.iloc[0]['user'],count=10)"
   ]
  },
  {
   "cell_type": "markdown",
   "metadata": {},
   "source": [
    "## Using surprise library"
   ]
  },
  {
   "cell_type": "code",
   "execution_count": 16,
   "metadata": {},
   "outputs": [],
   "source": [
    "import surprise\n",
    "from surprise import Reader\n",
    "from surprise import Dataset\n",
    "from surprise.model_selection import cross_validate,PredefinedKFold\n",
    "from collections import defaultdict"
   ]
  },
  {
   "cell_type": "code",
   "execution_count": 17,
   "metadata": {},
   "outputs": [],
   "source": [
    "def precision_recall_at_k(predictions, k=10, threshold=3.5):\n",
    "    '''Return precision and recall at k metrics for each user.'''\n",
    "    c = 0\n",
    "    # First map the predictions to each user.\n",
    "    user_est_true = defaultdict(list)\n",
    "    for uid, _, true_r, est, _ in predictions:\n",
    "        user_est_true[uid].append((est, true_r))\n",
    "\n",
    "    precisions = dict()\n",
    "    recalls = dict()\n",
    "    for uid, user_ratings in user_est_true.items():\n",
    "\n",
    "        # Sort user ratings by estimated value\n",
    "        user_ratings.sort(key=lambda x: x[0], reverse=True)\n",
    "\n",
    "        # Number of relevant items\n",
    "        n_rel = sum((true_r >= threshold) for (_, true_r) in user_ratings)\n",
    "        \n",
    "        if n_rel == 0:\n",
    "            c += 1\n",
    "            continue\n",
    "\n",
    "        # Number of recommended items in top k\n",
    "        n_rec_k = sum((est >= threshold) for (est, _) in user_ratings[:k])\n",
    "\n",
    "        # Number of relevant and recommended items in top k\n",
    "        n_rel_and_rec_k = sum(((true_r >= threshold) and (est >= threshold))\n",
    "                              for (est, true_r) in user_ratings[:k])\n",
    "\n",
    "        # Precision@K: Proportion of recommended items that are relevant\n",
    "        precisions[uid] = n_rel_and_rec_k / n_rec_k if n_rec_k != 0 else 0\n",
    "\n",
    "        # Recall@K: Proportion of relevant items that are recommended\n",
    "        recalls[uid] = n_rel_and_rec_k / n_rel\n",
    "        \n",
    "#         print(n_rel,n_rec_k,n_rel_and_rec_k)\n",
    "        \n",
    "    print(c)\n",
    "\n",
    "    return precisions, recalls\n"
   ]
  },
  {
   "cell_type": "code",
   "execution_count": 18,
   "metadata": {},
   "outputs": [],
   "source": [
    "def get_top_n(predictions, n=10):\n",
    "    '''Return the top-N recommendation for each user from a set of predictions.\n",
    "\n",
    "    Args:\n",
    "        predictions(list of Prediction objects): The list of predictions, as\n",
    "            returned by the test method of an algorithm.\n",
    "        n(int): The number of recommendation to output for each user. Default\n",
    "            is 10.\n",
    "\n",
    "    Returns:\n",
    "    A dict where keys are user (raw) ids and values are lists of tuples:\n",
    "        [(raw item id, rating estimation), ...] of size n.\n",
    "    '''\n",
    "\n",
    "    # First map the predictions to each user.\n",
    "    top_n = defaultdict(list)\n",
    "    for uid, iid, true_r, est, _ in predictions:\n",
    "        top_n[uid].append((iid, est))\n",
    "\n",
    "    # Then sort the predictions for each user and retrieve the k highest ones.\n",
    "    for uid, user_ratings in top_n.items():\n",
    "        user_ratings.sort(key=lambda x: x[1], reverse=True)\n",
    "        top_n[uid] = user_ratings[:n]\n",
    "\n",
    "    return top_n\n"
   ]
  },
  {
   "cell_type": "code",
   "execution_count": 64,
   "metadata": {},
   "outputs": [],
   "source": [
    "reader = Reader(rating_scale=(train_df['score'].min(),train_df['score'].max()))\n",
    "train_ds = Dataset.load_from_df(train_df,reader=reader)"
   ]
  },
  {
   "cell_type": "code",
   "execution_count": 65,
   "metadata": {},
   "outputs": [],
   "source": [
    "trainset = train_ds.build_full_trainset()"
   ]
  },
  {
   "cell_type": "code",
   "execution_count": 66,
   "metadata": {},
   "outputs": [],
   "source": [
    "testset = [(row['user'],row['track'],row['score']) for i,row in test_df.iterrows()]"
   ]
  },
  {
   "cell_type": "code",
   "execution_count": 67,
   "metadata": {
    "scrolled": true
   },
   "outputs": [
    {
     "name": "stdout",
     "output_type": "stream",
     "text": [
      "Processing epoch 0\n",
      "Processing epoch 1\n",
      "Processing epoch 2\n",
      "Processing epoch 3\n",
      "Processing epoch 4\n",
      "Processing epoch 5\n",
      "Processing epoch 6\n",
      "Processing epoch 7\n",
      "Processing epoch 8\n",
      "Processing epoch 9\n",
      "Processing epoch 10\n",
      "Processing epoch 11\n",
      "Processing epoch 12\n",
      "Processing epoch 13\n",
      "Processing epoch 14\n",
      "Processing epoch 15\n",
      "Processing epoch 16\n",
      "Processing epoch 17\n",
      "Processing epoch 18\n",
      "Processing epoch 19\n",
      "Processing epoch 20\n",
      "Processing epoch 21\n",
      "Processing epoch 22\n",
      "Processing epoch 23\n",
      "Processing epoch 24\n",
      "Processing epoch 25\n",
      "Processing epoch 26\n",
      "Processing epoch 27\n",
      "Processing epoch 28\n",
      "Processing epoch 29\n",
      "Processing epoch 30\n",
      "Processing epoch 31\n",
      "Processing epoch 32\n",
      "Processing epoch 33\n",
      "Processing epoch 34\n",
      "Processing epoch 35\n",
      "Processing epoch 36\n",
      "Processing epoch 37\n",
      "Processing epoch 38\n",
      "Processing epoch 39\n",
      "Processing epoch 40\n",
      "Processing epoch 41\n",
      "Processing epoch 42\n",
      "Processing epoch 43\n",
      "Processing epoch 44\n",
      "Processing epoch 45\n",
      "Processing epoch 46\n",
      "Processing epoch 47\n",
      "Processing epoch 48\n",
      "Processing epoch 49\n",
      "Processing epoch 50\n",
      "Processing epoch 51\n",
      "Processing epoch 52\n",
      "Processing epoch 53\n",
      "Processing epoch 54\n",
      "Processing epoch 55\n",
      "Processing epoch 56\n",
      "Processing epoch 57\n",
      "Processing epoch 58\n",
      "Processing epoch 59\n",
      "Processing epoch 60\n",
      "Processing epoch 61\n",
      "Processing epoch 62\n",
      "Processing epoch 63\n",
      "Processing epoch 64\n",
      "Processing epoch 65\n",
      "Processing epoch 66\n",
      "Processing epoch 67\n",
      "Processing epoch 68\n",
      "Processing epoch 69\n",
      "Processing epoch 70\n",
      "Processing epoch 71\n",
      "Processing epoch 72\n",
      "Processing epoch 73\n",
      "Processing epoch 74\n",
      "Processing epoch 75\n",
      "Processing epoch 76\n",
      "Processing epoch 77\n",
      "Processing epoch 78\n",
      "Processing epoch 79\n",
      "Processing epoch 80\n",
      "Processing epoch 81\n",
      "Processing epoch 82\n",
      "Processing epoch 83\n",
      "Processing epoch 84\n",
      "Processing epoch 85\n",
      "Processing epoch 86\n",
      "Processing epoch 87\n",
      "Processing epoch 88\n",
      "Processing epoch 89\n",
      "Processing epoch 90\n",
      "Processing epoch 91\n",
      "Processing epoch 92\n",
      "Processing epoch 93\n",
      "Processing epoch 94\n",
      "Processing epoch 95\n",
      "Processing epoch 96\n",
      "Processing epoch 97\n",
      "Processing epoch 98\n",
      "Processing epoch 99\n",
      "training time: 2224.8027667999268 Seconds\n"
     ]
    }
   ],
   "source": [
    "start_time = time.time()\n",
    "algo = surprise.NMF(n_factors=30,n_epochs=100,biased=True,random_state=28,verbose=True)\n",
    "algo.fit(trainset)\n",
    "print('training time:',time.time()-start_time,'Seconds')"
   ]
  },
  {
   "cell_type": "code",
   "execution_count": 68,
   "metadata": {},
   "outputs": [
    {
     "name": "stdout",
     "output_type": "stream",
     "text": [
      "prediction time: 0.07785677909851074 Seconds\n"
     ]
    }
   ],
   "source": [
    "start_time = time.time()\n",
    "predictions = algo.test(testset)\n",
    "predictions_df = pd.DataFrame(predictions)\n",
    "print('prediction time:',time.time()-start_time,'Seconds')"
   ]
  },
  {
   "cell_type": "code",
   "execution_count": 69,
   "metadata": {},
   "outputs": [
    {
     "data": {
      "text/html": [
       "<div>\n",
       "<style scoped>\n",
       "    .dataframe tbody tr th:only-of-type {\n",
       "        vertical-align: middle;\n",
       "    }\n",
       "\n",
       "    .dataframe tbody tr th {\n",
       "        vertical-align: top;\n",
       "    }\n",
       "\n",
       "    .dataframe thead th {\n",
       "        text-align: right;\n",
       "    }\n",
       "</style>\n",
       "<table border=\"1\" class=\"dataframe\">\n",
       "  <thead>\n",
       "    <tr style=\"text-align: right;\">\n",
       "      <th></th>\n",
       "      <th>uid</th>\n",
       "      <th>iid</th>\n",
       "      <th>r_ui</th>\n",
       "      <th>est</th>\n",
       "      <th>details</th>\n",
       "    </tr>\n",
       "  </thead>\n",
       "  <tbody>\n",
       "    <tr>\n",
       "      <th>0</th>\n",
       "      <td>3568884.0</td>\n",
       "      <td>2828448.0</td>\n",
       "      <td>3.0</td>\n",
       "      <td>1.000000</td>\n",
       "      <td>{'was_impossible': False}</td>\n",
       "    </tr>\n",
       "    <tr>\n",
       "      <th>1</th>\n",
       "      <td>3568884.0</td>\n",
       "      <td>2828457.0</td>\n",
       "      <td>3.0</td>\n",
       "      <td>1.000000</td>\n",
       "      <td>{'was_impossible': False}</td>\n",
       "    </tr>\n",
       "    <tr>\n",
       "      <th>2</th>\n",
       "      <td>3568884.0</td>\n",
       "      <td>2828719.0</td>\n",
       "      <td>1.0</td>\n",
       "      <td>1.868288</td>\n",
       "      <td>{'was_impossible': False}</td>\n",
       "    </tr>\n",
       "    <tr>\n",
       "      <th>3</th>\n",
       "      <td>3568884.0</td>\n",
       "      <td>2828721.0</td>\n",
       "      <td>1.0</td>\n",
       "      <td>1.119160</td>\n",
       "      <td>{'was_impossible': False}</td>\n",
       "    </tr>\n",
       "    <tr>\n",
       "      <th>4</th>\n",
       "      <td>3568884.0</td>\n",
       "      <td>2828724.0</td>\n",
       "      <td>1.0</td>\n",
       "      <td>1.106811</td>\n",
       "      <td>{'was_impossible': False}</td>\n",
       "    </tr>\n",
       "    <tr>\n",
       "      <th>...</th>\n",
       "      <td>...</td>\n",
       "      <td>...</td>\n",
       "      <td>...</td>\n",
       "      <td>...</td>\n",
       "      <td>...</td>\n",
       "    </tr>\n",
       "    <tr>\n",
       "      <th>9443</th>\n",
       "      <td>3580324.0</td>\n",
       "      <td>2828795.0</td>\n",
       "      <td>3.0</td>\n",
       "      <td>2.575708</td>\n",
       "      <td>{'was_impossible': False}</td>\n",
       "    </tr>\n",
       "    <tr>\n",
       "      <th>9444</th>\n",
       "      <td>3580324.0</td>\n",
       "      <td>2828913.0</td>\n",
       "      <td>3.0</td>\n",
       "      <td>2.309610</td>\n",
       "      <td>{'was_impossible': False}</td>\n",
       "    </tr>\n",
       "    <tr>\n",
       "      <th>9445</th>\n",
       "      <td>3580324.0</td>\n",
       "      <td>2828976.0</td>\n",
       "      <td>3.0</td>\n",
       "      <td>2.262948</td>\n",
       "      <td>{'was_impossible': False}</td>\n",
       "    </tr>\n",
       "    <tr>\n",
       "      <th>9446</th>\n",
       "      <td>3580324.0</td>\n",
       "      <td>2829022.0</td>\n",
       "      <td>3.0</td>\n",
       "      <td>2.247217</td>\n",
       "      <td>{'was_impossible': False}</td>\n",
       "    </tr>\n",
       "    <tr>\n",
       "      <th>9447</th>\n",
       "      <td>3580324.0</td>\n",
       "      <td>2829094.0</td>\n",
       "      <td>3.0</td>\n",
       "      <td>2.486605</td>\n",
       "      <td>{'was_impossible': False}</td>\n",
       "    </tr>\n",
       "  </tbody>\n",
       "</table>\n",
       "<p>9448 rows × 5 columns</p>\n",
       "</div>"
      ],
      "text/plain": [
       "            uid        iid  r_ui       est                    details\n",
       "0     3568884.0  2828448.0   3.0  1.000000  {'was_impossible': False}\n",
       "1     3568884.0  2828457.0   3.0  1.000000  {'was_impossible': False}\n",
       "2     3568884.0  2828719.0   1.0  1.868288  {'was_impossible': False}\n",
       "3     3568884.0  2828721.0   1.0  1.119160  {'was_impossible': False}\n",
       "4     3568884.0  2828724.0   1.0  1.106811  {'was_impossible': False}\n",
       "...         ...        ...   ...       ...                        ...\n",
       "9443  3580324.0  2828795.0   3.0  2.575708  {'was_impossible': False}\n",
       "9444  3580324.0  2828913.0   3.0  2.309610  {'was_impossible': False}\n",
       "9445  3580324.0  2828976.0   3.0  2.262948  {'was_impossible': False}\n",
       "9446  3580324.0  2829022.0   3.0  2.247217  {'was_impossible': False}\n",
       "9447  3580324.0  2829094.0   3.0  2.486605  {'was_impossible': False}\n",
       "\n",
       "[9448 rows x 5 columns]"
      ]
     },
     "execution_count": 69,
     "metadata": {},
     "output_type": "execute_result"
    }
   ],
   "source": [
    "predictions_df"
   ]
  },
  {
   "cell_type": "code",
   "execution_count": 91,
   "metadata": {
    "scrolled": true
   },
   "outputs": [
    {
     "name": "stdout",
     "output_type": "stream",
     "text": [
      "448\n",
      "map@k: 0.4592164095685223\n",
      "mar@k: 0.4110640030660151\n",
      "r2-score: 0.21842873930101459\n",
      "MSE: 0.6719727962509439\n"
     ]
    }
   ],
   "source": [
    "precisions, recalls = precision_recall_at_k(predictions, k=10, threshold=2)\n",
    "\n",
    "print('map@k:',sum(prec for prec in precisions.values()) / len(precisions))\n",
    "print('mar@k:',sum(rec for rec in recalls.values()) / len(recalls))\n",
    "print('r2-score:',metrics.r2_score(predictions_df['r_ui'],predictions_df['est']))\n",
    "print('MSE:',metrics.mean_squared_error(predictions_df['r_ui'],predictions_df['est']))"
   ]
  },
  {
   "cell_type": "code",
   "execution_count": 93,
   "metadata": {},
   "outputs": [],
   "source": [
    "class Surp_CollaborativeRecommender:\n",
    "\n",
    "    def __init__(self):\n",
    "        self.top_n = defaultdict(list)\n",
    "        return\n",
    "\n",
    "    def fit(self, scores, n_factors=30, n_epochs=100, biased=True, random_state=None, verbose=False):\n",
    "        self.reader = Reader(rating_scale=(scores['score'].min(), scores['score'].max()))\n",
    "        self.scores = scores\n",
    "        self.scores_ds = Dataset.load_from_df(self.scores, reader=self.reader)\n",
    "        self.trainset = self.scores_ds.build_full_trainset()\n",
    "        self.algo = surprise.NMF(n_factors=n_factors, n_epochs=n_epochs, biased=biased, random_state=random_state,\n",
    "                                 verbose=verbose)\n",
    "        self.algo.fit(trainset=self.trainset)\n",
    "\n",
    "    def recommend(self, user_id, count=10):\n",
    "        if len(self.top_n[user_id]) != 0:\n",
    "            return np.array(self.top_n[user_id])[:,0]\n",
    "        predictions = []\n",
    "        for track_id in self.scores.track.unique():\n",
    "            predictions.append(self.algo.predict(user_id,track_id))\n",
    "        for uid, iid, true_r, est, _ in predictions:\n",
    "            self.top_n[uid].append((iid, est))\n",
    "\n",
    "        for uid, user_ratings in self.top_n.items():\n",
    "            user_ratings.sort(key=lambda x: x[1], reverse=True)\n",
    "            self.top_n[uid] = user_ratings[:count]\n",
    "            \n",
    "        return np.array(self.top_n[user_id])[:,0]\n",
    "\n",
    "    def recommend_all(self,user_ids=None,count=10):\n",
    "        recomms = dict()\n",
    "        for user_id in user_ids:\n",
    "            recomms[user_id]=self.recommend(user_id,count)\n",
    "\n",
    "        return recomms"
   ]
  },
  {
   "cell_type": "code",
   "execution_count": 94,
   "metadata": {},
   "outputs": [
    {
     "name": "stdout",
     "output_type": "stream",
     "text": [
      "Processing epoch 0\n"
     ]
    }
   ],
   "source": [
    "scr = Surp_CollaborativeRecommender()\n",
    "scr.fit(total,n_epochs=1,verbose=True)"
   ]
  }
 ],
 "metadata": {
  "kernelspec": {
   "display_name": "Python 3",
   "language": "python",
   "name": "python3"
  },
  "language_info": {
   "codemirror_mode": {
    "name": "ipython",
    "version": 3
   },
   "file_extension": ".py",
   "mimetype": "text/x-python",
   "name": "python",
   "nbconvert_exporter": "python",
   "pygments_lexer": "ipython3",
   "version": "3.7.4"
  }
 },
 "nbformat": 4,
 "nbformat_minor": 4
}
